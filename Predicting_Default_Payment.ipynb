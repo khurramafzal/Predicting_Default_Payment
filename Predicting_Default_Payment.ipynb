{
 "cells": [
  {
   "cell_type": "markdown",
   "metadata": {
    "id": "_K0LXuOUsuqt"
   },
   "source": [
    "# Predicting default payment for credit card clients"
   ]
  },
  {
   "cell_type": "markdown",
   "metadata": {
    "id": "hW3mUEowBho2"
   },
   "source": [
    "# Introduction"
   ]
  },
  {
   "cell_type": "markdown",
   "metadata": {
    "id": "h5HFAw9Sa2i1"
   },
   "source": [
    "Credit default can be defined as the failure to repay a debt including interest or principal on a loan or security on the due date. This can cause losses for lenders so that preventive measures is a must, in which early detection for potential default can be one of those. \n",
    ">\n",
    "The objective of this project is to build a ML model to predit whether the client will default the payment in the coming month."
   ]
  },
  {
   "cell_type": "markdown",
   "metadata": {
    "id": "uuDFTmoomrP-"
   },
   "source": [
    "Data Source: https://www.kaggle.com/uciml/default-of-credit-card-clients-dataset"
   ]
  },
  {
   "cell_type": "code",
   "execution_count": 2,
   "metadata": {
    "id": "4QixjX_-OIWQ"
   },
   "outputs": [],
   "source": [
    "#import libraries\n",
    "\n",
    "import pandas as pd\n",
    "import numpy as np\n",
    "\n",
    "import matplotlib.pyplot as plt\n",
    "%matplotlib inline\n",
    "\n",
    "import seaborn as sns\n",
    "sns.set_style('whitegrid')\n",
    "\n",
    "from scipy.stats import mode\n"
   ]
  },
  {
   "cell_type": "code",
   "execution_count": 3,
   "metadata": {
    "colab": {
     "base_uri": "https://localhost:8080/",
     "height": 0
    },
    "id": "wok60OU9Qmhm",
    "outputId": "f38014e2-8f04-4b19-aafc-f01569f4abad"
   },
   "outputs": [
    {
     "data": {
      "text/html": [
       "<div>\n",
       "<style scoped>\n",
       "    .dataframe tbody tr th:only-of-type {\n",
       "        vertical-align: middle;\n",
       "    }\n",
       "\n",
       "    .dataframe tbody tr th {\n",
       "        vertical-align: top;\n",
       "    }\n",
       "\n",
       "    .dataframe thead th {\n",
       "        text-align: right;\n",
       "    }\n",
       "</style>\n",
       "<table border=\"1\" class=\"dataframe\">\n",
       "  <thead>\n",
       "    <tr style=\"text-align: right;\">\n",
       "      <th></th>\n",
       "      <th>LIMIT_BAL</th>\n",
       "      <th>SEX</th>\n",
       "      <th>EDUCATION</th>\n",
       "      <th>MARRIAGE</th>\n",
       "      <th>AGE</th>\n",
       "      <th>PAY_0</th>\n",
       "      <th>PAY_2</th>\n",
       "      <th>PAY_3</th>\n",
       "      <th>PAY_4</th>\n",
       "      <th>PAY_5</th>\n",
       "      <th>...</th>\n",
       "      <th>BILL_AMT4</th>\n",
       "      <th>BILL_AMT5</th>\n",
       "      <th>BILL_AMT6</th>\n",
       "      <th>PAY_AMT1</th>\n",
       "      <th>PAY_AMT2</th>\n",
       "      <th>PAY_AMT3</th>\n",
       "      <th>PAY_AMT4</th>\n",
       "      <th>PAY_AMT5</th>\n",
       "      <th>PAY_AMT6</th>\n",
       "      <th>default.payment.next.month</th>\n",
       "    </tr>\n",
       "    <tr>\n",
       "      <th>ID</th>\n",
       "      <th></th>\n",
       "      <th></th>\n",
       "      <th></th>\n",
       "      <th></th>\n",
       "      <th></th>\n",
       "      <th></th>\n",
       "      <th></th>\n",
       "      <th></th>\n",
       "      <th></th>\n",
       "      <th></th>\n",
       "      <th></th>\n",
       "      <th></th>\n",
       "      <th></th>\n",
       "      <th></th>\n",
       "      <th></th>\n",
       "      <th></th>\n",
       "      <th></th>\n",
       "      <th></th>\n",
       "      <th></th>\n",
       "      <th></th>\n",
       "      <th></th>\n",
       "    </tr>\n",
       "  </thead>\n",
       "  <tbody>\n",
       "    <tr>\n",
       "      <th>1</th>\n",
       "      <td>20000.0</td>\n",
       "      <td>2</td>\n",
       "      <td>2</td>\n",
       "      <td>1</td>\n",
       "      <td>24</td>\n",
       "      <td>2</td>\n",
       "      <td>2</td>\n",
       "      <td>-1</td>\n",
       "      <td>-1</td>\n",
       "      <td>-2</td>\n",
       "      <td>...</td>\n",
       "      <td>0.0</td>\n",
       "      <td>0.0</td>\n",
       "      <td>0.0</td>\n",
       "      <td>0.0</td>\n",
       "      <td>689.0</td>\n",
       "      <td>0.0</td>\n",
       "      <td>0.0</td>\n",
       "      <td>0.0</td>\n",
       "      <td>0.0</td>\n",
       "      <td>1</td>\n",
       "    </tr>\n",
       "    <tr>\n",
       "      <th>2</th>\n",
       "      <td>120000.0</td>\n",
       "      <td>2</td>\n",
       "      <td>2</td>\n",
       "      <td>2</td>\n",
       "      <td>26</td>\n",
       "      <td>-1</td>\n",
       "      <td>2</td>\n",
       "      <td>0</td>\n",
       "      <td>0</td>\n",
       "      <td>0</td>\n",
       "      <td>...</td>\n",
       "      <td>3272.0</td>\n",
       "      <td>3455.0</td>\n",
       "      <td>3261.0</td>\n",
       "      <td>0.0</td>\n",
       "      <td>1000.0</td>\n",
       "      <td>1000.0</td>\n",
       "      <td>1000.0</td>\n",
       "      <td>0.0</td>\n",
       "      <td>2000.0</td>\n",
       "      <td>1</td>\n",
       "    </tr>\n",
       "    <tr>\n",
       "      <th>3</th>\n",
       "      <td>90000.0</td>\n",
       "      <td>2</td>\n",
       "      <td>2</td>\n",
       "      <td>2</td>\n",
       "      <td>34</td>\n",
       "      <td>0</td>\n",
       "      <td>0</td>\n",
       "      <td>0</td>\n",
       "      <td>0</td>\n",
       "      <td>0</td>\n",
       "      <td>...</td>\n",
       "      <td>14331.0</td>\n",
       "      <td>14948.0</td>\n",
       "      <td>15549.0</td>\n",
       "      <td>1518.0</td>\n",
       "      <td>1500.0</td>\n",
       "      <td>1000.0</td>\n",
       "      <td>1000.0</td>\n",
       "      <td>1000.0</td>\n",
       "      <td>5000.0</td>\n",
       "      <td>0</td>\n",
       "    </tr>\n",
       "    <tr>\n",
       "      <th>4</th>\n",
       "      <td>50000.0</td>\n",
       "      <td>2</td>\n",
       "      <td>2</td>\n",
       "      <td>1</td>\n",
       "      <td>37</td>\n",
       "      <td>0</td>\n",
       "      <td>0</td>\n",
       "      <td>0</td>\n",
       "      <td>0</td>\n",
       "      <td>0</td>\n",
       "      <td>...</td>\n",
       "      <td>28314.0</td>\n",
       "      <td>28959.0</td>\n",
       "      <td>29547.0</td>\n",
       "      <td>2000.0</td>\n",
       "      <td>2019.0</td>\n",
       "      <td>1200.0</td>\n",
       "      <td>1100.0</td>\n",
       "      <td>1069.0</td>\n",
       "      <td>1000.0</td>\n",
       "      <td>0</td>\n",
       "    </tr>\n",
       "    <tr>\n",
       "      <th>5</th>\n",
       "      <td>50000.0</td>\n",
       "      <td>1</td>\n",
       "      <td>2</td>\n",
       "      <td>1</td>\n",
       "      <td>57</td>\n",
       "      <td>-1</td>\n",
       "      <td>0</td>\n",
       "      <td>-1</td>\n",
       "      <td>0</td>\n",
       "      <td>0</td>\n",
       "      <td>...</td>\n",
       "      <td>20940.0</td>\n",
       "      <td>19146.0</td>\n",
       "      <td>19131.0</td>\n",
       "      <td>2000.0</td>\n",
       "      <td>36681.0</td>\n",
       "      <td>10000.0</td>\n",
       "      <td>9000.0</td>\n",
       "      <td>689.0</td>\n",
       "      <td>679.0</td>\n",
       "      <td>0</td>\n",
       "    </tr>\n",
       "  </tbody>\n",
       "</table>\n",
       "<p>5 rows × 24 columns</p>\n",
       "</div>"
      ],
      "text/plain": [
       "    LIMIT_BAL  SEX  EDUCATION  MARRIAGE  AGE  PAY_0  PAY_2  PAY_3  PAY_4  \\\n",
       "ID                                                                         \n",
       "1     20000.0    2          2         1   24      2      2     -1     -1   \n",
       "2    120000.0    2          2         2   26     -1      2      0      0   \n",
       "3     90000.0    2          2         2   34      0      0      0      0   \n",
       "4     50000.0    2          2         1   37      0      0      0      0   \n",
       "5     50000.0    1          2         1   57     -1      0     -1      0   \n",
       "\n",
       "    PAY_5  ...  BILL_AMT4  BILL_AMT5  BILL_AMT6  PAY_AMT1  PAY_AMT2  PAY_AMT3  \\\n",
       "ID         ...                                                                  \n",
       "1      -2  ...        0.0        0.0        0.0       0.0     689.0       0.0   \n",
       "2       0  ...     3272.0     3455.0     3261.0       0.0    1000.0    1000.0   \n",
       "3       0  ...    14331.0    14948.0    15549.0    1518.0    1500.0    1000.0   \n",
       "4       0  ...    28314.0    28959.0    29547.0    2000.0    2019.0    1200.0   \n",
       "5       0  ...    20940.0    19146.0    19131.0    2000.0   36681.0   10000.0   \n",
       "\n",
       "    PAY_AMT4  PAY_AMT5  PAY_AMT6  default.payment.next.month  \n",
       "ID                                                            \n",
       "1        0.0       0.0       0.0                           1  \n",
       "2     1000.0       0.0    2000.0                           1  \n",
       "3     1000.0    1000.0    5000.0                           0  \n",
       "4     1100.0    1069.0    1000.0                           0  \n",
       "5     9000.0     689.0     679.0                           0  \n",
       "\n",
       "[5 rows x 24 columns]"
      ]
     },
     "execution_count": 3,
     "metadata": {},
     "output_type": "execute_result"
    }
   ],
   "source": [
    "df = pd.read_csv('UCI_Credit_Card.csv', sep=',', index_col='ID') \n",
    "df.head(5)"
   ]
  },
  {
   "cell_type": "markdown",
   "metadata": {
    "id": "16wZEDe1XoAd"
   },
   "source": [
    "# Data Cleaning"
   ]
  },
  {
   "cell_type": "markdown",
   "metadata": {
    "id": "GRlZxYqcC-BM"
   },
   "source": [
    "## Attribute Definations\n",
    "\n",
    "| Attribute | Defination | Values |\n",
    "| --- | --- | --- |\n",
    "| `ID` | ID of each client | Numeric |\n",
    "|`LIMIT_BAL` | Amount of given credit in NT dollars (includes individual and family/supplementary credit) | Numeric in NT dollars |\n",
    "| `SEX` | Gender | `1`: Male, `2`: Female |\n",
    "| `EDUCATION` | Education level of the client | `1`: High School, `2`: University, `3`: Graduate School, `4`:Others, `5`: Unknown, `6`: Unknown |\n",
    "| `MARRIAGE` | Marital status | `1`: Married, `2`: Single, `3`: Others |\n",
    "| `AGE` | Age of the clients | Numeric in years |\n",
    "| `PAY_0` | Repayment status in September, 2005 | `-1`: pay duly, `1`: payment delay for one month, `2`: payment delay for two months, … `8`: payment delay for eight months, `9`: payment delay for nine months and above |\n",
    "|`PAY_2`| Repayment status in August, 2005 | Same scale as above |\n",
    "|`PAY_3`| Repayment status in July, 2005 | Same scale as above |\n",
    "|`PAY_4`| Repayment status in June, 2005 | Same scale as above |\n",
    "|`PAY_5`| Repayment status in May, 2005 | Same scale as above |\n",
    "|`PAY_6`| Repayment status in April, 2005 | Same scale as above |\n",
    "| `BILL_AMT1` | Amount of bill statement in September, 2005 | Numeric in NT dollars |\n",
    "| `BILL_AMT2` | Amount of bill statement in August, 2005 | Numeric in NT dollars |\n",
    "| `BILL_AMT3` | Amount of bill statement in July, 2005 | Numeric in NT dollars |\n",
    "| `BILL_AMT4` | Amount of bill statement in June, 2005 | Numeric in NT dollars |\n",
    "| `BILL_AMT5` | Amount of bill statement in May, 2005 | Numeric in NT dollars |\n",
    "| `BILL_AMT6` | Amount of bill statement in April, 2005 | Numeric in NT dollars |\n",
    "| `PAY_AMT1` | Amount of previous payment in September, 2005 | Numeric in NT dollars |\n",
    "| `PAY_AMT2` | Amount of previous payment in August, 2005 | Numeric in NT dollars |\n",
    "| `PAY_AMT3` | Amount of previous payment in July, 2005 | Numeric in NT dollars |\n",
    "| `PAY_AMT4` | Amount of previous payment in June, 2005 | Numeric in NT dollars |\n",
    "| `PAY_AMT5` | Amount of previous payment in May, 2005 | Numeric in NT dollars |\n",
    "| `PAY_AMT6` | Amount of previous payment in April, 2005 | Numeric in NT dollars |\n",
    "| `default.payment.next.month` | Default payment | `1`: Yes, `0`: No |"
   ]
  },
  {
   "cell_type": "code",
   "execution_count": 4,
   "metadata": {
    "colab": {
     "base_uri": "https://localhost:8080/",
     "height": 0
    },
    "id": "5RBg0D0XVuUP",
    "outputId": "66754471-d9ec-4df6-9492-27e2d1d1d5d2"
   },
   "outputs": [
    {
     "data": {
      "text/html": [
       "<div>\n",
       "<style scoped>\n",
       "    .dataframe tbody tr th:only-of-type {\n",
       "        vertical-align: middle;\n",
       "    }\n",
       "\n",
       "    .dataframe tbody tr th {\n",
       "        vertical-align: top;\n",
       "    }\n",
       "\n",
       "    .dataframe thead th {\n",
       "        text-align: right;\n",
       "    }\n",
       "</style>\n",
       "<table border=\"1\" class=\"dataframe\">\n",
       "  <thead>\n",
       "    <tr style=\"text-align: right;\">\n",
       "      <th></th>\n",
       "      <th>LIMIT_BAL</th>\n",
       "      <th>SEX</th>\n",
       "      <th>EDUCATION</th>\n",
       "      <th>MARRIAGE</th>\n",
       "      <th>AGE</th>\n",
       "      <th>PAY_0</th>\n",
       "      <th>PAY_2</th>\n",
       "      <th>PAY_3</th>\n",
       "      <th>PAY_4</th>\n",
       "      <th>PAY_5</th>\n",
       "      <th>...</th>\n",
       "      <th>BILL_AMT4</th>\n",
       "      <th>BILL_AMT5</th>\n",
       "      <th>BILL_AMT6</th>\n",
       "      <th>PAY_AMT1</th>\n",
       "      <th>PAY_AMT2</th>\n",
       "      <th>PAY_AMT3</th>\n",
       "      <th>PAY_AMT4</th>\n",
       "      <th>PAY_AMT5</th>\n",
       "      <th>PAY_AMT6</th>\n",
       "      <th>default.payment.next.month</th>\n",
       "    </tr>\n",
       "  </thead>\n",
       "  <tbody>\n",
       "    <tr>\n",
       "      <th>count</th>\n",
       "      <td>30000.000000</td>\n",
       "      <td>30000.000000</td>\n",
       "      <td>30000.000000</td>\n",
       "      <td>30000.000000</td>\n",
       "      <td>30000.000000</td>\n",
       "      <td>30000.000000</td>\n",
       "      <td>30000.000000</td>\n",
       "      <td>30000.000000</td>\n",
       "      <td>30000.000000</td>\n",
       "      <td>30000.000000</td>\n",
       "      <td>...</td>\n",
       "      <td>30000.000000</td>\n",
       "      <td>30000.000000</td>\n",
       "      <td>30000.000000</td>\n",
       "      <td>30000.000000</td>\n",
       "      <td>3.000000e+04</td>\n",
       "      <td>30000.00000</td>\n",
       "      <td>30000.000000</td>\n",
       "      <td>30000.000000</td>\n",
       "      <td>30000.000000</td>\n",
       "      <td>30000.000000</td>\n",
       "    </tr>\n",
       "    <tr>\n",
       "      <th>mean</th>\n",
       "      <td>167484.322667</td>\n",
       "      <td>1.603733</td>\n",
       "      <td>1.853133</td>\n",
       "      <td>1.551867</td>\n",
       "      <td>35.485500</td>\n",
       "      <td>-0.016700</td>\n",
       "      <td>-0.133767</td>\n",
       "      <td>-0.166200</td>\n",
       "      <td>-0.220667</td>\n",
       "      <td>-0.266200</td>\n",
       "      <td>...</td>\n",
       "      <td>43262.948967</td>\n",
       "      <td>40311.400967</td>\n",
       "      <td>38871.760400</td>\n",
       "      <td>5663.580500</td>\n",
       "      <td>5.921163e+03</td>\n",
       "      <td>5225.68150</td>\n",
       "      <td>4826.076867</td>\n",
       "      <td>4799.387633</td>\n",
       "      <td>5215.502567</td>\n",
       "      <td>0.221200</td>\n",
       "    </tr>\n",
       "    <tr>\n",
       "      <th>std</th>\n",
       "      <td>129747.661567</td>\n",
       "      <td>0.489129</td>\n",
       "      <td>0.790349</td>\n",
       "      <td>0.521970</td>\n",
       "      <td>9.217904</td>\n",
       "      <td>1.123802</td>\n",
       "      <td>1.197186</td>\n",
       "      <td>1.196868</td>\n",
       "      <td>1.169139</td>\n",
       "      <td>1.133187</td>\n",
       "      <td>...</td>\n",
       "      <td>64332.856134</td>\n",
       "      <td>60797.155770</td>\n",
       "      <td>59554.107537</td>\n",
       "      <td>16563.280354</td>\n",
       "      <td>2.304087e+04</td>\n",
       "      <td>17606.96147</td>\n",
       "      <td>15666.159744</td>\n",
       "      <td>15278.305679</td>\n",
       "      <td>17777.465775</td>\n",
       "      <td>0.415062</td>\n",
       "    </tr>\n",
       "    <tr>\n",
       "      <th>min</th>\n",
       "      <td>10000.000000</td>\n",
       "      <td>1.000000</td>\n",
       "      <td>0.000000</td>\n",
       "      <td>0.000000</td>\n",
       "      <td>21.000000</td>\n",
       "      <td>-2.000000</td>\n",
       "      <td>-2.000000</td>\n",
       "      <td>-2.000000</td>\n",
       "      <td>-2.000000</td>\n",
       "      <td>-2.000000</td>\n",
       "      <td>...</td>\n",
       "      <td>-170000.000000</td>\n",
       "      <td>-81334.000000</td>\n",
       "      <td>-339603.000000</td>\n",
       "      <td>0.000000</td>\n",
       "      <td>0.000000e+00</td>\n",
       "      <td>0.00000</td>\n",
       "      <td>0.000000</td>\n",
       "      <td>0.000000</td>\n",
       "      <td>0.000000</td>\n",
       "      <td>0.000000</td>\n",
       "    </tr>\n",
       "    <tr>\n",
       "      <th>25%</th>\n",
       "      <td>50000.000000</td>\n",
       "      <td>1.000000</td>\n",
       "      <td>1.000000</td>\n",
       "      <td>1.000000</td>\n",
       "      <td>28.000000</td>\n",
       "      <td>-1.000000</td>\n",
       "      <td>-1.000000</td>\n",
       "      <td>-1.000000</td>\n",
       "      <td>-1.000000</td>\n",
       "      <td>-1.000000</td>\n",
       "      <td>...</td>\n",
       "      <td>2326.750000</td>\n",
       "      <td>1763.000000</td>\n",
       "      <td>1256.000000</td>\n",
       "      <td>1000.000000</td>\n",
       "      <td>8.330000e+02</td>\n",
       "      <td>390.00000</td>\n",
       "      <td>296.000000</td>\n",
       "      <td>252.500000</td>\n",
       "      <td>117.750000</td>\n",
       "      <td>0.000000</td>\n",
       "    </tr>\n",
       "    <tr>\n",
       "      <th>50%</th>\n",
       "      <td>140000.000000</td>\n",
       "      <td>2.000000</td>\n",
       "      <td>2.000000</td>\n",
       "      <td>2.000000</td>\n",
       "      <td>34.000000</td>\n",
       "      <td>0.000000</td>\n",
       "      <td>0.000000</td>\n",
       "      <td>0.000000</td>\n",
       "      <td>0.000000</td>\n",
       "      <td>0.000000</td>\n",
       "      <td>...</td>\n",
       "      <td>19052.000000</td>\n",
       "      <td>18104.500000</td>\n",
       "      <td>17071.000000</td>\n",
       "      <td>2100.000000</td>\n",
       "      <td>2.009000e+03</td>\n",
       "      <td>1800.00000</td>\n",
       "      <td>1500.000000</td>\n",
       "      <td>1500.000000</td>\n",
       "      <td>1500.000000</td>\n",
       "      <td>0.000000</td>\n",
       "    </tr>\n",
       "    <tr>\n",
       "      <th>75%</th>\n",
       "      <td>240000.000000</td>\n",
       "      <td>2.000000</td>\n",
       "      <td>2.000000</td>\n",
       "      <td>2.000000</td>\n",
       "      <td>41.000000</td>\n",
       "      <td>0.000000</td>\n",
       "      <td>0.000000</td>\n",
       "      <td>0.000000</td>\n",
       "      <td>0.000000</td>\n",
       "      <td>0.000000</td>\n",
       "      <td>...</td>\n",
       "      <td>54506.000000</td>\n",
       "      <td>50190.500000</td>\n",
       "      <td>49198.250000</td>\n",
       "      <td>5006.000000</td>\n",
       "      <td>5.000000e+03</td>\n",
       "      <td>4505.00000</td>\n",
       "      <td>4013.250000</td>\n",
       "      <td>4031.500000</td>\n",
       "      <td>4000.000000</td>\n",
       "      <td>0.000000</td>\n",
       "    </tr>\n",
       "    <tr>\n",
       "      <th>max</th>\n",
       "      <td>1000000.000000</td>\n",
       "      <td>2.000000</td>\n",
       "      <td>6.000000</td>\n",
       "      <td>3.000000</td>\n",
       "      <td>79.000000</td>\n",
       "      <td>8.000000</td>\n",
       "      <td>8.000000</td>\n",
       "      <td>8.000000</td>\n",
       "      <td>8.000000</td>\n",
       "      <td>8.000000</td>\n",
       "      <td>...</td>\n",
       "      <td>891586.000000</td>\n",
       "      <td>927171.000000</td>\n",
       "      <td>961664.000000</td>\n",
       "      <td>873552.000000</td>\n",
       "      <td>1.684259e+06</td>\n",
       "      <td>896040.00000</td>\n",
       "      <td>621000.000000</td>\n",
       "      <td>426529.000000</td>\n",
       "      <td>528666.000000</td>\n",
       "      <td>1.000000</td>\n",
       "    </tr>\n",
       "  </tbody>\n",
       "</table>\n",
       "<p>8 rows × 24 columns</p>\n",
       "</div>"
      ],
      "text/plain": [
       "            LIMIT_BAL           SEX     EDUCATION      MARRIAGE           AGE  \\\n",
       "count    30000.000000  30000.000000  30000.000000  30000.000000  30000.000000   \n",
       "mean    167484.322667      1.603733      1.853133      1.551867     35.485500   \n",
       "std     129747.661567      0.489129      0.790349      0.521970      9.217904   \n",
       "min      10000.000000      1.000000      0.000000      0.000000     21.000000   \n",
       "25%      50000.000000      1.000000      1.000000      1.000000     28.000000   \n",
       "50%     140000.000000      2.000000      2.000000      2.000000     34.000000   \n",
       "75%     240000.000000      2.000000      2.000000      2.000000     41.000000   \n",
       "max    1000000.000000      2.000000      6.000000      3.000000     79.000000   \n",
       "\n",
       "              PAY_0         PAY_2         PAY_3         PAY_4         PAY_5  \\\n",
       "count  30000.000000  30000.000000  30000.000000  30000.000000  30000.000000   \n",
       "mean      -0.016700     -0.133767     -0.166200     -0.220667     -0.266200   \n",
       "std        1.123802      1.197186      1.196868      1.169139      1.133187   \n",
       "min       -2.000000     -2.000000     -2.000000     -2.000000     -2.000000   \n",
       "25%       -1.000000     -1.000000     -1.000000     -1.000000     -1.000000   \n",
       "50%        0.000000      0.000000      0.000000      0.000000      0.000000   \n",
       "75%        0.000000      0.000000      0.000000      0.000000      0.000000   \n",
       "max        8.000000      8.000000      8.000000      8.000000      8.000000   \n",
       "\n",
       "       ...      BILL_AMT4      BILL_AMT5      BILL_AMT6       PAY_AMT1  \\\n",
       "count  ...   30000.000000   30000.000000   30000.000000   30000.000000   \n",
       "mean   ...   43262.948967   40311.400967   38871.760400    5663.580500   \n",
       "std    ...   64332.856134   60797.155770   59554.107537   16563.280354   \n",
       "min    ... -170000.000000  -81334.000000 -339603.000000       0.000000   \n",
       "25%    ...    2326.750000    1763.000000    1256.000000    1000.000000   \n",
       "50%    ...   19052.000000   18104.500000   17071.000000    2100.000000   \n",
       "75%    ...   54506.000000   50190.500000   49198.250000    5006.000000   \n",
       "max    ...  891586.000000  927171.000000  961664.000000  873552.000000   \n",
       "\n",
       "           PAY_AMT2      PAY_AMT3       PAY_AMT4       PAY_AMT5  \\\n",
       "count  3.000000e+04   30000.00000   30000.000000   30000.000000   \n",
       "mean   5.921163e+03    5225.68150    4826.076867    4799.387633   \n",
       "std    2.304087e+04   17606.96147   15666.159744   15278.305679   \n",
       "min    0.000000e+00       0.00000       0.000000       0.000000   \n",
       "25%    8.330000e+02     390.00000     296.000000     252.500000   \n",
       "50%    2.009000e+03    1800.00000    1500.000000    1500.000000   \n",
       "75%    5.000000e+03    4505.00000    4013.250000    4031.500000   \n",
       "max    1.684259e+06  896040.00000  621000.000000  426529.000000   \n",
       "\n",
       "            PAY_AMT6  default.payment.next.month  \n",
       "count   30000.000000                30000.000000  \n",
       "mean     5215.502567                    0.221200  \n",
       "std     17777.465775                    0.415062  \n",
       "min         0.000000                    0.000000  \n",
       "25%       117.750000                    0.000000  \n",
       "50%      1500.000000                    0.000000  \n",
       "75%      4000.000000                    0.000000  \n",
       "max    528666.000000                    1.000000  \n",
       "\n",
       "[8 rows x 24 columns]"
      ]
     },
     "execution_count": 4,
     "metadata": {},
     "output_type": "execute_result"
    }
   ],
   "source": [
    "#Raw data overview\n",
    "df.describe()"
   ]
  },
  {
   "cell_type": "code",
   "execution_count": 5,
   "metadata": {
    "colab": {
     "base_uri": "https://localhost:8080/"
    },
    "id": "0lWpw60fb08F",
    "outputId": "cf47f115-83d4-49b1-88ec-1196ce6fee87"
   },
   "outputs": [
    {
     "name": "stdout",
     "output_type": "stream",
     "text": [
      "<class 'pandas.core.frame.DataFrame'>\n",
      "Int64Index: 30000 entries, 1 to 30000\n",
      "Data columns (total 24 columns):\n",
      " #   Column                      Non-Null Count  Dtype  \n",
      "---  ------                      --------------  -----  \n",
      " 0   LIMIT_BAL                   30000 non-null  float64\n",
      " 1   SEX                         30000 non-null  int64  \n",
      " 2   EDUCATION                   30000 non-null  int64  \n",
      " 3   MARRIAGE                    30000 non-null  int64  \n",
      " 4   AGE                         30000 non-null  int64  \n",
      " 5   PAY_0                       30000 non-null  int64  \n",
      " 6   PAY_2                       30000 non-null  int64  \n",
      " 7   PAY_3                       30000 non-null  int64  \n",
      " 8   PAY_4                       30000 non-null  int64  \n",
      " 9   PAY_5                       30000 non-null  int64  \n",
      " 10  PAY_6                       30000 non-null  int64  \n",
      " 11  BILL_AMT1                   30000 non-null  float64\n",
      " 12  BILL_AMT2                   30000 non-null  float64\n",
      " 13  BILL_AMT3                   30000 non-null  float64\n",
      " 14  BILL_AMT4                   30000 non-null  float64\n",
      " 15  BILL_AMT5                   30000 non-null  float64\n",
      " 16  BILL_AMT6                   30000 non-null  float64\n",
      " 17  PAY_AMT1                    30000 non-null  float64\n",
      " 18  PAY_AMT2                    30000 non-null  float64\n",
      " 19  PAY_AMT3                    30000 non-null  float64\n",
      " 20  PAY_AMT4                    30000 non-null  float64\n",
      " 21  PAY_AMT5                    30000 non-null  float64\n",
      " 22  PAY_AMT6                    30000 non-null  float64\n",
      " 23  default.payment.next.month  30000 non-null  int64  \n",
      "dtypes: float64(13), int64(11)\n",
      "memory usage: 5.7 MB\n"
     ]
    }
   ],
   "source": [
    "df.info()"
   ]
  },
  {
   "cell_type": "code",
   "execution_count": 6,
   "metadata": {
    "colab": {
     "base_uri": "https://localhost:8080/"
    },
    "id": "v4KXN248azAF",
    "outputId": "201f8804-1b43-4100-a419-b26d1d533738"
   },
   "outputs": [
    {
     "data": {
      "text/plain": [
       "LIMIT_BAL                     0\n",
       "SEX                           0\n",
       "EDUCATION                     0\n",
       "MARRIAGE                      0\n",
       "AGE                           0\n",
       "PAY_0                         0\n",
       "PAY_2                         0\n",
       "PAY_3                         0\n",
       "PAY_4                         0\n",
       "PAY_5                         0\n",
       "PAY_6                         0\n",
       "BILL_AMT1                     0\n",
       "BILL_AMT2                     0\n",
       "BILL_AMT3                     0\n",
       "BILL_AMT4                     0\n",
       "BILL_AMT5                     0\n",
       "BILL_AMT6                     0\n",
       "PAY_AMT1                      0\n",
       "PAY_AMT2                      0\n",
       "PAY_AMT3                      0\n",
       "PAY_AMT4                      0\n",
       "PAY_AMT5                      0\n",
       "PAY_AMT6                      0\n",
       "default.payment.next.month    0\n",
       "dtype: int64"
      ]
     },
     "execution_count": 6,
     "metadata": {},
     "output_type": "execute_result"
    }
   ],
   "source": [
    "df.isnull().sum()"
   ]
  },
  {
   "cell_type": "markdown",
   "metadata": {
    "id": "KYV_IM_ebIuV"
   },
   "source": [
    "**No Missing value**"
   ]
  },
  {
   "cell_type": "markdown",
   "metadata": {
    "id": "7YzeYQsLeJGm"
   },
   "source": [
    "## 1. SEX"
   ]
  },
  {
   "cell_type": "code",
   "execution_count": 7,
   "metadata": {
    "colab": {
     "base_uri": "https://localhost:8080/"
    },
    "id": "jV_DFCvSbLyN",
    "outputId": "9825d359-1edd-4997-95ae-2f626e31a4d3"
   },
   "outputs": [
    {
     "data": {
      "text/plain": [
       "2    18112\n",
       "1    11888\n",
       "Name: SEX, dtype: int64"
      ]
     },
     "execution_count": 7,
     "metadata": {},
     "output_type": "execute_result"
    }
   ],
   "source": [
    "df.SEX.value_counts()"
   ]
  },
  {
   "cell_type": "markdown",
   "metadata": {
    "id": "k7Waa70hfXe_"
   },
   "source": [
    "- replace the number value with text (easier for analysis) "
   ]
  },
  {
   "cell_type": "code",
   "execution_count": 8,
   "metadata": {
    "id": "e6vejZh9fnFU"
   },
   "outputs": [],
   "source": [
    "df.SEX.replace({1:\"Male\", 2:\"Female\"},inplace=True)"
   ]
  },
  {
   "cell_type": "code",
   "execution_count": 9,
   "metadata": {
    "colab": {
     "base_uri": "https://localhost:8080/"
    },
    "id": "bH69gB2_ghyl",
    "outputId": "50fa422b-e6e1-4947-cb71-35746cc9fe6f"
   },
   "outputs": [
    {
     "data": {
      "text/plain": [
       "ID\n",
       "1     Female\n",
       "2     Female\n",
       "3     Female\n",
       "4     Female\n",
       "5       Male\n",
       "6       Male\n",
       "7       Male\n",
       "8     Female\n",
       "9     Female\n",
       "10      Male\n",
       "Name: SEX, dtype: object"
      ]
     },
     "execution_count": 9,
     "metadata": {},
     "output_type": "execute_result"
    }
   ],
   "source": [
    "df.SEX.head(10)"
   ]
  },
  {
   "cell_type": "markdown",
   "metadata": {
    "id": "vfPxAxtekubG"
   },
   "source": [
    "## 2. AGE"
   ]
  },
  {
   "cell_type": "code",
   "execution_count": 10,
   "metadata": {
    "colab": {
     "base_uri": "https://localhost:8080/"
    },
    "id": "xgp9j4QNk3dt",
    "outputId": "cd6f59d3-3a5d-4fd9-fd5a-f1a08387798b"
   },
   "outputs": [
    {
     "data": {
      "text/plain": [
       "count    30000.000000\n",
       "mean        35.485500\n",
       "std          9.217904\n",
       "min         21.000000\n",
       "25%         28.000000\n",
       "50%         34.000000\n",
       "75%         41.000000\n",
       "max         79.000000\n",
       "Name: AGE, dtype: float64"
      ]
     },
     "execution_count": 10,
     "metadata": {},
     "output_type": "execute_result"
    }
   ],
   "source": [
    "df.AGE.describe()"
   ]
  },
  {
   "cell_type": "markdown",
   "metadata": {
    "id": "qsHhYM0vt7mG"
   },
   "source": [
    "- `AGE` varied from 21 to 79. Median 34."
   ]
  },
  {
   "cell_type": "code",
   "execution_count": 11,
   "metadata": {
    "colab": {
     "base_uri": "https://localhost:8080/",
     "height": 0
    },
    "id": "e-pJ2EG5uSLm",
    "outputId": "70360cb2-ea02-49e3-aaa2-affdfe119d95"
   },
   "outputs": [
    {
     "data": {
      "text/plain": [
       "<seaborn.axisgrid.FacetGrid at 0x1d766bc1808>"
      ]
     },
     "execution_count": 11,
     "metadata": {},
     "output_type": "execute_result"
    },
    {
     "data": {
      "image/png": "[encoded data removed]",
      "text/plain": [
       "<Figure size 540x360 with 1 Axes>"
      ]
     },
     "metadata": {},
     "output_type": "display_data"
    }
   ],
   "source": [
    "# check value distribution\n",
    "#df.AGE.hist(bins=10, figsize=(10,5))\n",
    "sns.displot(df.AGE, kde = True, bins=10, height=5, aspect=1.5)"
   ]
  },
  {
   "cell_type": "markdown",
   "metadata": {
    "id": "Z4eympwgutBF"
   },
   "source": [
    "- `AGE` values are not normally distributed"
   ]
  },
  {
   "cell_type": "code",
   "execution_count": 12,
   "metadata": {
    "id": "1dWy61HXu9Bu"
   },
   "outputs": [],
   "source": [
    "# Create following bins for different age groups\n",
    "\n",
    "AGE_bins = [20,30,40,50,60,80]\n",
    "AGE_bin_labels = ['20-29','30-39','40-49','50-59','>60']\n",
    "\n",
    "# create a new attribute for age group\n",
    "\n",
    "df['AGE_GROUP'] = pd.cut(df.AGE, AGE_bins, right=False, labels= AGE_bin_labels)"
   ]
  },
  {
   "cell_type": "code",
   "execution_count": 13,
   "metadata": {
    "colab": {
     "base_uri": "https://localhost:8080/"
    },
    "id": "P3wPujPKwGLe",
    "outputId": "e9f7d2c9-70c3-434a-bd8b-dd7d4058007b"
   },
   "outputs": [
    {
     "data": {
      "text/plain": [
       "20-29     9618\n",
       "30-39    11238\n",
       "40-49     6464\n",
       "50-59     2341\n",
       ">60        339\n",
       "Name: AGE_GROUP, dtype: int64"
      ]
     },
     "execution_count": 13,
     "metadata": {},
     "output_type": "execute_result"
    }
   ],
   "source": [
    "df.AGE_GROUP.value_counts().sort_index()"
   ]
  },
  {
   "cell_type": "code",
   "execution_count": 14,
   "metadata": {
    "colab": {
     "base_uri": "https://localhost:8080/",
     "height": 0
    },
    "id": "FSOxCyXWXKZq",
    "outputId": "f0bffded-87d3-4546-f78a-2d5cd5cdeacb"
   },
   "outputs": [
    {
     "data": {
      "text/html": [
       "<div>\n",
       "<style scoped>\n",
       "    .dataframe tbody tr th:only-of-type {\n",
       "        vertical-align: middle;\n",
       "    }\n",
       "\n",
       "    .dataframe tbody tr th {\n",
       "        vertical-align: top;\n",
       "    }\n",
       "\n",
       "    .dataframe thead th {\n",
       "        text-align: right;\n",
       "    }\n",
       "</style>\n",
       "<table border=\"1\" class=\"dataframe\">\n",
       "  <thead>\n",
       "    <tr style=\"text-align: right;\">\n",
       "      <th></th>\n",
       "      <th>LIMIT_BAL</th>\n",
       "      <th>SEX</th>\n",
       "      <th>EDUCATION</th>\n",
       "      <th>MARRIAGE</th>\n",
       "      <th>AGE</th>\n",
       "      <th>PAY_0</th>\n",
       "      <th>PAY_2</th>\n",
       "      <th>PAY_3</th>\n",
       "      <th>PAY_4</th>\n",
       "      <th>PAY_5</th>\n",
       "      <th>...</th>\n",
       "      <th>BILL_AMT5</th>\n",
       "      <th>BILL_AMT6</th>\n",
       "      <th>PAY_AMT1</th>\n",
       "      <th>PAY_AMT2</th>\n",
       "      <th>PAY_AMT3</th>\n",
       "      <th>PAY_AMT4</th>\n",
       "      <th>PAY_AMT5</th>\n",
       "      <th>PAY_AMT6</th>\n",
       "      <th>default.payment.next.month</th>\n",
       "      <th>AGE_GROUP</th>\n",
       "    </tr>\n",
       "    <tr>\n",
       "      <th>ID</th>\n",
       "      <th></th>\n",
       "      <th></th>\n",
       "      <th></th>\n",
       "      <th></th>\n",
       "      <th></th>\n",
       "      <th></th>\n",
       "      <th></th>\n",
       "      <th></th>\n",
       "      <th></th>\n",
       "      <th></th>\n",
       "      <th></th>\n",
       "      <th></th>\n",
       "      <th></th>\n",
       "      <th></th>\n",
       "      <th></th>\n",
       "      <th></th>\n",
       "      <th></th>\n",
       "      <th></th>\n",
       "      <th></th>\n",
       "      <th></th>\n",
       "      <th></th>\n",
       "    </tr>\n",
       "  </thead>\n",
       "  <tbody>\n",
       "    <tr>\n",
       "      <th>1</th>\n",
       "      <td>20000.0</td>\n",
       "      <td>Female</td>\n",
       "      <td>2</td>\n",
       "      <td>1</td>\n",
       "      <td>24</td>\n",
       "      <td>2</td>\n",
       "      <td>2</td>\n",
       "      <td>-1</td>\n",
       "      <td>-1</td>\n",
       "      <td>-2</td>\n",
       "      <td>...</td>\n",
       "      <td>0.0</td>\n",
       "      <td>0.0</td>\n",
       "      <td>0.0</td>\n",
       "      <td>689.0</td>\n",
       "      <td>0.0</td>\n",
       "      <td>0.0</td>\n",
       "      <td>0.0</td>\n",
       "      <td>0.0</td>\n",
       "      <td>1</td>\n",
       "      <td>20-29</td>\n",
       "    </tr>\n",
       "    <tr>\n",
       "      <th>2</th>\n",
       "      <td>120000.0</td>\n",
       "      <td>Female</td>\n",
       "      <td>2</td>\n",
       "      <td>2</td>\n",
       "      <td>26</td>\n",
       "      <td>-1</td>\n",
       "      <td>2</td>\n",
       "      <td>0</td>\n",
       "      <td>0</td>\n",
       "      <td>0</td>\n",
       "      <td>...</td>\n",
       "      <td>3455.0</td>\n",
       "      <td>3261.0</td>\n",
       "      <td>0.0</td>\n",
       "      <td>1000.0</td>\n",
       "      <td>1000.0</td>\n",
       "      <td>1000.0</td>\n",
       "      <td>0.0</td>\n",
       "      <td>2000.0</td>\n",
       "      <td>1</td>\n",
       "      <td>20-29</td>\n",
       "    </tr>\n",
       "    <tr>\n",
       "      <th>3</th>\n",
       "      <td>90000.0</td>\n",
       "      <td>Female</td>\n",
       "      <td>2</td>\n",
       "      <td>2</td>\n",
       "      <td>34</td>\n",
       "      <td>0</td>\n",
       "      <td>0</td>\n",
       "      <td>0</td>\n",
       "      <td>0</td>\n",
       "      <td>0</td>\n",
       "      <td>...</td>\n",
       "      <td>14948.0</td>\n",
       "      <td>15549.0</td>\n",
       "      <td>1518.0</td>\n",
       "      <td>1500.0</td>\n",
       "      <td>1000.0</td>\n",
       "      <td>1000.0</td>\n",
       "      <td>1000.0</td>\n",
       "      <td>5000.0</td>\n",
       "      <td>0</td>\n",
       "      <td>30-39</td>\n",
       "    </tr>\n",
       "    <tr>\n",
       "      <th>4</th>\n",
       "      <td>50000.0</td>\n",
       "      <td>Female</td>\n",
       "      <td>2</td>\n",
       "      <td>1</td>\n",
       "      <td>37</td>\n",
       "      <td>0</td>\n",
       "      <td>0</td>\n",
       "      <td>0</td>\n",
       "      <td>0</td>\n",
       "      <td>0</td>\n",
       "      <td>...</td>\n",
       "      <td>28959.0</td>\n",
       "      <td>29547.0</td>\n",
       "      <td>2000.0</td>\n",
       "      <td>2019.0</td>\n",
       "      <td>1200.0</td>\n",
       "      <td>1100.0</td>\n",
       "      <td>1069.0</td>\n",
       "      <td>1000.0</td>\n",
       "      <td>0</td>\n",
       "      <td>30-39</td>\n",
       "    </tr>\n",
       "    <tr>\n",
       "      <th>5</th>\n",
       "      <td>50000.0</td>\n",
       "      <td>Male</td>\n",
       "      <td>2</td>\n",
       "      <td>1</td>\n",
       "      <td>57</td>\n",
       "      <td>-1</td>\n",
       "      <td>0</td>\n",
       "      <td>-1</td>\n",
       "      <td>0</td>\n",
       "      <td>0</td>\n",
       "      <td>...</td>\n",
       "      <td>19146.0</td>\n",
       "      <td>19131.0</td>\n",
       "      <td>2000.0</td>\n",
       "      <td>36681.0</td>\n",
       "      <td>10000.0</td>\n",
       "      <td>9000.0</td>\n",
       "      <td>689.0</td>\n",
       "      <td>679.0</td>\n",
       "      <td>0</td>\n",
       "      <td>50-59</td>\n",
       "    </tr>\n",
       "  </tbody>\n",
       "</table>\n",
       "<p>5 rows × 25 columns</p>\n",
       "</div>"
      ],
      "text/plain": [
       "    LIMIT_BAL     SEX  EDUCATION  MARRIAGE  AGE  PAY_0  PAY_2  PAY_3  PAY_4  \\\n",
       "ID                                                                            \n",
       "1     20000.0  Female          2         1   24      2      2     -1     -1   \n",
       "2    120000.0  Female          2         2   26     -1      2      0      0   \n",
       "3     90000.0  Female          2         2   34      0      0      0      0   \n",
       "4     50000.0  Female          2         1   37      0      0      0      0   \n",
       "5     50000.0    Male          2         1   57     -1      0     -1      0   \n",
       "\n",
       "    PAY_5  ...  BILL_AMT5  BILL_AMT6  PAY_AMT1  PAY_AMT2  PAY_AMT3  PAY_AMT4  \\\n",
       "ID         ...                                                                 \n",
       "1      -2  ...        0.0        0.0       0.0     689.0       0.0       0.0   \n",
       "2       0  ...     3455.0     3261.0       0.0    1000.0    1000.0    1000.0   \n",
       "3       0  ...    14948.0    15549.0    1518.0    1500.0    1000.0    1000.0   \n",
       "4       0  ...    28959.0    29547.0    2000.0    2019.0    1200.0    1100.0   \n",
       "5       0  ...    19146.0    19131.0    2000.0   36681.0   10000.0    9000.0   \n",
       "\n",
       "    PAY_AMT5  PAY_AMT6  default.payment.next.month  AGE_GROUP  \n",
       "ID                                                             \n",
       "1        0.0       0.0                           1      20-29  \n",
       "2        0.0    2000.0                           1      20-29  \n",
       "3     1000.0    5000.0                           0      30-39  \n",
       "4     1069.0    1000.0                           0      30-39  \n",
       "5      689.0     679.0                           0      50-59  \n",
       "\n",
       "[5 rows x 25 columns]"
      ]
     },
     "execution_count": 14,
     "metadata": {},
     "output_type": "execute_result"
    }
   ],
   "source": [
    "df.head(5)"
   ]
  },
  {
   "cell_type": "markdown",
   "metadata": {
    "id": "Gx7lOlw2hEeW"
   },
   "source": [
    "## 3. EDUCATION"
   ]
  },
  {
   "cell_type": "code",
   "execution_count": 15,
   "metadata": {
    "colab": {
     "base_uri": "https://localhost:8080/"
    },
    "id": "yInaSqu1hKNT",
    "outputId": "3b6f336b-074e-46b3-cc76-de596a702f11"
   },
   "outputs": [
    {
     "data": {
      "text/plain": [
       "2    14030\n",
       "1    10585\n",
       "3     4917\n",
       "5      280\n",
       "4      123\n",
       "6       51\n",
       "0       14\n",
       "Name: EDUCATION, dtype: int64"
      ]
     },
     "execution_count": 15,
     "metadata": {},
     "output_type": "execute_result"
    }
   ],
   "source": [
    "df.EDUCATION.value_counts()"
   ]
  },
  {
   "cell_type": "markdown",
   "metadata": {
    "id": "LpL51ytdhbYx"
   },
   "source": [
    "- `EDUCATION` = 0,4,5,6 are unknown/undefined.\n",
    "- 468 records with value 0,4,5,6 (2% of the total records)\n",
    "- Use the mode in different Age groups to replace the unknown/undefined values.\n"
   ]
  },
  {
   "cell_type": "code",
   "execution_count": 16,
   "metadata": {
    "id": "gO2AheaQi30P"
   },
   "outputs": [],
   "source": [
    "df.loc[df['EDUCATION'].isin([0,4,5,6]),['EDUCATION']]=np.nan\n",
    "df.loc[df.EDUCATION.isnull(),'EDUCATION']=(df.groupby('AGE_GROUP')['EDUCATION'].\\\n",
    "                                               transform(lambda x: mode(x)[0][0]))\n",
    "df.EDUCATION.replace({1:\"Graduate School\", 2:\"University\", 3:\"High School\"},inplace=True)\n",
    "#df.EDUCATION.replace({1:\"Graduate School\", 2:\"University\", 3:\"High School\", 4:\"Unknown\", 5:\"Unknown\", 6:\"Unknown\", 0:\"Unknown\"},inplace=True)"
   ]
  },
  {
   "cell_type": "code",
   "execution_count": 17,
   "metadata": {
    "colab": {
     "base_uri": "https://localhost:8080/"
    },
    "id": "4HBESGyojVIv",
    "outputId": "3c9e1b8c-ee29-4d2d-8505-278a47ae9d82"
   },
   "outputs": [
    {
     "data": {
      "text/plain": [
       "University         14453\n",
       "Graduate School    10585\n",
       "High School         4962\n",
       "Name: EDUCATION, dtype: int64"
      ]
     },
     "execution_count": 17,
     "metadata": {},
     "output_type": "execute_result"
    }
   ],
   "source": [
    "df.EDUCATION.value_counts()"
   ]
  },
  {
   "cell_type": "markdown",
   "metadata": {
    "id": "P4OkkwgFjbNt"
   },
   "source": [
    "## 4. MARRIAGE"
   ]
  },
  {
   "cell_type": "code",
   "execution_count": 18,
   "metadata": {
    "colab": {
     "base_uri": "https://localhost:8080/"
    },
    "id": "Q-l1nRuHjiFG",
    "outputId": "fb221b60-fb5c-4842-d2af-ea3e2d6bb002"
   },
   "outputs": [
    {
     "data": {
      "text/plain": [
       "2    15964\n",
       "1    13659\n",
       "3      323\n",
       "0       54\n",
       "Name: MARRIAGE, dtype: int64"
      ]
     },
     "execution_count": 18,
     "metadata": {},
     "output_type": "execute_result"
    }
   ],
   "source": [
    "df.MARRIAGE.value_counts()"
   ]
  },
  {
   "cell_type": "markdown",
   "metadata": {
    "id": "PrjdwVX4junf"
   },
   "source": [
    "- We will consider `MARRIAGE`value 0 and 3 as \"Others\""
   ]
  },
  {
   "cell_type": "code",
   "execution_count": 19,
   "metadata": {
    "id": "DCKZ6Bvrjq0u"
   },
   "outputs": [],
   "source": [
    "df.MARRIAGE.replace({1:\"Married\", 2:\"Single\", 3:\"Others\", 0:\"Others\"},inplace=True)"
   ]
  },
  {
   "cell_type": "code",
   "execution_count": 20,
   "metadata": {
    "colab": {
     "base_uri": "https://localhost:8080/"
    },
    "id": "8SWG7QhtkWyW",
    "outputId": "d6a4ea96-8628-4ad6-88be-b24625e1deb1"
   },
   "outputs": [
    {
     "data": {
      "text/plain": [
       "Single     15964\n",
       "Married    13659\n",
       "Others       377\n",
       "Name: MARRIAGE, dtype: int64"
      ]
     },
     "execution_count": 20,
     "metadata": {},
     "output_type": "execute_result"
    }
   ],
   "source": [
    "df.MARRIAGE.value_counts()"
   ]
  },
  {
   "cell_type": "markdown",
   "metadata": {
    "id": "DSytBpGJwaxW"
   },
   "source": [
    "## 5. LIMIT_BAL\n",
    "\n",
    "\n",
    "\n"
   ]
  },
  {
   "cell_type": "code",
   "execution_count": 21,
   "metadata": {
    "colab": {
     "base_uri": "https://localhost:8080/"
    },
    "id": "uMjamqB9wh_-",
    "outputId": "78ac65d1-af08-46cf-aa95-51e993f73141"
   },
   "outputs": [
    {
     "data": {
      "text/plain": [
       "count      30000.000000\n",
       "mean      167484.322667\n",
       "std       129747.661567\n",
       "min        10000.000000\n",
       "25%        50000.000000\n",
       "50%       140000.000000\n",
       "75%       240000.000000\n",
       "max      1000000.000000\n",
       "Name: LIMIT_BAL, dtype: float64"
      ]
     },
     "execution_count": 21,
     "metadata": {},
     "output_type": "execute_result"
    }
   ],
   "source": [
    "df.LIMIT_BAL.describe()"
   ]
  },
  {
   "cell_type": "markdown",
   "metadata": {
    "id": "vyZmu0G-zHLn"
   },
   "source": [
    "- `LIMIT_BAL` (credit limit) varied from 10,000 to 1,000,000 NTD\n",
    "\n",
    "- 1k NTD ~= 44 CND"
   ]
  },
  {
   "cell_type": "code",
   "execution_count": 22,
   "metadata": {
    "colab": {
     "base_uri": "https://localhost:8080/",
     "height": 0
    },
    "id": "0GSsHFdmx15v",
    "outputId": "9f025234-8114-4090-8a99-7b21057ac06e"
   },
   "outputs": [
    {
     "data": {
      "text/plain": [
       "<seaborn.axisgrid.FacetGrid at 0x1d76627f6c8>"
      ]
     },
     "execution_count": 22,
     "metadata": {},
     "output_type": "execute_result"
    },
    {
     "data": {
      "image/png": "[encoded data removed]",
      "text/plain": [
       "<Figure size 540x360 with 1 Axes>"
      ]
     },
     "metadata": {},
     "output_type": "display_data"
    }
   ],
   "source": [
    "# check value distribution\n",
    "# df.LIMIT_BAL.hist(bins=10, figsize=(10,5))\n",
    "sns.displot(df.LIMIT_BAL, kde = True, bins=10, height=5, aspect=1.5)"
   ]
  },
  {
   "cell_type": "code",
   "execution_count": 23,
   "metadata": {
    "colab": {
     "base_uri": "https://localhost:8080/"
    },
    "id": "VQ5JkVgj0pYe",
    "outputId": "a1b5e638-f545-4675-e346-4d6e27f34f73"
   },
   "outputs": [
    {
     "data": {
      "text/plain": [
       "array([  20000.,  120000.,   90000.,   50000.,  500000.,  100000.,\n",
       "        140000.,  200000.,  260000.,  630000.,   70000.,  250000.,\n",
       "        320000.,  360000.,  180000.,  130000.,  450000.,   60000.,\n",
       "        230000.,  160000.,  280000.,   10000.,   40000.,  210000.,\n",
       "        150000.,  380000.,  310000.,  400000.,   80000.,  290000.,\n",
       "        340000.,  300000.,   30000.,  240000.,  470000.,  480000.,\n",
       "        350000.,  330000.,  110000.,  420000.,  170000.,  370000.,\n",
       "        270000.,  220000.,  190000.,  510000.,  460000.,  440000.,\n",
       "        410000.,  490000.,  390000.,  580000.,  600000.,  620000.,\n",
       "        610000.,  700000.,  670000.,  680000.,  430000.,  550000.,\n",
       "        540000., 1000000.,  530000.,  710000.,  560000.,  520000.,\n",
       "        750000.,  640000.,   16000.,  570000.,  590000.,  660000.,\n",
       "        720000.,  327680.,  740000.,  800000.,  760000.,  690000.,\n",
       "        650000.,  780000.,  730000.])"
      ]
     },
     "execution_count": 23,
     "metadata": {},
     "output_type": "execute_result"
    }
   ],
   "source": [
    "df.LIMIT_BAL.unique()"
   ]
  },
  {
   "cell_type": "code",
   "execution_count": 24,
   "metadata": {
    "id": "8a1X7M_GzZfO"
   },
   "outputs": [],
   "source": [
    "# Create following bins for different credit limit groups\n",
    "\n",
    "LIMIT_bins = [10000,20000,50000,100000,300000,500000,1000001]\n",
    "LIMIT_bin_labels = ['<20k','20k-50k','50k-100k','100k-300k','300k-500k','>=500k']\n",
    "\n",
    "# create a new attribute for age group\n",
    "\n",
    "df['LIMIT_GROUP'] = pd.cut(df.LIMIT_BAL, LIMIT_bins, right=False, labels= LIMIT_bin_labels)"
   ]
  },
  {
   "cell_type": "code",
   "execution_count": 25,
   "metadata": {
    "colab": {
     "base_uri": "https://localhost:8080/"
    },
    "id": "03COJv7-0_zA",
    "outputId": "f6431bc6-9fdb-43fa-b413-c2d5eb6fbcfb"
   },
   "outputs": [
    {
     "data": {
      "text/plain": [
       "<20k           495\n",
       "20k-50k       3816\n",
       "50k-100k      7139\n",
       "100k-300k    13433\n",
       "300k-500k     4189\n",
       ">=500k         928\n",
       "Name: LIMIT_GROUP, dtype: int64"
      ]
     },
     "execution_count": 25,
     "metadata": {},
     "output_type": "execute_result"
    }
   ],
   "source": [
    "df.LIMIT_GROUP.value_counts().sort_index()"
   ]
  },
  {
   "cell_type": "markdown",
   "metadata": {
    "id": "_d5R4qKj2jR-"
   },
   "source": [
    "## 6. PAY_0(1) - PAY_6 "
   ]
  },
  {
   "cell_type": "code",
   "execution_count": 26,
   "metadata": {
    "id": "6YzK4Py60OzX"
   },
   "outputs": [],
   "source": [
    "# Rename \"PAY_0\" column as \"PAY_1\"\n",
    "\n",
    "df.rename(columns={'PAY_0':'PAY_1'}, inplace=True)"
   ]
  },
  {
   "cell_type": "code",
   "execution_count": 27,
   "metadata": {
    "colab": {
     "base_uri": "https://localhost:8080/"
    },
    "id": "UrsJOSKZ3RdQ",
    "outputId": "9357da82-8f7f-4dc9-f5e9-8b08a8cd0e14"
   },
   "outputs": [
    {
     "name": "stdout",
     "output_type": "stream",
     "text": [
      " 0    14737\n",
      "-1     5686\n",
      " 1     3688\n",
      "-2     2759\n",
      " 2     2667\n",
      " 3      322\n",
      " 4       76\n",
      " 5       26\n",
      " 8       19\n",
      " 6       11\n",
      " 7        9\n",
      "Name: PAY_1, dtype: int64\n",
      "------\n",
      " 0    15730\n",
      "-1     6050\n",
      " 2     3927\n",
      "-2     3782\n",
      " 3      326\n",
      " 4       99\n",
      " 1       28\n",
      " 5       25\n",
      " 7       20\n",
      " 6       12\n",
      " 8        1\n",
      "Name: PAY_2, dtype: int64\n",
      "------\n",
      " 0    15764\n",
      "-1     5938\n",
      "-2     4085\n",
      " 2     3819\n",
      " 3      240\n",
      " 4       76\n",
      " 7       27\n",
      " 6       23\n",
      " 5       21\n",
      " 1        4\n",
      " 8        3\n",
      "Name: PAY_3, dtype: int64\n",
      "------\n",
      " 0    16455\n",
      "-1     5687\n",
      "-2     4348\n",
      " 2     3159\n",
      " 3      180\n",
      " 4       69\n",
      " 7       58\n",
      " 5       35\n",
      " 6        5\n",
      " 1        2\n",
      " 8        2\n",
      "Name: PAY_4, dtype: int64\n",
      "------\n",
      " 0    16947\n",
      "-1     5539\n",
      "-2     4546\n",
      " 2     2626\n",
      " 3      178\n",
      " 4       84\n",
      " 7       58\n",
      " 5       17\n",
      " 6        4\n",
      " 8        1\n",
      "Name: PAY_5, dtype: int64\n",
      "------\n",
      " 0    16286\n",
      "-1     5740\n",
      "-2     4895\n",
      " 2     2766\n",
      " 3      184\n",
      " 4       49\n",
      " 7       46\n",
      " 6       19\n",
      " 5       13\n",
      " 8        2\n",
      "Name: PAY_6, dtype: int64\n"
     ]
    }
   ],
   "source": [
    "PAY_COUNT1 = df.PAY_1.value_counts()\n",
    "PAY_COUNT2 = df.PAY_2.value_counts()\n",
    "PAY_COUNT3 = df.PAY_3.value_counts()\n",
    "PAY_COUNT4 = df.PAY_4.value_counts()\n",
    "PAY_COUNT5 = df.PAY_5.value_counts()\n",
    "PAY_COUNT6 = df.PAY_6.value_counts()\n",
    "\n",
    "print(PAY_COUNT1)\n",
    "print(\"------\")\n",
    "print(PAY_COUNT2)\n",
    "print(\"------\")\n",
    "print(PAY_COUNT3)\n",
    "print(\"------\")\n",
    "print(PAY_COUNT4)\n",
    "print(\"------\")\n",
    "print(PAY_COUNT5)\n",
    "print(\"------\")\n",
    "print(PAY_COUNT6)"
   ]
  },
  {
   "cell_type": "markdown",
   "metadata": {
    "id": "1HpAkN3A3wDX"
   },
   "source": [
    "- All the `PAY_X` attributes has value 0 and -2 which is not defined \n",
    "\n",
    "*   From the definations, assumption can be made that the bigger the number, the longer the payments got delayed. \"-2\" can be assumed to mean pay fully or overpaid and \"0\" can be assumed to mean late payment within one month.\n",
    "\n",
    "*   In this analysis, we can consider \"-2\",\"-1\" and \"0\" as one group (value = -1), which indicate the client pay the credit balanced duely on that month.\n"
   ]
  },
  {
   "cell_type": "code",
   "execution_count": 28,
   "metadata": {
    "id": "SuFGl-4K4HRV"
   },
   "outputs": [],
   "source": [
    "df.PAY_1.replace({0:-1, -2:-1},inplace=True)\n",
    "df.PAY_2.replace({0:-1, -2:-1},inplace=True)\n",
    "df.PAY_3.replace({0:-1, -2:-1},inplace=True)\n",
    "df.PAY_4.replace({0:-1, -2:-1},inplace=True)\n",
    "df.PAY_5.replace({0:-1, -2:-1},inplace=True)\n",
    "df.PAY_6.replace({0:-1, -2:-1},inplace=True)"
   ]
  },
  {
   "cell_type": "code",
   "execution_count": 29,
   "metadata": {
    "colab": {
     "base_uri": "https://localhost:8080/"
    },
    "id": "AocDULrzqTCl",
    "outputId": "6a67cd5a-8a51-438f-eddb-d7746fd7f0cc"
   },
   "outputs": [
    {
     "name": "stdout",
     "output_type": "stream",
     "text": [
      "-1    23182\n",
      " 1     3688\n",
      " 2     2667\n",
      " 3      322\n",
      " 4       76\n",
      " 5       26\n",
      " 6       11\n",
      " 7        9\n",
      " 8       19\n",
      "Name: PAY_1, dtype: int64\n",
      "------\n",
      "-1    25562\n",
      " 1       28\n",
      " 2     3927\n",
      " 3      326\n",
      " 4       99\n",
      " 5       25\n",
      " 6       12\n",
      " 7       20\n",
      " 8        1\n",
      "Name: PAY_2, dtype: int64\n",
      "------\n",
      "-1    25787\n",
      " 1        4\n",
      " 2     3819\n",
      " 3      240\n",
      " 4       76\n",
      " 5       21\n",
      " 6       23\n",
      " 7       27\n",
      " 8        3\n",
      "Name: PAY_3, dtype: int64\n",
      "------\n",
      "-1    26490\n",
      " 1        2\n",
      " 2     3159\n",
      " 3      180\n",
      " 4       69\n",
      " 5       35\n",
      " 6        5\n",
      " 7       58\n",
      " 8        2\n",
      "Name: PAY_4, dtype: int64\n",
      "------\n",
      "-1    27032\n",
      " 2     2626\n",
      " 3      178\n",
      " 4       84\n",
      " 5       17\n",
      " 6        4\n",
      " 7       58\n",
      " 8        1\n",
      "Name: PAY_5, dtype: int64\n",
      "------\n",
      "-1    26921\n",
      " 2     2766\n",
      " 3      184\n",
      " 4       49\n",
      " 5       13\n",
      " 6       19\n",
      " 7       46\n",
      " 8        2\n",
      "Name: PAY_6, dtype: int64\n"
     ]
    }
   ],
   "source": [
    "PAY_COUNT1 = df.PAY_1.value_counts().sort_index()\n",
    "PAY_COUNT2 = df.PAY_2.value_counts().sort_index()\n",
    "PAY_COUNT3 = df.PAY_3.value_counts().sort_index()\n",
    "PAY_COUNT4 = df.PAY_4.value_counts().sort_index()\n",
    "PAY_COUNT5 = df.PAY_5.value_counts().sort_index()\n",
    "PAY_COUNT6 = df.PAY_6.value_counts().sort_index()\n",
    "\n",
    "print(PAY_COUNT1)\n",
    "print(\"------\")\n",
    "print(PAY_COUNT2)\n",
    "print(\"------\")\n",
    "print(PAY_COUNT3)\n",
    "print(\"------\")\n",
    "print(PAY_COUNT4)\n",
    "print(\"------\")\n",
    "print(PAY_COUNT5)\n",
    "print(\"------\")\n",
    "print(PAY_COUNT6)"
   ]
  },
  {
   "cell_type": "markdown",
   "metadata": {
    "id": "vLaFl0tLrxbN"
   },
   "source": [
    "Create new column\n",
    "- `TOTAL_LATE_PAYMENT` : Total times of late payment within 6 months (`PAY_1-6` >0 )\n",
    "\n",
    "- `TOTAL_MONTH_LATE` : Total months of late payment within 6 months"
   ]
  },
  {
   "cell_type": "code",
   "execution_count": 30,
   "metadata": {
    "id": "luFXJLeRQA05"
   },
   "outputs": [],
   "source": [
    "df.loc[:,\"TOTAL_LATE_PAYMENT\"]=df.loc[:,\"PAY_1\":\"PAY_6\"].applymap(lambda x: int(x>0)).sum(axis=1)"
   ]
  },
  {
   "cell_type": "code",
   "execution_count": 31,
   "metadata": {
    "colab": {
     "base_uri": "https://localhost:8080/",
     "height": 0
    },
    "id": "ptbSurKFqeNN",
    "outputId": "7a0d5ad0-bc46-4244-d060-5dcedb233d27"
   },
   "outputs": [
    {
     "data": {
      "text/html": [
       "<div>\n",
       "<style scoped>\n",
       "    .dataframe tbody tr th:only-of-type {\n",
       "        vertical-align: middle;\n",
       "    }\n",
       "\n",
       "    .dataframe tbody tr th {\n",
       "        vertical-align: top;\n",
       "    }\n",
       "\n",
       "    .dataframe thead th {\n",
       "        text-align: right;\n",
       "    }\n",
       "</style>\n",
       "<table border=\"1\" class=\"dataframe\">\n",
       "  <thead>\n",
       "    <tr style=\"text-align: right;\">\n",
       "      <th></th>\n",
       "      <th>LIMIT_BAL</th>\n",
       "      <th>SEX</th>\n",
       "      <th>EDUCATION</th>\n",
       "      <th>MARRIAGE</th>\n",
       "      <th>AGE</th>\n",
       "      <th>PAY_1</th>\n",
       "      <th>PAY_2</th>\n",
       "      <th>PAY_3</th>\n",
       "      <th>PAY_4</th>\n",
       "      <th>PAY_5</th>\n",
       "      <th>...</th>\n",
       "      <th>PAY_AMT1</th>\n",
       "      <th>PAY_AMT2</th>\n",
       "      <th>PAY_AMT3</th>\n",
       "      <th>PAY_AMT4</th>\n",
       "      <th>PAY_AMT5</th>\n",
       "      <th>PAY_AMT6</th>\n",
       "      <th>default.payment.next.month</th>\n",
       "      <th>AGE_GROUP</th>\n",
       "      <th>LIMIT_GROUP</th>\n",
       "      <th>TOTAL_LATE_PAYMENT</th>\n",
       "    </tr>\n",
       "    <tr>\n",
       "      <th>ID</th>\n",
       "      <th></th>\n",
       "      <th></th>\n",
       "      <th></th>\n",
       "      <th></th>\n",
       "      <th></th>\n",
       "      <th></th>\n",
       "      <th></th>\n",
       "      <th></th>\n",
       "      <th></th>\n",
       "      <th></th>\n",
       "      <th></th>\n",
       "      <th></th>\n",
       "      <th></th>\n",
       "      <th></th>\n",
       "      <th></th>\n",
       "      <th></th>\n",
       "      <th></th>\n",
       "      <th></th>\n",
       "      <th></th>\n",
       "      <th></th>\n",
       "      <th></th>\n",
       "    </tr>\n",
       "  </thead>\n",
       "  <tbody>\n",
       "    <tr>\n",
       "      <th>1</th>\n",
       "      <td>20000.0</td>\n",
       "      <td>Female</td>\n",
       "      <td>University</td>\n",
       "      <td>Married</td>\n",
       "      <td>24</td>\n",
       "      <td>2</td>\n",
       "      <td>2</td>\n",
       "      <td>-1</td>\n",
       "      <td>-1</td>\n",
       "      <td>-1</td>\n",
       "      <td>...</td>\n",
       "      <td>0.0</td>\n",
       "      <td>689.0</td>\n",
       "      <td>0.0</td>\n",
       "      <td>0.0</td>\n",
       "      <td>0.0</td>\n",
       "      <td>0.0</td>\n",
       "      <td>1</td>\n",
       "      <td>20-29</td>\n",
       "      <td>20k-50k</td>\n",
       "      <td>2</td>\n",
       "    </tr>\n",
       "    <tr>\n",
       "      <th>2</th>\n",
       "      <td>120000.0</td>\n",
       "      <td>Female</td>\n",
       "      <td>University</td>\n",
       "      <td>Single</td>\n",
       "      <td>26</td>\n",
       "      <td>-1</td>\n",
       "      <td>2</td>\n",
       "      <td>-1</td>\n",
       "      <td>-1</td>\n",
       "      <td>-1</td>\n",
       "      <td>...</td>\n",
       "      <td>0.0</td>\n",
       "      <td>1000.0</td>\n",
       "      <td>1000.0</td>\n",
       "      <td>1000.0</td>\n",
       "      <td>0.0</td>\n",
       "      <td>2000.0</td>\n",
       "      <td>1</td>\n",
       "      <td>20-29</td>\n",
       "      <td>100k-300k</td>\n",
       "      <td>2</td>\n",
       "    </tr>\n",
       "    <tr>\n",
       "      <th>3</th>\n",
       "      <td>90000.0</td>\n",
       "      <td>Female</td>\n",
       "      <td>University</td>\n",
       "      <td>Single</td>\n",
       "      <td>34</td>\n",
       "      <td>-1</td>\n",
       "      <td>-1</td>\n",
       "      <td>-1</td>\n",
       "      <td>-1</td>\n",
       "      <td>-1</td>\n",
       "      <td>...</td>\n",
       "      <td>1518.0</td>\n",
       "      <td>1500.0</td>\n",
       "      <td>1000.0</td>\n",
       "      <td>1000.0</td>\n",
       "      <td>1000.0</td>\n",
       "      <td>5000.0</td>\n",
       "      <td>0</td>\n",
       "      <td>30-39</td>\n",
       "      <td>50k-100k</td>\n",
       "      <td>0</td>\n",
       "    </tr>\n",
       "    <tr>\n",
       "      <th>4</th>\n",
       "      <td>50000.0</td>\n",
       "      <td>Female</td>\n",
       "      <td>University</td>\n",
       "      <td>Married</td>\n",
       "      <td>37</td>\n",
       "      <td>-1</td>\n",
       "      <td>-1</td>\n",
       "      <td>-1</td>\n",
       "      <td>-1</td>\n",
       "      <td>-1</td>\n",
       "      <td>...</td>\n",
       "      <td>2000.0</td>\n",
       "      <td>2019.0</td>\n",
       "      <td>1200.0</td>\n",
       "      <td>1100.0</td>\n",
       "      <td>1069.0</td>\n",
       "      <td>1000.0</td>\n",
       "      <td>0</td>\n",
       "      <td>30-39</td>\n",
       "      <td>50k-100k</td>\n",
       "      <td>0</td>\n",
       "    </tr>\n",
       "    <tr>\n",
       "      <th>5</th>\n",
       "      <td>50000.0</td>\n",
       "      <td>Male</td>\n",
       "      <td>University</td>\n",
       "      <td>Married</td>\n",
       "      <td>57</td>\n",
       "      <td>-1</td>\n",
       "      <td>-1</td>\n",
       "      <td>-1</td>\n",
       "      <td>-1</td>\n",
       "      <td>-1</td>\n",
       "      <td>...</td>\n",
       "      <td>2000.0</td>\n",
       "      <td>36681.0</td>\n",
       "      <td>10000.0</td>\n",
       "      <td>9000.0</td>\n",
       "      <td>689.0</td>\n",
       "      <td>679.0</td>\n",
       "      <td>0</td>\n",
       "      <td>50-59</td>\n",
       "      <td>50k-100k</td>\n",
       "      <td>0</td>\n",
       "    </tr>\n",
       "  </tbody>\n",
       "</table>\n",
       "<p>5 rows × 27 columns</p>\n",
       "</div>"
      ],
      "text/plain": [
       "    LIMIT_BAL     SEX   EDUCATION MARRIAGE  AGE  PAY_1  PAY_2  PAY_3  PAY_4  \\\n",
       "ID                                                                            \n",
       "1     20000.0  Female  University  Married   24      2      2     -1     -1   \n",
       "2    120000.0  Female  University   Single   26     -1      2     -1     -1   \n",
       "3     90000.0  Female  University   Single   34     -1     -1     -1     -1   \n",
       "4     50000.0  Female  University  Married   37     -1     -1     -1     -1   \n",
       "5     50000.0    Male  University  Married   57     -1     -1     -1     -1   \n",
       "\n",
       "    PAY_5  ...  PAY_AMT1  PAY_AMT2  PAY_AMT3  PAY_AMT4  PAY_AMT5  PAY_AMT6  \\\n",
       "ID         ...                                                               \n",
       "1      -1  ...       0.0     689.0       0.0       0.0       0.0       0.0   \n",
       "2      -1  ...       0.0    1000.0    1000.0    1000.0       0.0    2000.0   \n",
       "3      -1  ...    1518.0    1500.0    1000.0    1000.0    1000.0    5000.0   \n",
       "4      -1  ...    2000.0    2019.0    1200.0    1100.0    1069.0    1000.0   \n",
       "5      -1  ...    2000.0   36681.0   10000.0    9000.0     689.0     679.0   \n",
       "\n",
       "    default.payment.next.month  AGE_GROUP  LIMIT_GROUP  TOTAL_LATE_PAYMENT  \n",
       "ID                                                                          \n",
       "1                            1      20-29      20k-50k                   2  \n",
       "2                            1      20-29    100k-300k                   2  \n",
       "3                            0      30-39     50k-100k                   0  \n",
       "4                            0      30-39     50k-100k                   0  \n",
       "5                            0      50-59     50k-100k                   0  \n",
       "\n",
       "[5 rows x 27 columns]"
      ]
     },
     "execution_count": 31,
     "metadata": {},
     "output_type": "execute_result"
    }
   ],
   "source": [
    "df.head(5)"
   ]
  },
  {
   "cell_type": "markdown",
   "metadata": {
    "id": "1-4cdVzl5QOG"
   },
   "source": [
    "## 7. BILL_AMT1 - BILL_AMT6\n",
    "Create new column\n",
    "- `RATIO` : Average Credit utilization \n"
   ]
  },
  {
   "cell_type": "code",
   "execution_count": 32,
   "metadata": {
    "colab": {
     "base_uri": "https://localhost:8080/",
     "height": 0
    },
    "id": "A85SZ2faEtzQ",
    "outputId": "b426df90-b5a0-4a26-c2f7-7c5007df6211"
   },
   "outputs": [
    {
     "data": {
      "text/html": [
       "<div>\n",
       "<style scoped>\n",
       "    .dataframe tbody tr th:only-of-type {\n",
       "        vertical-align: middle;\n",
       "    }\n",
       "\n",
       "    .dataframe tbody tr th {\n",
       "        vertical-align: top;\n",
       "    }\n",
       "\n",
       "    .dataframe thead th {\n",
       "        text-align: right;\n",
       "    }\n",
       "</style>\n",
       "<table border=\"1\" class=\"dataframe\">\n",
       "  <thead>\n",
       "    <tr style=\"text-align: right;\">\n",
       "      <th></th>\n",
       "      <th>BILL_AMT1</th>\n",
       "      <th>BILL_AMT2</th>\n",
       "      <th>BILL_AMT3</th>\n",
       "      <th>BILL_AMT4</th>\n",
       "      <th>BILL_AMT5</th>\n",
       "      <th>BILL_AMT6</th>\n",
       "    </tr>\n",
       "  </thead>\n",
       "  <tbody>\n",
       "    <tr>\n",
       "      <th>count</th>\n",
       "      <td>30000.000000</td>\n",
       "      <td>30000.000000</td>\n",
       "      <td>3.000000e+04</td>\n",
       "      <td>30000.000000</td>\n",
       "      <td>30000.000000</td>\n",
       "      <td>30000.000000</td>\n",
       "    </tr>\n",
       "    <tr>\n",
       "      <th>mean</th>\n",
       "      <td>51223.330900</td>\n",
       "      <td>49179.075167</td>\n",
       "      <td>4.701315e+04</td>\n",
       "      <td>43262.948967</td>\n",
       "      <td>40311.400967</td>\n",
       "      <td>38871.760400</td>\n",
       "    </tr>\n",
       "    <tr>\n",
       "      <th>std</th>\n",
       "      <td>73635.860576</td>\n",
       "      <td>71173.768783</td>\n",
       "      <td>6.934939e+04</td>\n",
       "      <td>64332.856134</td>\n",
       "      <td>60797.155770</td>\n",
       "      <td>59554.107537</td>\n",
       "    </tr>\n",
       "    <tr>\n",
       "      <th>min</th>\n",
       "      <td>-165580.000000</td>\n",
       "      <td>-69777.000000</td>\n",
       "      <td>-1.572640e+05</td>\n",
       "      <td>-170000.000000</td>\n",
       "      <td>-81334.000000</td>\n",
       "      <td>-339603.000000</td>\n",
       "    </tr>\n",
       "    <tr>\n",
       "      <th>25%</th>\n",
       "      <td>3558.750000</td>\n",
       "      <td>2984.750000</td>\n",
       "      <td>2.666250e+03</td>\n",
       "      <td>2326.750000</td>\n",
       "      <td>1763.000000</td>\n",
       "      <td>1256.000000</td>\n",
       "    </tr>\n",
       "    <tr>\n",
       "      <th>50%</th>\n",
       "      <td>22381.500000</td>\n",
       "      <td>21200.000000</td>\n",
       "      <td>2.008850e+04</td>\n",
       "      <td>19052.000000</td>\n",
       "      <td>18104.500000</td>\n",
       "      <td>17071.000000</td>\n",
       "    </tr>\n",
       "    <tr>\n",
       "      <th>75%</th>\n",
       "      <td>67091.000000</td>\n",
       "      <td>64006.250000</td>\n",
       "      <td>6.016475e+04</td>\n",
       "      <td>54506.000000</td>\n",
       "      <td>50190.500000</td>\n",
       "      <td>49198.250000</td>\n",
       "    </tr>\n",
       "    <tr>\n",
       "      <th>max</th>\n",
       "      <td>964511.000000</td>\n",
       "      <td>983931.000000</td>\n",
       "      <td>1.664089e+06</td>\n",
       "      <td>891586.000000</td>\n",
       "      <td>927171.000000</td>\n",
       "      <td>961664.000000</td>\n",
       "    </tr>\n",
       "  </tbody>\n",
       "</table>\n",
       "</div>"
      ],
      "text/plain": [
       "           BILL_AMT1      BILL_AMT2     BILL_AMT3      BILL_AMT4  \\\n",
       "count   30000.000000   30000.000000  3.000000e+04   30000.000000   \n",
       "mean    51223.330900   49179.075167  4.701315e+04   43262.948967   \n",
       "std     73635.860576   71173.768783  6.934939e+04   64332.856134   \n",
       "min   -165580.000000  -69777.000000 -1.572640e+05 -170000.000000   \n",
       "25%      3558.750000    2984.750000  2.666250e+03    2326.750000   \n",
       "50%     22381.500000   21200.000000  2.008850e+04   19052.000000   \n",
       "75%     67091.000000   64006.250000  6.016475e+04   54506.000000   \n",
       "max    964511.000000  983931.000000  1.664089e+06  891586.000000   \n",
       "\n",
       "           BILL_AMT5      BILL_AMT6  \n",
       "count   30000.000000   30000.000000  \n",
       "mean    40311.400967   38871.760400  \n",
       "std     60797.155770   59554.107537  \n",
       "min    -81334.000000 -339603.000000  \n",
       "25%      1763.000000    1256.000000  \n",
       "50%     18104.500000   17071.000000  \n",
       "75%     50190.500000   49198.250000  \n",
       "max    927171.000000  961664.000000  "
      ]
     },
     "execution_count": 32,
     "metadata": {},
     "output_type": "execute_result"
    }
   ],
   "source": [
    "df[[\"BILL_AMT1\",\"BILL_AMT2\",\"BILL_AMT3\",\"BILL_AMT4\",\"BILL_AMT5\",\"BILL_AMT6\"]].describe()"
   ]
  },
  {
   "cell_type": "markdown",
   "metadata": {
    "id": "7oJ-j_gTFA2v"
   },
   "source": [
    "There are negative bill amounts as there are overpayments made, as the bill amount itself is not really meaningful; \n",
    "A series of new attributes will be generated: credit utilization ratio\n",
    "\n",
    "credit utilization ratio captures the ratio of your outstanding credit card balances to your credit card limits, which is an important factor when predicting the default/credit risk. \n",
    "\n",
    "Credit utilization ratio = Bill amount / credit limit \n"
   ]
  },
  {
   "cell_type": "code",
   "execution_count": 33,
   "metadata": {
    "id": "NBhDVRjMFD-4"
   },
   "outputs": [],
   "source": [
    "df.eval(\n",
    "    '''    \n",
    "RATIO_1 = (BILL_AMT1 / LIMIT_BAL)*100\n",
    "RATIO_2 = (BILL_AMT2 / LIMIT_BAL)*100 \n",
    "RATIO_3 = (BILL_AMT3 / LIMIT_BAL)*100\n",
    "RATIO_4 = (BILL_AMT4 / LIMIT_BAL)*100\n",
    "RATIO_5 = (BILL_AMT5 / LIMIT_BAL)*100\n",
    "RATIO_6 = (BILL_AMT6 / LIMIT_BAL)*100\n",
    "'''\n",
    ", inplace = True)"
   ]
  },
  {
   "cell_type": "code",
   "execution_count": 34,
   "metadata": {
    "colab": {
     "base_uri": "https://localhost:8080/",
     "height": 0
    },
    "id": "XHRYzEJE7NFC",
    "outputId": "3ea400f5-ab1e-4c79-ae80-9ef0c2670770"
   },
   "outputs": [
    {
     "data": {
      "text/html": [
       "<div>\n",
       "<style scoped>\n",
       "    .dataframe tbody tr th:only-of-type {\n",
       "        vertical-align: middle;\n",
       "    }\n",
       "\n",
       "    .dataframe tbody tr th {\n",
       "        vertical-align: top;\n",
       "    }\n",
       "\n",
       "    .dataframe thead th {\n",
       "        text-align: right;\n",
       "    }\n",
       "</style>\n",
       "<table border=\"1\" class=\"dataframe\">\n",
       "  <thead>\n",
       "    <tr style=\"text-align: right;\">\n",
       "      <th></th>\n",
       "      <th>RATIO_1</th>\n",
       "      <th>RATIO_2</th>\n",
       "      <th>RATIO_3</th>\n",
       "      <th>RATIO_4</th>\n",
       "      <th>RATIO_5</th>\n",
       "      <th>RATIO_6</th>\n",
       "    </tr>\n",
       "  </thead>\n",
       "  <tbody>\n",
       "    <tr>\n",
       "      <th>count</th>\n",
       "      <td>30000.000000</td>\n",
       "      <td>30000.000000</td>\n",
       "      <td>30000.000000</td>\n",
       "      <td>30000.000000</td>\n",
       "      <td>30000.000000</td>\n",
       "      <td>30000.000000</td>\n",
       "    </tr>\n",
       "    <tr>\n",
       "      <th>mean</th>\n",
       "      <td>42.377145</td>\n",
       "      <td>41.112812</td>\n",
       "      <td>39.219232</td>\n",
       "      <td>35.950289</td>\n",
       "      <td>33.310794</td>\n",
       "      <td>31.858495</td>\n",
       "    </tr>\n",
       "    <tr>\n",
       "      <th>std</th>\n",
       "      <td>41.146241</td>\n",
       "      <td>40.455475</td>\n",
       "      <td>39.644878</td>\n",
       "      <td>36.868582</td>\n",
       "      <td>35.054205</td>\n",
       "      <td>34.530077</td>\n",
       "    </tr>\n",
       "    <tr>\n",
       "      <th>min</th>\n",
       "      <td>-61.989200</td>\n",
       "      <td>-139.554000</td>\n",
       "      <td>-102.510000</td>\n",
       "      <td>-137.450000</td>\n",
       "      <td>-87.674286</td>\n",
       "      <td>-150.953000</td>\n",
       "    </tr>\n",
       "    <tr>\n",
       "      <th>25%</th>\n",
       "      <td>2.203167</td>\n",
       "      <td>1.831826</td>\n",
       "      <td>1.603047</td>\n",
       "      <td>1.429853</td>\n",
       "      <td>1.113309</td>\n",
       "      <td>0.780000</td>\n",
       "    </tr>\n",
       "    <tr>\n",
       "      <th>50%</th>\n",
       "      <td>31.399386</td>\n",
       "      <td>29.605750</td>\n",
       "      <td>27.313500</td>\n",
       "      <td>24.206627</td>\n",
       "      <td>21.202632</td>\n",
       "      <td>18.522389</td>\n",
       "    </tr>\n",
       "    <tr>\n",
       "      <th>75%</th>\n",
       "      <td>82.984318</td>\n",
       "      <td>80.650000</td>\n",
       "      <td>75.510652</td>\n",
       "      <td>66.793722</td>\n",
       "      <td>60.224500</td>\n",
       "      <td>58.216944</td>\n",
       "    </tr>\n",
       "    <tr>\n",
       "      <th>max</th>\n",
       "      <td>645.530000</td>\n",
       "      <td>638.050000</td>\n",
       "      <td>1068.857500</td>\n",
       "      <td>514.685000</td>\n",
       "      <td>493.550000</td>\n",
       "      <td>388.555000</td>\n",
       "    </tr>\n",
       "  </tbody>\n",
       "</table>\n",
       "</div>"
      ],
      "text/plain": [
       "            RATIO_1       RATIO_2       RATIO_3       RATIO_4       RATIO_5  \\\n",
       "count  30000.000000  30000.000000  30000.000000  30000.000000  30000.000000   \n",
       "mean      42.377145     41.112812     39.219232     35.950289     33.310794   \n",
       "std       41.146241     40.455475     39.644878     36.868582     35.054205   \n",
       "min      -61.989200   -139.554000   -102.510000   -137.450000    -87.674286   \n",
       "25%        2.203167      1.831826      1.603047      1.429853      1.113309   \n",
       "50%       31.399386     29.605750     27.313500     24.206627     21.202632   \n",
       "75%       82.984318     80.650000     75.510652     66.793722     60.224500   \n",
       "max      645.530000    638.050000   1068.857500    514.685000    493.550000   \n",
       "\n",
       "            RATIO_6  \n",
       "count  30000.000000  \n",
       "mean      31.858495  \n",
       "std       34.530077  \n",
       "min     -150.953000  \n",
       "25%        0.780000  \n",
       "50%       18.522389  \n",
       "75%       58.216944  \n",
       "max      388.555000  "
      ]
     },
     "execution_count": 34,
     "metadata": {},
     "output_type": "execute_result"
    }
   ],
   "source": [
    "df[[\"RATIO_1\",\"RATIO_2\",\"RATIO_3\",\"RATIO_4\",\"RATIO_5\",\"RATIO_6\"]].describe()"
   ]
  },
  {
   "cell_type": "code",
   "execution_count": 35,
   "metadata": {
    "id": "8yqjkOT5yyKz"
   },
   "outputs": [],
   "source": [
    "cols = ['RATIO_1','RATIO_2','RATIO_3','RATIO_4','RATIO_5','RATIO_6']\n",
    "df['RATIO'] = df[cols].astype(float).mean(axis=1)\n",
    "\n",
    "df.drop(columns=['RATIO_1','RATIO_2','RATIO_3','RATIO_4','RATIO_5','RATIO_6'], inplace = True)"
   ]
  },
  {
   "cell_type": "code",
   "execution_count": 36,
   "metadata": {
    "colab": {
     "base_uri": "https://localhost:8080/",
     "height": 0
    },
    "id": "GqiDKuAg4TT1",
    "outputId": "081bb5c4-0cc7-4544-ca37-20e300f8d3d3"
   },
   "outputs": [
    {
     "data": {
      "text/html": [
       "<div>\n",
       "<style scoped>\n",
       "    .dataframe tbody tr th:only-of-type {\n",
       "        vertical-align: middle;\n",
       "    }\n",
       "\n",
       "    .dataframe tbody tr th {\n",
       "        vertical-align: top;\n",
       "    }\n",
       "\n",
       "    .dataframe thead th {\n",
       "        text-align: right;\n",
       "    }\n",
       "</style>\n",
       "<table border=\"1\" class=\"dataframe\">\n",
       "  <thead>\n",
       "    <tr style=\"text-align: right;\">\n",
       "      <th></th>\n",
       "      <th>LIMIT_BAL</th>\n",
       "      <th>SEX</th>\n",
       "      <th>EDUCATION</th>\n",
       "      <th>MARRIAGE</th>\n",
       "      <th>AGE</th>\n",
       "      <th>PAY_1</th>\n",
       "      <th>PAY_2</th>\n",
       "      <th>PAY_3</th>\n",
       "      <th>PAY_4</th>\n",
       "      <th>PAY_5</th>\n",
       "      <th>...</th>\n",
       "      <th>PAY_AMT2</th>\n",
       "      <th>PAY_AMT3</th>\n",
       "      <th>PAY_AMT4</th>\n",
       "      <th>PAY_AMT5</th>\n",
       "      <th>PAY_AMT6</th>\n",
       "      <th>default.payment.next.month</th>\n",
       "      <th>AGE_GROUP</th>\n",
       "      <th>LIMIT_GROUP</th>\n",
       "      <th>TOTAL_LATE_PAYMENT</th>\n",
       "      <th>RATIO</th>\n",
       "    </tr>\n",
       "    <tr>\n",
       "      <th>ID</th>\n",
       "      <th></th>\n",
       "      <th></th>\n",
       "      <th></th>\n",
       "      <th></th>\n",
       "      <th></th>\n",
       "      <th></th>\n",
       "      <th></th>\n",
       "      <th></th>\n",
       "      <th></th>\n",
       "      <th></th>\n",
       "      <th></th>\n",
       "      <th></th>\n",
       "      <th></th>\n",
       "      <th></th>\n",
       "      <th></th>\n",
       "      <th></th>\n",
       "      <th></th>\n",
       "      <th></th>\n",
       "      <th></th>\n",
       "      <th></th>\n",
       "      <th></th>\n",
       "    </tr>\n",
       "  </thead>\n",
       "  <tbody>\n",
       "    <tr>\n",
       "      <th>1</th>\n",
       "      <td>20000.0</td>\n",
       "      <td>Female</td>\n",
       "      <td>University</td>\n",
       "      <td>Married</td>\n",
       "      <td>24</td>\n",
       "      <td>2</td>\n",
       "      <td>2</td>\n",
       "      <td>-1</td>\n",
       "      <td>-1</td>\n",
       "      <td>-1</td>\n",
       "      <td>...</td>\n",
       "      <td>689.0</td>\n",
       "      <td>0.0</td>\n",
       "      <td>0.0</td>\n",
       "      <td>0.0</td>\n",
       "      <td>0.0</td>\n",
       "      <td>1</td>\n",
       "      <td>20-29</td>\n",
       "      <td>20k-50k</td>\n",
       "      <td>2</td>\n",
       "      <td>6.420000</td>\n",
       "    </tr>\n",
       "    <tr>\n",
       "      <th>2</th>\n",
       "      <td>120000.0</td>\n",
       "      <td>Female</td>\n",
       "      <td>University</td>\n",
       "      <td>Single</td>\n",
       "      <td>26</td>\n",
       "      <td>-1</td>\n",
       "      <td>2</td>\n",
       "      <td>-1</td>\n",
       "      <td>-1</td>\n",
       "      <td>-1</td>\n",
       "      <td>...</td>\n",
       "      <td>1000.0</td>\n",
       "      <td>1000.0</td>\n",
       "      <td>1000.0</td>\n",
       "      <td>0.0</td>\n",
       "      <td>2000.0</td>\n",
       "      <td>1</td>\n",
       "      <td>20-29</td>\n",
       "      <td>100k-300k</td>\n",
       "      <td>2</td>\n",
       "      <td>2.371806</td>\n",
       "    </tr>\n",
       "    <tr>\n",
       "      <th>3</th>\n",
       "      <td>90000.0</td>\n",
       "      <td>Female</td>\n",
       "      <td>University</td>\n",
       "      <td>Single</td>\n",
       "      <td>34</td>\n",
       "      <td>-1</td>\n",
       "      <td>-1</td>\n",
       "      <td>-1</td>\n",
       "      <td>-1</td>\n",
       "      <td>-1</td>\n",
       "      <td>...</td>\n",
       "      <td>1500.0</td>\n",
       "      <td>1000.0</td>\n",
       "      <td>1000.0</td>\n",
       "      <td>1000.0</td>\n",
       "      <td>5000.0</td>\n",
       "      <td>0</td>\n",
       "      <td>30-39</td>\n",
       "      <td>50k-100k</td>\n",
       "      <td>0</td>\n",
       "      <td>18.824630</td>\n",
       "    </tr>\n",
       "    <tr>\n",
       "      <th>4</th>\n",
       "      <td>50000.0</td>\n",
       "      <td>Female</td>\n",
       "      <td>University</td>\n",
       "      <td>Married</td>\n",
       "      <td>37</td>\n",
       "      <td>-1</td>\n",
       "      <td>-1</td>\n",
       "      <td>-1</td>\n",
       "      <td>-1</td>\n",
       "      <td>-1</td>\n",
       "      <td>...</td>\n",
       "      <td>2019.0</td>\n",
       "      <td>1200.0</td>\n",
       "      <td>1100.0</td>\n",
       "      <td>1069.0</td>\n",
       "      <td>1000.0</td>\n",
       "      <td>0</td>\n",
       "      <td>30-39</td>\n",
       "      <td>50k-100k</td>\n",
       "      <td>0</td>\n",
       "      <td>77.111333</td>\n",
       "    </tr>\n",
       "    <tr>\n",
       "      <th>5</th>\n",
       "      <td>50000.0</td>\n",
       "      <td>Male</td>\n",
       "      <td>University</td>\n",
       "      <td>Married</td>\n",
       "      <td>57</td>\n",
       "      <td>-1</td>\n",
       "      <td>-1</td>\n",
       "      <td>-1</td>\n",
       "      <td>-1</td>\n",
       "      <td>-1</td>\n",
       "      <td>...</td>\n",
       "      <td>36681.0</td>\n",
       "      <td>10000.0</td>\n",
       "      <td>9000.0</td>\n",
       "      <td>689.0</td>\n",
       "      <td>679.0</td>\n",
       "      <td>0</td>\n",
       "      <td>50-59</td>\n",
       "      <td>50k-100k</td>\n",
       "      <td>0</td>\n",
       "      <td>36.446333</td>\n",
       "    </tr>\n",
       "  </tbody>\n",
       "</table>\n",
       "<p>5 rows × 28 columns</p>\n",
       "</div>"
      ],
      "text/plain": [
       "    LIMIT_BAL     SEX   EDUCATION MARRIAGE  AGE  PAY_1  PAY_2  PAY_3  PAY_4  \\\n",
       "ID                                                                            \n",
       "1     20000.0  Female  University  Married   24      2      2     -1     -1   \n",
       "2    120000.0  Female  University   Single   26     -1      2     -1     -1   \n",
       "3     90000.0  Female  University   Single   34     -1     -1     -1     -1   \n",
       "4     50000.0  Female  University  Married   37     -1     -1     -1     -1   \n",
       "5     50000.0    Male  University  Married   57     -1     -1     -1     -1   \n",
       "\n",
       "    PAY_5  ...  PAY_AMT2  PAY_AMT3  PAY_AMT4  PAY_AMT5  PAY_AMT6  \\\n",
       "ID         ...                                                     \n",
       "1      -1  ...     689.0       0.0       0.0       0.0       0.0   \n",
       "2      -1  ...    1000.0    1000.0    1000.0       0.0    2000.0   \n",
       "3      -1  ...    1500.0    1000.0    1000.0    1000.0    5000.0   \n",
       "4      -1  ...    2019.0    1200.0    1100.0    1069.0    1000.0   \n",
       "5      -1  ...   36681.0   10000.0    9000.0     689.0     679.0   \n",
       "\n",
       "    default.payment.next.month  AGE_GROUP  LIMIT_GROUP  TOTAL_LATE_PAYMENT  \\\n",
       "ID                                                                           \n",
       "1                            1      20-29      20k-50k                   2   \n",
       "2                            1      20-29    100k-300k                   2   \n",
       "3                            0      30-39     50k-100k                   0   \n",
       "4                            0      30-39     50k-100k                   0   \n",
       "5                            0      50-59     50k-100k                   0   \n",
       "\n",
       "        RATIO  \n",
       "ID             \n",
       "1    6.420000  \n",
       "2    2.371806  \n",
       "3   18.824630  \n",
       "4   77.111333  \n",
       "5   36.446333  \n",
       "\n",
       "[5 rows x 28 columns]"
      ]
     },
     "execution_count": 36,
     "metadata": {},
     "output_type": "execute_result"
    }
   ],
   "source": [
    "df.head(5)"
   ]
  },
  {
   "cell_type": "markdown",
   "metadata": {
    "id": "Y0PhZrjqFt_T"
   },
   "source": [
    "## 8. PAY_AMT1 - PAY_AMT6\n"
   ]
  },
  {
   "cell_type": "code",
   "execution_count": 37,
   "metadata": {
    "colab": {
     "base_uri": "https://localhost:8080/",
     "height": 0
    },
    "id": "9neBT74BF52T",
    "outputId": "1301b4b8-cfca-416e-8648-288fd9f292bb"
   },
   "outputs": [
    {
     "data": {
      "text/html": [
       "<div>\n",
       "<style scoped>\n",
       "    .dataframe tbody tr th:only-of-type {\n",
       "        vertical-align: middle;\n",
       "    }\n",
       "\n",
       "    .dataframe tbody tr th {\n",
       "        vertical-align: top;\n",
       "    }\n",
       "\n",
       "    .dataframe thead th {\n",
       "        text-align: right;\n",
       "    }\n",
       "</style>\n",
       "<table border=\"1\" class=\"dataframe\">\n",
       "  <thead>\n",
       "    <tr style=\"text-align: right;\">\n",
       "      <th></th>\n",
       "      <th>PAY_AMT1</th>\n",
       "      <th>PAY_AMT2</th>\n",
       "      <th>PAY_AMT3</th>\n",
       "      <th>PAY_AMT4</th>\n",
       "      <th>PAY_AMT5</th>\n",
       "      <th>PAY_AMT6</th>\n",
       "    </tr>\n",
       "  </thead>\n",
       "  <tbody>\n",
       "    <tr>\n",
       "      <th>count</th>\n",
       "      <td>30000.000000</td>\n",
       "      <td>3.000000e+04</td>\n",
       "      <td>30000.00000</td>\n",
       "      <td>30000.000000</td>\n",
       "      <td>30000.000000</td>\n",
       "      <td>30000.000000</td>\n",
       "    </tr>\n",
       "    <tr>\n",
       "      <th>mean</th>\n",
       "      <td>5663.580500</td>\n",
       "      <td>5.921163e+03</td>\n",
       "      <td>5225.68150</td>\n",
       "      <td>4826.076867</td>\n",
       "      <td>4799.387633</td>\n",
       "      <td>5215.502567</td>\n",
       "    </tr>\n",
       "    <tr>\n",
       "      <th>std</th>\n",
       "      <td>16563.280354</td>\n",
       "      <td>2.304087e+04</td>\n",
       "      <td>17606.96147</td>\n",
       "      <td>15666.159744</td>\n",
       "      <td>15278.305679</td>\n",
       "      <td>17777.465775</td>\n",
       "    </tr>\n",
       "    <tr>\n",
       "      <th>min</th>\n",
       "      <td>0.000000</td>\n",
       "      <td>0.000000e+00</td>\n",
       "      <td>0.00000</td>\n",
       "      <td>0.000000</td>\n",
       "      <td>0.000000</td>\n",
       "      <td>0.000000</td>\n",
       "    </tr>\n",
       "    <tr>\n",
       "      <th>25%</th>\n",
       "      <td>1000.000000</td>\n",
       "      <td>8.330000e+02</td>\n",
       "      <td>390.00000</td>\n",
       "      <td>296.000000</td>\n",
       "      <td>252.500000</td>\n",
       "      <td>117.750000</td>\n",
       "    </tr>\n",
       "    <tr>\n",
       "      <th>50%</th>\n",
       "      <td>2100.000000</td>\n",
       "      <td>2.009000e+03</td>\n",
       "      <td>1800.00000</td>\n",
       "      <td>1500.000000</td>\n",
       "      <td>1500.000000</td>\n",
       "      <td>1500.000000</td>\n",
       "    </tr>\n",
       "    <tr>\n",
       "      <th>75%</th>\n",
       "      <td>5006.000000</td>\n",
       "      <td>5.000000e+03</td>\n",
       "      <td>4505.00000</td>\n",
       "      <td>4013.250000</td>\n",
       "      <td>4031.500000</td>\n",
       "      <td>4000.000000</td>\n",
       "    </tr>\n",
       "    <tr>\n",
       "      <th>max</th>\n",
       "      <td>873552.000000</td>\n",
       "      <td>1.684259e+06</td>\n",
       "      <td>896040.00000</td>\n",
       "      <td>621000.000000</td>\n",
       "      <td>426529.000000</td>\n",
       "      <td>528666.000000</td>\n",
       "    </tr>\n",
       "  </tbody>\n",
       "</table>\n",
       "</div>"
      ],
      "text/plain": [
       "            PAY_AMT1      PAY_AMT2      PAY_AMT3       PAY_AMT4  \\\n",
       "count   30000.000000  3.000000e+04   30000.00000   30000.000000   \n",
       "mean     5663.580500  5.921163e+03    5225.68150    4826.076867   \n",
       "std     16563.280354  2.304087e+04   17606.96147   15666.159744   \n",
       "min         0.000000  0.000000e+00       0.00000       0.000000   \n",
       "25%      1000.000000  8.330000e+02     390.00000     296.000000   \n",
       "50%      2100.000000  2.009000e+03    1800.00000    1500.000000   \n",
       "75%      5006.000000  5.000000e+03    4505.00000    4013.250000   \n",
       "max    873552.000000  1.684259e+06  896040.00000  621000.000000   \n",
       "\n",
       "            PAY_AMT5       PAY_AMT6  \n",
       "count   30000.000000   30000.000000  \n",
       "mean     4799.387633    5215.502567  \n",
       "std     15278.305679   17777.465775  \n",
       "min         0.000000       0.000000  \n",
       "25%       252.500000     117.750000  \n",
       "50%      1500.000000    1500.000000  \n",
       "75%      4031.500000    4000.000000  \n",
       "max    426529.000000  528666.000000  "
      ]
     },
     "execution_count": 37,
     "metadata": {},
     "output_type": "execute_result"
    }
   ],
   "source": [
    "df[[\"PAY_AMT1\",\"PAY_AMT2\",\"PAY_AMT3\",\"PAY_AMT4\",\"PAY_AMT5\",\"PAY_AMT6\"]].describe()"
   ]
  },
  {
   "cell_type": "markdown",
   "metadata": {
    "id": "kRP_G5CY6AT4"
   },
   "source": [
    "## 9. default.payment.next.month (DEFAULT)"
   ]
  },
  {
   "cell_type": "code",
   "execution_count": 38,
   "metadata": {
    "id": "hQj5JhHI6QPu"
   },
   "outputs": [],
   "source": [
    "# Rename this column as 'DEFAULT'\n",
    "\n",
    "df.rename(columns={'default.payment.next.month':'DEFAULT'}, inplace=True)"
   ]
  },
  {
   "cell_type": "code",
   "execution_count": 39,
   "metadata": {
    "colab": {
     "base_uri": "https://localhost:8080/",
     "height": 0
    },
    "id": "jODjGl2o6bQ_",
    "outputId": "00b6801a-9dc0-42e0-9d9f-b4da7cb6849d"
   },
   "outputs": [
    {
     "data": {
      "text/html": [
       "<div>\n",
       "<style scoped>\n",
       "    .dataframe tbody tr th:only-of-type {\n",
       "        vertical-align: middle;\n",
       "    }\n",
       "\n",
       "    .dataframe tbody tr th {\n",
       "        vertical-align: top;\n",
       "    }\n",
       "\n",
       "    .dataframe thead th {\n",
       "        text-align: right;\n",
       "    }\n",
       "</style>\n",
       "<table border=\"1\" class=\"dataframe\">\n",
       "  <thead>\n",
       "    <tr style=\"text-align: right;\">\n",
       "      <th></th>\n",
       "      <th>LIMIT_BAL</th>\n",
       "      <th>SEX</th>\n",
       "      <th>EDUCATION</th>\n",
       "      <th>MARRIAGE</th>\n",
       "      <th>AGE</th>\n",
       "      <th>PAY_1</th>\n",
       "      <th>PAY_2</th>\n",
       "      <th>PAY_3</th>\n",
       "      <th>PAY_4</th>\n",
       "      <th>PAY_5</th>\n",
       "      <th>...</th>\n",
       "      <th>PAY_AMT2</th>\n",
       "      <th>PAY_AMT3</th>\n",
       "      <th>PAY_AMT4</th>\n",
       "      <th>PAY_AMT5</th>\n",
       "      <th>PAY_AMT6</th>\n",
       "      <th>DEFAULT</th>\n",
       "      <th>AGE_GROUP</th>\n",
       "      <th>LIMIT_GROUP</th>\n",
       "      <th>TOTAL_LATE_PAYMENT</th>\n",
       "      <th>RATIO</th>\n",
       "    </tr>\n",
       "    <tr>\n",
       "      <th>ID</th>\n",
       "      <th></th>\n",
       "      <th></th>\n",
       "      <th></th>\n",
       "      <th></th>\n",
       "      <th></th>\n",
       "      <th></th>\n",
       "      <th></th>\n",
       "      <th></th>\n",
       "      <th></th>\n",
       "      <th></th>\n",
       "      <th></th>\n",
       "      <th></th>\n",
       "      <th></th>\n",
       "      <th></th>\n",
       "      <th></th>\n",
       "      <th></th>\n",
       "      <th></th>\n",
       "      <th></th>\n",
       "      <th></th>\n",
       "      <th></th>\n",
       "      <th></th>\n",
       "    </tr>\n",
       "  </thead>\n",
       "  <tbody>\n",
       "    <tr>\n",
       "      <th>1</th>\n",
       "      <td>20000.0</td>\n",
       "      <td>Female</td>\n",
       "      <td>University</td>\n",
       "      <td>Married</td>\n",
       "      <td>24</td>\n",
       "      <td>2</td>\n",
       "      <td>2</td>\n",
       "      <td>-1</td>\n",
       "      <td>-1</td>\n",
       "      <td>-1</td>\n",
       "      <td>...</td>\n",
       "      <td>689.0</td>\n",
       "      <td>0.0</td>\n",
       "      <td>0.0</td>\n",
       "      <td>0.0</td>\n",
       "      <td>0.0</td>\n",
       "      <td>1</td>\n",
       "      <td>20-29</td>\n",
       "      <td>20k-50k</td>\n",
       "      <td>2</td>\n",
       "      <td>6.420000</td>\n",
       "    </tr>\n",
       "    <tr>\n",
       "      <th>2</th>\n",
       "      <td>120000.0</td>\n",
       "      <td>Female</td>\n",
       "      <td>University</td>\n",
       "      <td>Single</td>\n",
       "      <td>26</td>\n",
       "      <td>-1</td>\n",
       "      <td>2</td>\n",
       "      <td>-1</td>\n",
       "      <td>-1</td>\n",
       "      <td>-1</td>\n",
       "      <td>...</td>\n",
       "      <td>1000.0</td>\n",
       "      <td>1000.0</td>\n",
       "      <td>1000.0</td>\n",
       "      <td>0.0</td>\n",
       "      <td>2000.0</td>\n",
       "      <td>1</td>\n",
       "      <td>20-29</td>\n",
       "      <td>100k-300k</td>\n",
       "      <td>2</td>\n",
       "      <td>2.371806</td>\n",
       "    </tr>\n",
       "    <tr>\n",
       "      <th>3</th>\n",
       "      <td>90000.0</td>\n",
       "      <td>Female</td>\n",
       "      <td>University</td>\n",
       "      <td>Single</td>\n",
       "      <td>34</td>\n",
       "      <td>-1</td>\n",
       "      <td>-1</td>\n",
       "      <td>-1</td>\n",
       "      <td>-1</td>\n",
       "      <td>-1</td>\n",
       "      <td>...</td>\n",
       "      <td>1500.0</td>\n",
       "      <td>1000.0</td>\n",
       "      <td>1000.0</td>\n",
       "      <td>1000.0</td>\n",
       "      <td>5000.0</td>\n",
       "      <td>0</td>\n",
       "      <td>30-39</td>\n",
       "      <td>50k-100k</td>\n",
       "      <td>0</td>\n",
       "      <td>18.824630</td>\n",
       "    </tr>\n",
       "    <tr>\n",
       "      <th>4</th>\n",
       "      <td>50000.0</td>\n",
       "      <td>Female</td>\n",
       "      <td>University</td>\n",
       "      <td>Married</td>\n",
       "      <td>37</td>\n",
       "      <td>-1</td>\n",
       "      <td>-1</td>\n",
       "      <td>-1</td>\n",
       "      <td>-1</td>\n",
       "      <td>-1</td>\n",
       "      <td>...</td>\n",
       "      <td>2019.0</td>\n",
       "      <td>1200.0</td>\n",
       "      <td>1100.0</td>\n",
       "      <td>1069.0</td>\n",
       "      <td>1000.0</td>\n",
       "      <td>0</td>\n",
       "      <td>30-39</td>\n",
       "      <td>50k-100k</td>\n",
       "      <td>0</td>\n",
       "      <td>77.111333</td>\n",
       "    </tr>\n",
       "    <tr>\n",
       "      <th>5</th>\n",
       "      <td>50000.0</td>\n",
       "      <td>Male</td>\n",
       "      <td>University</td>\n",
       "      <td>Married</td>\n",
       "      <td>57</td>\n",
       "      <td>-1</td>\n",
       "      <td>-1</td>\n",
       "      <td>-1</td>\n",
       "      <td>-1</td>\n",
       "      <td>-1</td>\n",
       "      <td>...</td>\n",
       "      <td>36681.0</td>\n",
       "      <td>10000.0</td>\n",
       "      <td>9000.0</td>\n",
       "      <td>689.0</td>\n",
       "      <td>679.0</td>\n",
       "      <td>0</td>\n",
       "      <td>50-59</td>\n",
       "      <td>50k-100k</td>\n",
       "      <td>0</td>\n",
       "      <td>36.446333</td>\n",
       "    </tr>\n",
       "  </tbody>\n",
       "</table>\n",
       "<p>5 rows × 28 columns</p>\n",
       "</div>"
      ],
      "text/plain": [
       "    LIMIT_BAL     SEX   EDUCATION MARRIAGE  AGE  PAY_1  PAY_2  PAY_3  PAY_4  \\\n",
       "ID                                                                            \n",
       "1     20000.0  Female  University  Married   24      2      2     -1     -1   \n",
       "2    120000.0  Female  University   Single   26     -1      2     -1     -1   \n",
       "3     90000.0  Female  University   Single   34     -1     -1     -1     -1   \n",
       "4     50000.0  Female  University  Married   37     -1     -1     -1     -1   \n",
       "5     50000.0    Male  University  Married   57     -1     -1     -1     -1   \n",
       "\n",
       "    PAY_5  ...  PAY_AMT2  PAY_AMT3  PAY_AMT4  PAY_AMT5  PAY_AMT6  DEFAULT  \\\n",
       "ID         ...                                                              \n",
       "1      -1  ...     689.0       0.0       0.0       0.0       0.0        1   \n",
       "2      -1  ...    1000.0    1000.0    1000.0       0.0    2000.0        1   \n",
       "3      -1  ...    1500.0    1000.0    1000.0    1000.0    5000.0        0   \n",
       "4      -1  ...    2019.0    1200.0    1100.0    1069.0    1000.0        0   \n",
       "5      -1  ...   36681.0   10000.0    9000.0     689.0     679.0        0   \n",
       "\n",
       "    AGE_GROUP  LIMIT_GROUP  TOTAL_LATE_PAYMENT      RATIO  \n",
       "ID                                                         \n",
       "1       20-29      20k-50k                   2   6.420000  \n",
       "2       20-29    100k-300k                   2   2.371806  \n",
       "3       30-39     50k-100k                   0  18.824630  \n",
       "4       30-39     50k-100k                   0  77.111333  \n",
       "5       50-59     50k-100k                   0  36.446333  \n",
       "\n",
       "[5 rows x 28 columns]"
      ]
     },
     "execution_count": 39,
     "metadata": {},
     "output_type": "execute_result"
    }
   ],
   "source": [
    "df.head()"
   ]
  },
  {
   "cell_type": "code",
   "execution_count": 40,
   "metadata": {
    "colab": {
     "base_uri": "https://localhost:8080/"
    },
    "id": "u2_FX9CX78jn",
    "outputId": "de1b73e5-a90d-424f-a78b-14111ad7085a"
   },
   "outputs": [
    {
     "data": {
      "text/plain": [
       "0    23364\n",
       "1     6636\n",
       "Name: DEFAULT, dtype: int64"
      ]
     },
     "execution_count": 40,
     "metadata": {},
     "output_type": "execute_result"
    }
   ],
   "source": [
    "df.DEFAULT.value_counts()"
   ]
  },
  {
   "cell_type": "code",
   "execution_count": 41,
   "metadata": {
    "colab": {
     "base_uri": "https://localhost:8080/"
    },
    "id": "U3Tf30KdJxL4",
    "outputId": "3a6c0481-205f-44e6-ec32-3f54f8c5dc73"
   },
   "outputs": [
    {
     "data": {
      "text/plain": [
       "count    30000.000000\n",
       "mean         0.221200\n",
       "std          0.415062\n",
       "min          0.000000\n",
       "25%          0.000000\n",
       "50%          0.000000\n",
       "75%          0.000000\n",
       "max          1.000000\n",
       "Name: DEFAULT, dtype: float64"
      ]
     },
     "execution_count": 41,
     "metadata": {},
     "output_type": "execute_result"
    }
   ],
   "source": [
    "df[\"DEFAULT\"].describe()"
   ]
  },
  {
   "cell_type": "markdown",
   "metadata": {
    "id": "RtoGo2T3J5qH"
   },
   "source": [
    "The average default rate is 22%"
   ]
  },
  {
   "cell_type": "markdown",
   "metadata": {
    "id": "jHHmCil9x_JT"
   },
   "source": [
    "## Data Cleaning summary"
   ]
  },
  {
   "cell_type": "markdown",
   "metadata": {
    "id": "lwutWmQsyXAs"
   },
   "source": [
    "1. Exam & clean all the attributes\n",
    "2. Rename `default.payment.next.month` to `DEFAULT`, `PAY_0` to `PAY_1`\n",
    "3. Convert the numeric values into their definations in string format(`SEX`, `EDUCATION`, `MARRIAGE`)\n",
    "4. Do segmentation for AGE (`AGE_GROUP`)and LIMIT_BAL (`LIMIT_GROUP`)\n",
    "5. Create new attributes for further analysis \n",
    " - `TOTAL_LATE_PAYMENT`\n",
    ">\n",
    " -`RATIO_X`\n",
    "\n"
   ]
  },
  {
   "cell_type": "markdown",
   "metadata": {
    "id": "AuBXlxTYHJwH"
   },
   "source": [
    "## Attribute Definitions (After Data Cleaning)\n",
    "\n",
    "| Attribute | Definition | Values |\n",
    "| --- | --- | --- |\n",
    "| `ID` | ID of each client | Numeric |\n",
    "|`LIMIT_BAL` | Amount of given credit in NT dollars (includes individual and family/supplementary credit) | Numeric in NT dollars |\n",
    "| `SEX` | Gender | Character: Male, Female |\n",
    "| `EDUCATION` | Education level of the client | Character: High School, University, Graduate School |\n",
    "| `MARRIAGE` | Marital status | Character:Married, Single, Others |\n",
    "| `AGE` | Age of the clients | Numeric in years |\n",
    "| `PAY_1` | Repayment status in September, 2005 | `-1`: pay duly, `1`: payment delay for one month, `2`: payment delay for two months, … `8`: payment delay for eight months, `9`: payment delay for nine months and above |\n",
    "|`PAY_2`| Repayment status in August, 2005 | Same scale as above |\n",
    "|`PAY_3`| Repayment status in July, 2005 | Same scale as above |\n",
    "|`PAY_4`| Repayment status in June, 2005 | Same scale as above |\n",
    "|`PAY_5`| Repayment status in May, 2005 | Same scale as above |\n",
    "|`PAY_6`| Repayment status in April, 2005 | Same scale as above |\n",
    "|`TOTAL_LATE_PAYMENT`| (New)Times of late payment from April to September, 2005 | Numeric |\n",
    "| `BILL_AMT1` | Amount of bill statement in September, 2005 | Numeric in NT dollars |\n",
    "| `BILL_AMT2` | Amount of bill statement in August, 2005 | Numeric in NT dollars |\n",
    "| `BILL_AMT3` | Amount of bill statement in July, 2005 | Numeric in NT dollars |\n",
    "| `BILL_AMT4` | Amount of bill statement in June, 2005 | Numeric in NT dollars |\n",
    "| `BILL_AMT5` | Amount of bill statement in May, 2005 | Numeric in NT dollars |\n",
    "| `BILL_AMT6` | Amount of bill statement in April, 2005 | Numeric in NT dollars |\n",
    "| `RATIO` | (NEW) Average Credit utilization percentage from April to September, 2005 | Numeric in percentage |\n",
    "| `PAY_AMT1` | Amount of previous payment in September, 2005 | Numeric in NT dollars |\n",
    "| `PAY_AMT2` | Amount of previous payment in August, 2005 | Numeric in NT dollars |\n",
    "| `PAY_AMT3` | Amount of previous payment in July, 2005 | Numeric in NT dollars |\n",
    "| `PAY_AMT4` | Amount of previous payment in June, 2005 | Numeric in NT dollars |\n",
    "| `PAY_AMT5` | Amount of previous payment in May, 2005 | Numeric in NT dollars |\n",
    "| `PAY_AMT6` | Amount of previous payment in April, 2005 | Numeric in NT dollars |\n",
    "| `Default` | Default payment | `1`: Yes, `0`: No |"
   ]
  },
  {
   "cell_type": "markdown",
   "metadata": {
    "id": "kMpjxq4LJFoc"
   },
   "source": [
    "# Data Analysis and Visualization"
   ]
  },
  {
   "cell_type": "markdown",
   "metadata": {
    "id": "3sID5ALGjTUv"
   },
   "source": [
    "## Correlation"
   ]
  },
  {
   "cell_type": "code",
   "execution_count": 42,
   "metadata": {
    "colab": {
     "base_uri": "https://localhost:8080/",
     "height": 830
    },
    "id": "ey6V5TB9j45B",
    "outputId": "0f91a826-60ed-42c6-9b98-fb013025c681"
   },
   "outputs": [
    {
     "data": {
      "text/plain": [
       "<AxesSubplot:>"
      ]
     },
     "execution_count": 42,
     "metadata": {},
     "output_type": "execute_result"
    },
    {
     "data": {
      "image/png": "[encoded data removed]",
      "text/plain": [
       "<Figure size 504x1008 with 2 Axes>"
      ]
     },
     "metadata": {},
     "output_type": "display_data"
    }
   ],
   "source": [
    "cor1 = df.corr()\n",
    "plt.figure(figsize=(7,14))\n",
    "sns.heatmap(cor1[['DEFAULT']],annot=True,cmap=plt.cm.Reds)"
   ]
  },
  {
   "cell_type": "code",
   "execution_count": 43,
   "metadata": {
    "colab": {
     "base_uri": "https://localhost:8080/",
     "height": 235
    },
    "id": "HRv3D2S3of85",
    "outputId": "7ebb9627-d451-4992-b6e6-e3474a6ed507"
   },
   "outputs": [
    {
     "data": {
      "text/html": [
       "<div>\n",
       "<style scoped>\n",
       "    .dataframe tbody tr th:only-of-type {\n",
       "        vertical-align: middle;\n",
       "    }\n",
       "\n",
       "    .dataframe tbody tr th {\n",
       "        vertical-align: top;\n",
       "    }\n",
       "\n",
       "    .dataframe thead th {\n",
       "        text-align: right;\n",
       "    }\n",
       "</style>\n",
       "<table border=\"1\" class=\"dataframe\">\n",
       "  <thead>\n",
       "    <tr style=\"text-align: right;\">\n",
       "      <th></th>\n",
       "      <th>SEX</th>\n",
       "      <th>MARRIAGE</th>\n",
       "      <th>EDUCATION</th>\n",
       "      <th>DEFAULT</th>\n",
       "    </tr>\n",
       "    <tr>\n",
       "      <th>ID</th>\n",
       "      <th></th>\n",
       "      <th></th>\n",
       "      <th></th>\n",
       "      <th></th>\n",
       "    </tr>\n",
       "  </thead>\n",
       "  <tbody>\n",
       "    <tr>\n",
       "      <th>1</th>\n",
       "      <td>Female</td>\n",
       "      <td>Married</td>\n",
       "      <td>University</td>\n",
       "      <td>1</td>\n",
       "    </tr>\n",
       "    <tr>\n",
       "      <th>2</th>\n",
       "      <td>Female</td>\n",
       "      <td>Single</td>\n",
       "      <td>University</td>\n",
       "      <td>1</td>\n",
       "    </tr>\n",
       "    <tr>\n",
       "      <th>3</th>\n",
       "      <td>Female</td>\n",
       "      <td>Single</td>\n",
       "      <td>University</td>\n",
       "      <td>0</td>\n",
       "    </tr>\n",
       "    <tr>\n",
       "      <th>4</th>\n",
       "      <td>Female</td>\n",
       "      <td>Married</td>\n",
       "      <td>University</td>\n",
       "      <td>0</td>\n",
       "    </tr>\n",
       "    <tr>\n",
       "      <th>5</th>\n",
       "      <td>Male</td>\n",
       "      <td>Married</td>\n",
       "      <td>University</td>\n",
       "      <td>0</td>\n",
       "    </tr>\n",
       "  </tbody>\n",
       "</table>\n",
       "</div>"
      ],
      "text/plain": [
       "       SEX MARRIAGE   EDUCATION  DEFAULT\n",
       "ID                                      \n",
       "1   Female  Married  University        1\n",
       "2   Female   Single  University        1\n",
       "3   Female   Single  University        0\n",
       "4   Female  Married  University        0\n",
       "5     Male  Married  University        0"
      ]
     },
     "execution_count": 43,
     "metadata": {},
     "output_type": "execute_result"
    }
   ],
   "source": [
    "#In order to find the relationship for categorical attributes (SEX, EDUCATION,MARRIAGE). We need to change them back to numerical values\n",
    "df2 = df.loc[: , ['SEX', 'MARRIAGE', 'EDUCATION','DEFAULT']].copy()\n",
    "\n",
    "df2.head()"
   ]
  },
  {
   "cell_type": "code",
   "execution_count": 44,
   "metadata": {
    "colab": {
     "base_uri": "https://localhost:8080/",
     "height": 235
    },
    "id": "31AStRHyqHCx",
    "outputId": "4cf1acf4-a34f-4bb4-9eba-745c0b7e6b77"
   },
   "outputs": [
    {
     "data": {
      "text/html": [
       "<div>\n",
       "<style scoped>\n",
       "    .dataframe tbody tr th:only-of-type {\n",
       "        vertical-align: middle;\n",
       "    }\n",
       "\n",
       "    .dataframe tbody tr th {\n",
       "        vertical-align: top;\n",
       "    }\n",
       "\n",
       "    .dataframe thead th {\n",
       "        text-align: right;\n",
       "    }\n",
       "</style>\n",
       "<table border=\"1\" class=\"dataframe\">\n",
       "  <thead>\n",
       "    <tr style=\"text-align: right;\">\n",
       "      <th></th>\n",
       "      <th>SEX</th>\n",
       "      <th>MARRIAGE</th>\n",
       "      <th>EDUCATION</th>\n",
       "      <th>DEFAULT</th>\n",
       "    </tr>\n",
       "    <tr>\n",
       "      <th>ID</th>\n",
       "      <th></th>\n",
       "      <th></th>\n",
       "      <th></th>\n",
       "      <th></th>\n",
       "    </tr>\n",
       "  </thead>\n",
       "  <tbody>\n",
       "    <tr>\n",
       "      <th>1</th>\n",
       "      <td>2</td>\n",
       "      <td>1</td>\n",
       "      <td>2</td>\n",
       "      <td>1</td>\n",
       "    </tr>\n",
       "    <tr>\n",
       "      <th>2</th>\n",
       "      <td>2</td>\n",
       "      <td>2</td>\n",
       "      <td>2</td>\n",
       "      <td>1</td>\n",
       "    </tr>\n",
       "    <tr>\n",
       "      <th>3</th>\n",
       "      <td>2</td>\n",
       "      <td>2</td>\n",
       "      <td>2</td>\n",
       "      <td>0</td>\n",
       "    </tr>\n",
       "    <tr>\n",
       "      <th>4</th>\n",
       "      <td>2</td>\n",
       "      <td>1</td>\n",
       "      <td>2</td>\n",
       "      <td>0</td>\n",
       "    </tr>\n",
       "    <tr>\n",
       "      <th>5</th>\n",
       "      <td>1</td>\n",
       "      <td>1</td>\n",
       "      <td>2</td>\n",
       "      <td>0</td>\n",
       "    </tr>\n",
       "  </tbody>\n",
       "</table>\n",
       "</div>"
      ],
      "text/plain": [
       "    SEX  MARRIAGE  EDUCATION  DEFAULT\n",
       "ID                                   \n",
       "1     2         1          2        1\n",
       "2     2         2          2        1\n",
       "3     2         2          2        0\n",
       "4     2         1          2        0\n",
       "5     1         1          2        0"
      ]
     },
     "execution_count": 44,
     "metadata": {},
     "output_type": "execute_result"
    }
   ],
   "source": [
    "df2.SEX.replace({\"Male\":1, \"Female\":2}, inplace=True)\n",
    "df2.MARRIAGE.replace({\"Married\":1, \"Single\":2, \"Others\":3}, inplace=True)\n",
    "df2.EDUCATION.replace({\"Graduate School\":1, \"University\":2, \"High School\":3}, inplace=True)\n",
    "df2.head()"
   ]
  },
  {
   "cell_type": "code",
   "execution_count": 45,
   "metadata": {
    "colab": {
     "base_uri": "https://localhost:8080/",
     "height": 341
    },
    "id": "jEi9rD8UrT44",
    "outputId": "53c80e06-7908-41ad-d696-4ab062e59ac6"
   },
   "outputs": [
    {
     "data": {
      "text/plain": [
       "<AxesSubplot:>"
      ]
     },
     "execution_count": 45,
     "metadata": {},
     "output_type": "execute_result"
    },
    {
     "data": {
      "image/png": "[encoded data removed]",
      "text/plain": [
       "<Figure size 360x360 with 2 Axes>"
      ]
     },
     "metadata": {},
     "output_type": "display_data"
    }
   ],
   "source": [
    "cor2 = df2.corr()\n",
    "plt.figure(figsize=(5,5))\n",
    "sns.heatmap(cor2[['DEFAULT']],annot=True,cmap=plt.cm.Reds)"
   ]
  },
  {
   "cell_type": "code",
   "execution_count": 46,
   "metadata": {
    "colab": {
     "base_uri": "https://localhost:8080/"
    },
    "id": "hR3_m8Q0rrzI",
    "outputId": "332683df-6756-43b2-e779-44deda3358fd"
   },
   "outputs": [
    {
     "data": {
      "text/plain": [
       "LIMIT_BAL            -0.153520\n",
       "AGE                   0.013890\n",
       "PAY_1                 0.398636\n",
       "PAY_2                 0.333438\n",
       "PAY_3                 0.292026\n",
       "PAY_4                 0.274779\n",
       "PAY_5                 0.266465\n",
       "PAY_6                 0.248252\n",
       "BILL_AMT1            -0.019644\n",
       "BILL_AMT2            -0.014193\n",
       "BILL_AMT3            -0.014076\n",
       "BILL_AMT4            -0.010156\n",
       "BILL_AMT5            -0.006760\n",
       "BILL_AMT6            -0.005372\n",
       "PAY_AMT1             -0.072929\n",
       "PAY_AMT2             -0.058579\n",
       "PAY_AMT3             -0.056250\n",
       "PAY_AMT4             -0.056827\n",
       "PAY_AMT5             -0.055124\n",
       "PAY_AMT6             -0.053183\n",
       "DEFAULT               1.000000\n",
       "TOTAL_LATE_PAYMENT    0.398394\n",
       "RATIO                 0.115483\n",
       "SEX                  -0.039961\n",
       "MARRIAGE             -0.027575\n",
       "EDUCATION             0.051858\n",
       "DEFAULT               1.000000\n",
       "Name: DEFAULT, dtype: float64"
      ]
     },
     "execution_count": 46,
     "metadata": {},
     "output_type": "execute_result"
    }
   ],
   "source": [
    "cor = pd.concat([cor1['DEFAULT'],cor2['DEFAULT']], axis = 0)\n",
    "cor"
   ]
  },
  {
   "cell_type": "code",
   "execution_count": 47,
   "metadata": {
    "colab": {
     "base_uri": "https://localhost:8080/"
    },
    "id": "IHiCxWE9kmgY",
    "outputId": "00c0ae31-95bd-4d87-dd16-4bb46b010dab"
   },
   "outputs": [
    {
     "data": {
      "text/plain": [
       "DEFAULT               1.000000\n",
       "DEFAULT               1.000000\n",
       "PAY_1                 0.398636\n",
       "TOTAL_LATE_PAYMENT    0.398394\n",
       "PAY_2                 0.333438\n",
       "PAY_3                 0.292026\n",
       "PAY_4                 0.274779\n",
       "PAY_5                 0.266465\n",
       "PAY_6                 0.248252\n",
       "LIMIT_BAL             0.153520\n",
       "RATIO                 0.115483\n",
       "PAY_AMT1              0.072929\n",
       "PAY_AMT2              0.058579\n",
       "PAY_AMT4              0.056827\n",
       "PAY_AMT3              0.056250\n",
       "PAY_AMT5              0.055124\n",
       "PAY_AMT6              0.053183\n",
       "EDUCATION             0.051858\n",
       "SEX                   0.039961\n",
       "MARRIAGE              0.027575\n",
       "BILL_AMT1             0.019644\n",
       "BILL_AMT2             0.014193\n",
       "BILL_AMT3             0.014076\n",
       "AGE                   0.013890\n",
       "BILL_AMT4             0.010156\n",
       "BILL_AMT5             0.006760\n",
       "BILL_AMT6             0.005372\n",
       "Name: DEFAULT, dtype: float64"
      ]
     },
     "execution_count": 47,
     "metadata": {},
     "output_type": "execute_result"
    }
   ],
   "source": [
    "# Find the attribute with high correlation with default\n",
    "abs(cor).sort_values(ascending = False)"
   ]
  },
  {
   "cell_type": "markdown",
   "metadata": {
    "id": "4s_k79G4uW4w"
   },
   "source": [
    "From the correlation calculation and heatmap. We can tell the correlation from highest to lowest are:\n",
    "1. Payment status & total late payment in the past 6 months\n",
    "2. Credit limit\n",
    "3. Credit utilization\n",
    "4. Education\n",
    "5. Gender\n",
    "6. Marital status\n",
    "7. Age\n",
    "8. Bill Amount\n",
    "\n",
    "We will discover the relationship for different pair of the attributes in the following sections"
   ]
  },
  {
   "cell_type": "markdown",
   "metadata": {
    "id": "lMF39Af4JLlJ"
   },
   "source": [
    "## SEX vs. DEFAULT"
   ]
  },
  {
   "cell_type": "code",
   "execution_count": 48,
   "metadata": {
    "colab": {
     "base_uri": "https://localhost:8080/",
     "height": 111
    },
    "id": "MknTtIACOElC",
    "outputId": "98ad087d-9b3f-417b-b3fa-aaab06ee4b1f"
   },
   "outputs": [
    {
     "data": {
      "text/html": [
       "<div>\n",
       "<style scoped>\n",
       "    .dataframe tbody tr th:only-of-type {\n",
       "        vertical-align: middle;\n",
       "    }\n",
       "\n",
       "    .dataframe tbody tr th {\n",
       "        vertical-align: top;\n",
       "    }\n",
       "\n",
       "    .dataframe thead th {\n",
       "        text-align: right;\n",
       "    }\n",
       "</style>\n",
       "<table border=\"1\" class=\"dataframe\">\n",
       "  <thead>\n",
       "    <tr style=\"text-align: right;\">\n",
       "      <th></th>\n",
       "      <th>SEX</th>\n",
       "      <th>DEFAULT</th>\n",
       "    </tr>\n",
       "  </thead>\n",
       "  <tbody>\n",
       "    <tr>\n",
       "      <th>0</th>\n",
       "      <td>Female</td>\n",
       "      <td>0.207763</td>\n",
       "    </tr>\n",
       "    <tr>\n",
       "      <th>1</th>\n",
       "      <td>Male</td>\n",
       "      <td>0.241672</td>\n",
       "    </tr>\n",
       "  </tbody>\n",
       "</table>\n",
       "</div>"
      ],
      "text/plain": [
       "      SEX   DEFAULT\n",
       "0  Female  0.207763\n",
       "1    Male  0.241672"
      ]
     },
     "execution_count": 48,
     "metadata": {},
     "output_type": "execute_result"
    }
   ],
   "source": [
    "gender_plot = df.groupby('SEX', as_index=False)['DEFAULT'].mean()\n",
    "# gender_plot.plot.bar()\n",
    "gender_plot"
   ]
  },
  {
   "cell_type": "code",
   "execution_count": 49,
   "metadata": {
    "colab": {
     "base_uri": "https://localhost:8080/",
     "height": 295
    },
    "id": "NaDHZnm9OrLy",
    "outputId": "52584efe-c91c-4497-aacf-db67fe1893cc"
   },
   "outputs": [
    {
     "data": {
      "image/png": "[encoded data removed]",
      "text/plain": [
       "<Figure size 432x288 with 1 Axes>"
      ]
     },
     "metadata": {},
     "output_type": "display_data"
    }
   ],
   "source": [
    "x_axis = 'SEX'\n",
    "y_axis = 'DEFAULT'\n",
    "dataset = gender_plot\n",
    "\n",
    "sns.barplot(x = x_axis, y = y_axis, data = dataset, palette='dark', alpha=.7)\n",
    "\n",
    "plt.xlabel(\"Gender\")\n",
    "plt.ylabel(\"Credit Default Rate\")\n",
    "plt.title(\"Credit Default Rate by Gender\")\n",
    "None"
   ]
  },
  {
   "cell_type": "markdown",
   "metadata": {
    "id": "cox5CA4zYn-7"
   },
   "source": [
    "Male clients have a slightly higher default rate than femals. (24% vs. 20%) "
   ]
  },
  {
   "cell_type": "markdown",
   "metadata": {
    "id": "xsBUJqNsZnaS"
   },
   "source": [
    "## MARRIAGE vs. DEFAULT"
   ]
  },
  {
   "cell_type": "code",
   "execution_count": 50,
   "metadata": {
    "colab": {
     "base_uri": "https://localhost:8080/",
     "height": 142
    },
    "id": "lO94EnVXZY0S",
    "outputId": "b40dd6cc-a602-4110-ba9b-0aa061a61ec3"
   },
   "outputs": [
    {
     "data": {
      "text/html": [
       "<div>\n",
       "<style scoped>\n",
       "    .dataframe tbody tr th:only-of-type {\n",
       "        vertical-align: middle;\n",
       "    }\n",
       "\n",
       "    .dataframe tbody tr th {\n",
       "        vertical-align: top;\n",
       "    }\n",
       "\n",
       "    .dataframe thead th {\n",
       "        text-align: right;\n",
       "    }\n",
       "</style>\n",
       "<table border=\"1\" class=\"dataframe\">\n",
       "  <thead>\n",
       "    <tr style=\"text-align: right;\">\n",
       "      <th></th>\n",
       "      <th>MARRIAGE</th>\n",
       "      <th>DEFAULT</th>\n",
       "    </tr>\n",
       "  </thead>\n",
       "  <tbody>\n",
       "    <tr>\n",
       "      <th>0</th>\n",
       "      <td>Married</td>\n",
       "      <td>0.234717</td>\n",
       "    </tr>\n",
       "    <tr>\n",
       "      <th>1</th>\n",
       "      <td>Others</td>\n",
       "      <td>0.236074</td>\n",
       "    </tr>\n",
       "    <tr>\n",
       "      <th>2</th>\n",
       "      <td>Single</td>\n",
       "      <td>0.209283</td>\n",
       "    </tr>\n",
       "  </tbody>\n",
       "</table>\n",
       "</div>"
      ],
      "text/plain": [
       "  MARRIAGE   DEFAULT\n",
       "0  Married  0.234717\n",
       "1   Others  0.236074\n",
       "2   Single  0.209283"
      ]
     },
     "execution_count": 50,
     "metadata": {},
     "output_type": "execute_result"
    }
   ],
   "source": [
    "mry_plot = df.groupby('MARRIAGE', as_index=False)['DEFAULT'].mean()\n",
    "mry_plot"
   ]
  },
  {
   "cell_type": "code",
   "execution_count": 51,
   "metadata": {
    "colab": {
     "base_uri": "https://localhost:8080/",
     "height": 295
    },
    "id": "nY0BgO8ybZBr",
    "outputId": "9a06fec7-91d8-4c2a-a317-48588887bde4"
   },
   "outputs": [
    {
     "data": {
      "image/png": "[encoded data removed]",
      "text/plain": [
       "<Figure size 432x288 with 1 Axes>"
      ]
     },
     "metadata": {},
     "output_type": "display_data"
    }
   ],
   "source": [
    "x_axis = 'MARRIAGE'\n",
    "y_axis = 'DEFAULT'\n",
    "dataset = mry_plot\n",
    "\n",
    "sns.barplot(x = x_axis, y = y_axis, data = dataset, order=['Married','Single'], palette='dark', alpha=.7)\n",
    "\n",
    "plt.xlabel(\"Marital status\")\n",
    "plt.ylabel(\"Credit Default Rate\")\n",
    "plt.title(\"Credit Default Rate by Marital status\")\n",
    "None"
   ]
  },
  {
   "cell_type": "markdown",
   "metadata": {
    "id": "Xl0DcE9wd8wb"
   },
   "source": [
    "24% of married people are defaulted more than singles (21%) are, which makes sense since married people have higher cost of living"
   ]
  },
  {
   "cell_type": "markdown",
   "metadata": {
    "id": "gyzlfTPudKUj"
   },
   "source": [
    "## AGE_GROUP vs. DEFAULT"
   ]
  },
  {
   "cell_type": "code",
   "execution_count": 52,
   "metadata": {
    "colab": {
     "base_uri": "https://localhost:8080/",
     "height": 204
    },
    "id": "vSvUbdHRdSo7",
    "outputId": "ecabf11f-3182-4137-ccff-864c057825f9"
   },
   "outputs": [
    {
     "data": {
      "text/html": [
       "<div>\n",
       "<style scoped>\n",
       "    .dataframe tbody tr th:only-of-type {\n",
       "        vertical-align: middle;\n",
       "    }\n",
       "\n",
       "    .dataframe tbody tr th {\n",
       "        vertical-align: top;\n",
       "    }\n",
       "\n",
       "    .dataframe thead th {\n",
       "        text-align: right;\n",
       "    }\n",
       "</style>\n",
       "<table border=\"1\" class=\"dataframe\">\n",
       "  <thead>\n",
       "    <tr style=\"text-align: right;\">\n",
       "      <th></th>\n",
       "      <th>AGE_GROUP</th>\n",
       "      <th>DEFAULT</th>\n",
       "    </tr>\n",
       "  </thead>\n",
       "  <tbody>\n",
       "    <tr>\n",
       "      <th>0</th>\n",
       "      <td>20-29</td>\n",
       "      <td>0.228426</td>\n",
       "    </tr>\n",
       "    <tr>\n",
       "      <th>1</th>\n",
       "      <td>30-39</td>\n",
       "      <td>0.202527</td>\n",
       "    </tr>\n",
       "    <tr>\n",
       "      <th>2</th>\n",
       "      <td>40-49</td>\n",
       "      <td>0.229734</td>\n",
       "    </tr>\n",
       "    <tr>\n",
       "      <th>3</th>\n",
       "      <td>50-59</td>\n",
       "      <td>0.248612</td>\n",
       "    </tr>\n",
       "    <tr>\n",
       "      <th>4</th>\n",
       "      <td>&gt;60</td>\n",
       "      <td>0.283186</td>\n",
       "    </tr>\n",
       "  </tbody>\n",
       "</table>\n",
       "</div>"
      ],
      "text/plain": [
       "  AGE_GROUP   DEFAULT\n",
       "0     20-29  0.228426\n",
       "1     30-39  0.202527\n",
       "2     40-49  0.229734\n",
       "3     50-59  0.248612\n",
       "4       >60  0.283186"
      ]
     },
     "execution_count": 52,
     "metadata": {},
     "output_type": "execute_result"
    }
   ],
   "source": [
    "age_plot = df.groupby('AGE_GROUP', as_index=False)['DEFAULT'].mean()\n",
    "age_plot"
   ]
  },
  {
   "cell_type": "code",
   "execution_count": 53,
   "metadata": {
    "colab": {
     "base_uri": "https://localhost:8080/",
     "height": 295
    },
    "id": "3PSssIdJdiFS",
    "outputId": "4f028d37-07c2-4c05-d301-f91c192549fe"
   },
   "outputs": [
    {
     "data": {
      "image/png": "[encoded data removed]",
      "text/plain": [
       "<Figure size 432x288 with 1 Axes>"
      ]
     },
     "metadata": {},
     "output_type": "display_data"
    }
   ],
   "source": [
    "x_axis = 'AGE_GROUP'\n",
    "y_axis = 'DEFAULT'\n",
    "dataset = age_plot\n",
    "\n",
    "sns.barplot(x = x_axis, y = y_axis, data = dataset, palette='Blues_d')\n",
    "\n",
    "plt.xlabel(\"Age group\")\n",
    "plt.ylabel(\"Credit Default Rate\")\n",
    "plt.title(\"Credit Default Rate by Age\")\n",
    "None"
   ]
  },
  {
   "cell_type": "markdown",
   "metadata": {
    "id": "E6Qr8sMpeS5K"
   },
   "source": [
    "Maximum defaulted age bracket is >60 with 28% and minimum 30-39 with 20% default"
   ]
  },
  {
   "cell_type": "markdown",
   "metadata": {
    "id": "5JYySn95SKqE"
   },
   "source": [
    "## EDUCATION vs. DEFAULT"
   ]
  },
  {
   "cell_type": "code",
   "execution_count": 54,
   "metadata": {
    "colab": {
     "base_uri": "https://localhost:8080/",
     "height": 142
    },
    "id": "0Q7wsMagVYN1",
    "outputId": "2ba9c034-46db-4416-ca6c-55cf2832c1d7"
   },
   "outputs": [
    {
     "data": {
      "text/html": [
       "<div>\n",
       "<style scoped>\n",
       "    .dataframe tbody tr th:only-of-type {\n",
       "        vertical-align: middle;\n",
       "    }\n",
       "\n",
       "    .dataframe tbody tr th {\n",
       "        vertical-align: top;\n",
       "    }\n",
       "\n",
       "    .dataframe thead th {\n",
       "        text-align: right;\n",
       "    }\n",
       "</style>\n",
       "<table border=\"1\" class=\"dataframe\">\n",
       "  <thead>\n",
       "    <tr style=\"text-align: right;\">\n",
       "      <th></th>\n",
       "      <th>EDUCATION</th>\n",
       "      <th>DEFAULT</th>\n",
       "    </tr>\n",
       "  </thead>\n",
       "  <tbody>\n",
       "    <tr>\n",
       "      <th>0</th>\n",
       "      <td>Graduate School</td>\n",
       "      <td>0.192348</td>\n",
       "    </tr>\n",
       "    <tr>\n",
       "      <th>1</th>\n",
       "      <td>High School</td>\n",
       "      <td>0.250101</td>\n",
       "    </tr>\n",
       "    <tr>\n",
       "      <th>2</th>\n",
       "      <td>University</td>\n",
       "      <td>0.232408</td>\n",
       "    </tr>\n",
       "  </tbody>\n",
       "</table>\n",
       "</div>"
      ],
      "text/plain": [
       "         EDUCATION   DEFAULT\n",
       "0  Graduate School  0.192348\n",
       "1      High School  0.250101\n",
       "2       University  0.232408"
      ]
     },
     "execution_count": 54,
     "metadata": {},
     "output_type": "execute_result"
    }
   ],
   "source": [
    "edu_plot = df.groupby('EDUCATION', as_index=False)['DEFAULT'].mean()\n",
    "edu_plot"
   ]
  },
  {
   "cell_type": "code",
   "execution_count": 55,
   "metadata": {
    "colab": {
     "base_uri": "https://localhost:8080/",
     "height": 295
    },
    "id": "s1Q7KxrRXm-7",
    "outputId": "ac14640d-4a9e-492c-bc6d-1b9e6acfeef6"
   },
   "outputs": [
    {
     "data": {
      "image/png": "[encoded data removed]",
      "text/plain": [
       "<Figure size 432x288 with 1 Axes>"
      ]
     },
     "metadata": {},
     "output_type": "display_data"
    }
   ],
   "source": [
    "x_axis = 'EDUCATION'\n",
    "y_axis = 'DEFAULT'\n",
    "dataset = edu_plot\n",
    "\n",
    "sns.barplot(x = x_axis, y = y_axis, data = dataset, order=['High School','University','Graduate School'], palette='Blues_d', alpha=.7)\n",
    "\n",
    "plt.xlabel(\"Education Level\")\n",
    "plt.ylabel(\"Credit Default Rate\")\n",
    "plt.title(\"Credit Default Rate by different education level\")\n",
    "None"
   ]
  },
  {
   "cell_type": "markdown",
   "metadata": {
    "id": "KQLCOTtcZBAD"
   },
   "source": [
    "Clients with higher education level are less likely to have credit default"
   ]
  },
  {
   "cell_type": "code",
   "execution_count": 56,
   "metadata": {
    "colab": {
     "base_uri": "https://localhost:8080/",
     "height": 383
    },
    "id": "DJ21rnDSKejZ",
    "outputId": "5b65c514-fd4d-42cd-ae3a-9720a763373e"
   },
   "outputs": [
    {
     "data": {
      "image/png": "[encoded data removed]",
      "text/plain": [
       "<Figure size 789.375x360 with 2 Axes>"
      ]
     },
     "metadata": {},
     "output_type": "display_data"
    }
   ],
   "source": [
    "g = sns.catplot( data=df, x=\"EDUCATION\", y=\"DEFAULT\",\n",
    "            order = ['High School','University','Graduate School'],\n",
    "            hue=\"SEX\",\n",
    "            col=\"MARRIAGE\",\n",
    "            col_order= ['Single','Married'],\n",
    "            kind=\"bar\",\n",
    "            ci=None,\n",
    "            alpha=.7,\n",
    "            height=5,\n",
    "            aspect=1, \n",
    "            palette=\"ch:r=-.5,l=.75\")\n",
    "\n",
    "g.set_axis_labels(\"Education Level\",\"Default Rate\")\n",
    "\n",
    "None"
   ]
  },
  {
   "cell_type": "markdown",
   "metadata": {
    "id": "K-D4uGpUe1jD"
   },
   "source": [
    "## LIMIT_GROUP vs. DEFAULT"
   ]
  },
  {
   "cell_type": "code",
   "execution_count": 57,
   "metadata": {
    "colab": {
     "base_uri": "https://localhost:8080/",
     "height": 235
    },
    "id": "ugf8pB-5fsGL",
    "outputId": "429929a4-78f6-4c1c-a7ce-6135e04d286c"
   },
   "outputs": [
    {
     "data": {
      "text/html": [
       "<div>\n",
       "<style scoped>\n",
       "    .dataframe tbody tr th:only-of-type {\n",
       "        vertical-align: middle;\n",
       "    }\n",
       "\n",
       "    .dataframe tbody tr th {\n",
       "        vertical-align: top;\n",
       "    }\n",
       "\n",
       "    .dataframe thead th {\n",
       "        text-align: right;\n",
       "    }\n",
       "</style>\n",
       "<table border=\"1\" class=\"dataframe\">\n",
       "  <thead>\n",
       "    <tr style=\"text-align: right;\">\n",
       "      <th></th>\n",
       "      <th>LIMIT_GROUP</th>\n",
       "      <th>DEFAULT</th>\n",
       "    </tr>\n",
       "  </thead>\n",
       "  <tbody>\n",
       "    <tr>\n",
       "      <th>0</th>\n",
       "      <td>&lt;20k</td>\n",
       "      <td>0.397980</td>\n",
       "    </tr>\n",
       "    <tr>\n",
       "      <th>1</th>\n",
       "      <td>20k-50k</td>\n",
       "      <td>0.355870</td>\n",
       "    </tr>\n",
       "    <tr>\n",
       "      <th>2</th>\n",
       "      <td>50k-100k</td>\n",
       "      <td>0.260120</td>\n",
       "    </tr>\n",
       "    <tr>\n",
       "      <th>3</th>\n",
       "      <td>100k-300k</td>\n",
       "      <td>0.187895</td>\n",
       "    </tr>\n",
       "    <tr>\n",
       "      <th>4</th>\n",
       "      <td>300k-500k</td>\n",
       "      <td>0.142277</td>\n",
       "    </tr>\n",
       "    <tr>\n",
       "      <th>5</th>\n",
       "      <td>&gt;=500k</td>\n",
       "      <td>0.112069</td>\n",
       "    </tr>\n",
       "  </tbody>\n",
       "</table>\n",
       "</div>"
      ],
      "text/plain": [
       "  LIMIT_GROUP   DEFAULT\n",
       "0        <20k  0.397980\n",
       "1     20k-50k  0.355870\n",
       "2    50k-100k  0.260120\n",
       "3   100k-300k  0.187895\n",
       "4   300k-500k  0.142277\n",
       "5      >=500k  0.112069"
      ]
     },
     "execution_count": 57,
     "metadata": {},
     "output_type": "execute_result"
    }
   ],
   "source": [
    "limit_plot = df.groupby('LIMIT_GROUP', as_index=False)['DEFAULT'].mean()\n",
    "limit_plot"
   ]
  },
  {
   "cell_type": "code",
   "execution_count": 58,
   "metadata": {
    "colab": {
     "base_uri": "https://localhost:8080/",
     "height": 295
    },
    "id": "YykyVvbngoRb",
    "outputId": "8bb90b03-35d2-4887-c7dd-fcd8d4aa735c"
   },
   "outputs": [
    {
     "data": {
      "image/png": "[encoded data removed]",
      "text/plain": [
       "<Figure size 432x288 with 1 Axes>"
      ]
     },
     "metadata": {},
     "output_type": "display_data"
    }
   ],
   "source": [
    "x_axis = 'LIMIT_GROUP'\n",
    "y_axis = 'DEFAULT'\n",
    "dataset = limit_plot\n",
    "\n",
    "sns.barplot(x = x_axis, y = y_axis, data = dataset, palette='Blues_d')\n",
    "\n",
    "plt.xlabel(\"Credit limit\")\n",
    "plt.ylabel(\"Credit Default Rate\")\n",
    "plt.title(\"Credit Default Rate by Credit limit\")\n",
    "None"
   ]
  },
  {
   "cell_type": "markdown",
   "metadata": {
    "id": "MExnVMohheyr"
   },
   "source": [
    "Clients with lower credit limit have higher chance to default payments. tHE default rate for clients with <20k limit are almost 4 times higher than clients with more than 500k limit. \n"
   ]
  },
  {
   "cell_type": "code",
   "execution_count": 59,
   "metadata": {
    "colab": {
     "base_uri": "https://localhost:8080/",
     "height": 0
    },
    "id": "0r5Vc-4XhIdj",
    "outputId": "9c1bf317-ddb7-4364-cd21-faec826f2abe"
   },
   "outputs": [
    {
     "data": {
      "text/html": [
       "<div>\n",
       "<style scoped>\n",
       "    .dataframe tbody tr th:only-of-type {\n",
       "        vertical-align: middle;\n",
       "    }\n",
       "\n",
       "    .dataframe tbody tr th {\n",
       "        vertical-align: top;\n",
       "    }\n",
       "\n",
       "    .dataframe thead th {\n",
       "        text-align: right;\n",
       "    }\n",
       "</style>\n",
       "<table border=\"1\" class=\"dataframe\">\n",
       "  <thead>\n",
       "    <tr style=\"text-align: right;\">\n",
       "      <th></th>\n",
       "      <th>count</th>\n",
       "      <th>min</th>\n",
       "      <th>mean</th>\n",
       "      <th>max</th>\n",
       "    </tr>\n",
       "    <tr>\n",
       "      <th>EDUCATION</th>\n",
       "      <th></th>\n",
       "      <th></th>\n",
       "      <th></th>\n",
       "      <th></th>\n",
       "    </tr>\n",
       "  </thead>\n",
       "  <tbody>\n",
       "    <tr>\n",
       "      <th>Graduate School</th>\n",
       "      <td>10585</td>\n",
       "      <td>10000.0</td>\n",
       "      <td>212956.069910</td>\n",
       "      <td>1000000.0</td>\n",
       "    </tr>\n",
       "    <tr>\n",
       "      <th>High School</th>\n",
       "      <td>4962</td>\n",
       "      <td>10000.0</td>\n",
       "      <td>127232.503023</td>\n",
       "      <td>760000.0</td>\n",
       "    </tr>\n",
       "    <tr>\n",
       "      <th>University</th>\n",
       "      <td>14453</td>\n",
       "      <td>10000.0</td>\n",
       "      <td>148001.245416</td>\n",
       "      <td>800000.0</td>\n",
       "    </tr>\n",
       "  </tbody>\n",
       "</table>\n",
       "</div>"
      ],
      "text/plain": [
       "                 count      min           mean        max\n",
       "EDUCATION                                                \n",
       "Graduate School  10585  10000.0  212956.069910  1000000.0\n",
       "High School       4962  10000.0  127232.503023   760000.0\n",
       "University       14453  10000.0  148001.245416   800000.0"
      ]
     },
     "execution_count": 59,
     "metadata": {},
     "output_type": "execute_result"
    }
   ],
   "source": [
    "df.groupby('EDUCATION')['LIMIT_BAL'].aggregate(['count', 'min', 'mean', 'max'])"
   ]
  },
  {
   "cell_type": "code",
   "execution_count": 60,
   "metadata": {
    "colab": {
     "base_uri": "https://localhost:8080/",
     "height": 607
    },
    "id": "H53KqZhsoO8m",
    "outputId": "67d0fd1f-0bfa-42fa-d89d-3aedde6ad5b4"
   },
   "outputs": [
    {
     "data": {
      "text/html": [
       "<div>\n",
       "<style scoped>\n",
       "    .dataframe tbody tr th:only-of-type {\n",
       "        vertical-align: middle;\n",
       "    }\n",
       "\n",
       "    .dataframe tbody tr th {\n",
       "        vertical-align: top;\n",
       "    }\n",
       "\n",
       "    .dataframe thead th {\n",
       "        text-align: right;\n",
       "    }\n",
       "</style>\n",
       "<table border=\"1\" class=\"dataframe\">\n",
       "  <thead>\n",
       "    <tr style=\"text-align: right;\">\n",
       "      <th></th>\n",
       "      <th>EDUCATION</th>\n",
       "      <th>LIMIT_GROUP</th>\n",
       "      <th>DEFAULT</th>\n",
       "    </tr>\n",
       "  </thead>\n",
       "  <tbody>\n",
       "    <tr>\n",
       "      <th>0</th>\n",
       "      <td>Graduate School</td>\n",
       "      <td>&lt;20k</td>\n",
       "      <td>0.320000</td>\n",
       "    </tr>\n",
       "    <tr>\n",
       "      <th>1</th>\n",
       "      <td>Graduate School</td>\n",
       "      <td>20k-50k</td>\n",
       "      <td>0.330042</td>\n",
       "    </tr>\n",
       "    <tr>\n",
       "      <th>2</th>\n",
       "      <td>Graduate School</td>\n",
       "      <td>50k-100k</td>\n",
       "      <td>0.238538</td>\n",
       "    </tr>\n",
       "    <tr>\n",
       "      <th>3</th>\n",
       "      <td>Graduate School</td>\n",
       "      <td>100k-300k</td>\n",
       "      <td>0.185811</td>\n",
       "    </tr>\n",
       "    <tr>\n",
       "      <th>4</th>\n",
       "      <td>Graduate School</td>\n",
       "      <td>300k-500k</td>\n",
       "      <td>0.144556</td>\n",
       "    </tr>\n",
       "    <tr>\n",
       "      <th>5</th>\n",
       "      <td>Graduate School</td>\n",
       "      <td>&gt;=500k</td>\n",
       "      <td>0.117857</td>\n",
       "    </tr>\n",
       "    <tr>\n",
       "      <th>6</th>\n",
       "      <td>High School</td>\n",
       "      <td>&lt;20k</td>\n",
       "      <td>0.407692</td>\n",
       "    </tr>\n",
       "    <tr>\n",
       "      <th>7</th>\n",
       "      <td>High School</td>\n",
       "      <td>20k-50k</td>\n",
       "      <td>0.375940</td>\n",
       "    </tr>\n",
       "    <tr>\n",
       "      <th>8</th>\n",
       "      <td>High School</td>\n",
       "      <td>50k-100k</td>\n",
       "      <td>0.267045</td>\n",
       "    </tr>\n",
       "    <tr>\n",
       "      <th>9</th>\n",
       "      <td>High School</td>\n",
       "      <td>100k-300k</td>\n",
       "      <td>0.183775</td>\n",
       "    </tr>\n",
       "    <tr>\n",
       "      <th>10</th>\n",
       "      <td>High School</td>\n",
       "      <td>300k-500k</td>\n",
       "      <td>0.164678</td>\n",
       "    </tr>\n",
       "    <tr>\n",
       "      <th>11</th>\n",
       "      <td>High School</td>\n",
       "      <td>&gt;=500k</td>\n",
       "      <td>0.151163</td>\n",
       "    </tr>\n",
       "    <tr>\n",
       "      <th>12</th>\n",
       "      <td>University</td>\n",
       "      <td>&lt;20k</td>\n",
       "      <td>0.413793</td>\n",
       "    </tr>\n",
       "    <tr>\n",
       "      <th>13</th>\n",
       "      <td>University</td>\n",
       "      <td>20k-50k</td>\n",
       "      <td>0.355699</td>\n",
       "    </tr>\n",
       "    <tr>\n",
       "      <th>14</th>\n",
       "      <td>University</td>\n",
       "      <td>50k-100k</td>\n",
       "      <td>0.266176</td>\n",
       "    </tr>\n",
       "    <tr>\n",
       "      <th>15</th>\n",
       "      <td>University</td>\n",
       "      <td>100k-300k</td>\n",
       "      <td>0.190939</td>\n",
       "    </tr>\n",
       "    <tr>\n",
       "      <th>16</th>\n",
       "      <td>University</td>\n",
       "      <td>300k-500k</td>\n",
       "      <td>0.133207</td>\n",
       "    </tr>\n",
       "    <tr>\n",
       "      <th>17</th>\n",
       "      <td>University</td>\n",
       "      <td>&gt;=500k</td>\n",
       "      <td>0.088652</td>\n",
       "    </tr>\n",
       "  </tbody>\n",
       "</table>\n",
       "</div>"
      ],
      "text/plain": [
       "          EDUCATION LIMIT_GROUP   DEFAULT\n",
       "0   Graduate School        <20k  0.320000\n",
       "1   Graduate School     20k-50k  0.330042\n",
       "2   Graduate School    50k-100k  0.238538\n",
       "3   Graduate School   100k-300k  0.185811\n",
       "4   Graduate School   300k-500k  0.144556\n",
       "5   Graduate School      >=500k  0.117857\n",
       "6       High School        <20k  0.407692\n",
       "7       High School     20k-50k  0.375940\n",
       "8       High School    50k-100k  0.267045\n",
       "9       High School   100k-300k  0.183775\n",
       "10      High School   300k-500k  0.164678\n",
       "11      High School      >=500k  0.151163\n",
       "12       University        <20k  0.413793\n",
       "13       University     20k-50k  0.355699\n",
       "14       University    50k-100k  0.266176\n",
       "15       University   100k-300k  0.190939\n",
       "16       University   300k-500k  0.133207\n",
       "17       University      >=500k  0.088652"
      ]
     },
     "execution_count": 60,
     "metadata": {},
     "output_type": "execute_result"
    }
   ],
   "source": [
    "df.groupby(['EDUCATION','LIMIT_GROUP'], as_index = False)['DEFAULT'].mean()"
   ]
  },
  {
   "cell_type": "code",
   "execution_count": 61,
   "metadata": {
    "colab": {
     "base_uri": "https://localhost:8080/",
     "height": 399
    },
    "id": "sfjQDKKQnyhA",
    "outputId": "e77d3593-4159-4df1-a329-fa0dc078b3a1"
   },
   "outputs": [
    {
     "data": {
      "image/png": "[encoded data removed]",
      "text/plain": [
       "<Figure size 687.375x360 with 1 Axes>"
      ]
     },
     "metadata": {},
     "output_type": "display_data"
    }
   ],
   "source": [
    "sns.catplot(x= 'LIMIT_GROUP', y='DEFAULT', hue='EDUCATION', data=df,\n",
    "                kind=\"bar\",\n",
    "                hue_order=['High School','University','Graduate School'],\n",
    "                ci=None,\n",
    "                height=5,\n",
    "                aspect=1.6,\n",
    "                palette='ch:r=-.5,l=.75',\n",
    "                alpha = 0.7);\n",
    "\n",
    "plt.xlabel(\"Credit Limit\")\n",
    "plt.ylabel(\"Credit Default Rate\")\n",
    "plt.title(\"Credit Default Rate by Credit limit and education level\")\n",
    "None"
   ]
  },
  {
   "cell_type": "markdown",
   "metadata": {
    "id": "SBOqVF1OiJvj"
   },
   "source": [
    "Clients with higher education level have more credit limit on average and they are less likely to default."
   ]
  },
  {
   "cell_type": "markdown",
   "metadata": {
    "id": "0BcA-Pv6i4pL"
   },
   "source": [
    "## RATIO vs. DEFAULT"
   ]
  },
  {
   "cell_type": "code",
   "execution_count": 62,
   "metadata": {
    "colab": {
     "base_uri": "https://localhost:8080/",
     "height": 0
    },
    "id": "AceXAX8-0Z1F",
    "outputId": "1965ebd4-32d3-407f-d69d-0d1166b03c52"
   },
   "outputs": [
    {
     "data": {
      "text/html": [
       "<div>\n",
       "<style scoped>\n",
       "    .dataframe tbody tr th:only-of-type {\n",
       "        vertical-align: middle;\n",
       "    }\n",
       "\n",
       "    .dataframe tbody tr th {\n",
       "        vertical-align: top;\n",
       "    }\n",
       "\n",
       "    .dataframe thead th {\n",
       "        text-align: right;\n",
       "    }\n",
       "</style>\n",
       "<table border=\"1\" class=\"dataframe\">\n",
       "  <thead>\n",
       "    <tr style=\"text-align: right;\">\n",
       "      <th></th>\n",
       "      <th>RATIO</th>\n",
       "    </tr>\n",
       "    <tr>\n",
       "      <th>DEFAULT</th>\n",
       "      <th></th>\n",
       "    </tr>\n",
       "  </thead>\n",
       "  <tbody>\n",
       "    <tr>\n",
       "      <th>0</th>\n",
       "      <td>35.139103</td>\n",
       "    </tr>\n",
       "    <tr>\n",
       "      <th>1</th>\n",
       "      <td>44.929754</td>\n",
       "    </tr>\n",
       "  </tbody>\n",
       "</table>\n",
       "</div>"
      ],
      "text/plain": [
       "             RATIO\n",
       "DEFAULT           \n",
       "0        35.139103\n",
       "1        44.929754"
      ]
     },
     "execution_count": 62,
     "metadata": {},
     "output_type": "execute_result"
    }
   ],
   "source": [
    "df[[\"DEFAULT\",\"RATIO\"]].groupby(\"DEFAULT\").mean()"
   ]
  },
  {
   "cell_type": "code",
   "execution_count": 63,
   "metadata": {
    "colab": {
     "base_uri": "https://localhost:8080/",
     "height": 0
    },
    "id": "8DaxYRmx0kPQ",
    "outputId": "99fcd503-1ead-4430-9288-f50d272a4230"
   },
   "outputs": [
    {
     "data": {
      "image/png": "[encoded data removed]",
      "text/plain": [
       "<Figure size 808x504 with 1 Axes>"
      ]
     },
     "metadata": {},
     "output_type": "display_data"
    }
   ],
   "source": [
    "sns.catplot(data=df, x=\"AGE_GROUP\", y='RATIO', hue ='DEFAULT', kind='box',\n",
    "                        height = 7,\n",
    "                        aspect = 1.5)\n",
    "plt.xlabel(\"AGE Group\")\n",
    "plt.ylabel(\"Credit Utilization Ratio\")\n",
    "plt.title(\"Credit Utilization Ratio within different Age Group\")\n",
    "None"
   ]
  },
  {
   "cell_type": "code",
   "execution_count": 64,
   "metadata": {
    "colab": {
     "base_uri": "https://localhost:8080/",
     "height": 0
    },
    "id": "HBXXLdPt4FT2",
    "outputId": "8ae3eaa1-cb3b-498c-9134-f7edac335c82"
   },
   "outputs": [
    {
     "data": {
      "image/png": "[encoded data removed]",
      "text/plain": [
       "<Figure size 700x432 with 1 Axes>"
      ]
     },
     "metadata": {},
     "output_type": "display_data"
    }
   ],
   "source": [
    "sns.catplot(data=df, x=\"EDUCATION\", y='RATIO', hue = 'DEFAULT', kind='box',\n",
    "                        height = 6,\n",
    "                        aspect = 1.5,\n",
    "                        order=['High School','University','Graduate School'])\n",
    "\n",
    "plt.xlabel(\"Education level\")\n",
    "plt.ylabel(\"Credit Utilization Ratio\")\n",
    "plt.title(\"Credit Utilization Ratio within different Education level\")\n",
    "None"
   ]
  },
  {
   "cell_type": "markdown",
   "metadata": {
    "id": "VzW4IeM_9kM3"
   },
   "source": [
    "## LATE PAYMENT vs.DEFAULT"
   ]
  },
  {
   "cell_type": "code",
   "execution_count": 65,
   "metadata": {
    "colab": {
     "base_uri": "https://localhost:8080/",
     "height": 0
    },
    "id": "85v4peDZ_zdV",
    "outputId": "e2f3efa0-37ff-41c8-acfa-5bf12ddbf7be"
   },
   "outputs": [
    {
     "data": {
      "text/html": [
       "<div>\n",
       "<style scoped>\n",
       "    .dataframe tbody tr th:only-of-type {\n",
       "        vertical-align: middle;\n",
       "    }\n",
       "\n",
       "    .dataframe tbody tr th {\n",
       "        vertical-align: top;\n",
       "    }\n",
       "\n",
       "    .dataframe thead th {\n",
       "        text-align: right;\n",
       "    }\n",
       "</style>\n",
       "<table border=\"1\" class=\"dataframe\">\n",
       "  <thead>\n",
       "    <tr style=\"text-align: right;\">\n",
       "      <th></th>\n",
       "      <th>TOTAL_LATE_PAYMENT</th>\n",
       "      <th>DEFAULT</th>\n",
       "    </tr>\n",
       "  </thead>\n",
       "  <tbody>\n",
       "    <tr>\n",
       "      <th>0</th>\n",
       "      <td>0</td>\n",
       "      <td>0.117104</td>\n",
       "    </tr>\n",
       "    <tr>\n",
       "      <th>1</th>\n",
       "      <td>1</td>\n",
       "      <td>0.298238</td>\n",
       "    </tr>\n",
       "    <tr>\n",
       "      <th>2</th>\n",
       "      <td>2</td>\n",
       "      <td>0.387572</td>\n",
       "    </tr>\n",
       "    <tr>\n",
       "      <th>3</th>\n",
       "      <td>3</td>\n",
       "      <td>0.508666</td>\n",
       "    </tr>\n",
       "    <tr>\n",
       "      <th>4</th>\n",
       "      <td>4</td>\n",
       "      <td>0.573081</td>\n",
       "    </tr>\n",
       "    <tr>\n",
       "      <th>5</th>\n",
       "      <td>5</td>\n",
       "      <td>0.573826</td>\n",
       "    </tr>\n",
       "    <tr>\n",
       "      <th>6</th>\n",
       "      <td>6</td>\n",
       "      <td>0.703207</td>\n",
       "    </tr>\n",
       "  </tbody>\n",
       "</table>\n",
       "</div>"
      ],
      "text/plain": [
       "   TOTAL_LATE_PAYMENT   DEFAULT\n",
       "0                   0  0.117104\n",
       "1                   1  0.298238\n",
       "2                   2  0.387572\n",
       "3                   3  0.508666\n",
       "4                   4  0.573081\n",
       "5                   5  0.573826\n",
       "6                   6  0.703207"
      ]
     },
     "execution_count": 65,
     "metadata": {},
     "output_type": "execute_result"
    }
   ],
   "source": [
    "latepay_plot = df.groupby('TOTAL_LATE_PAYMENT', as_index=False)['DEFAULT'].mean()\n",
    "latepay_plot"
   ]
  },
  {
   "cell_type": "code",
   "execution_count": 66,
   "metadata": {
    "colab": {
     "base_uri": "https://localhost:8080/",
     "height": 0
    },
    "id": "6q4c1xL0CB4f",
    "outputId": "e7a764dd-502b-4b94-8362-9e0661aa6035"
   },
   "outputs": [
    {
     "data": {
      "image/png": "[encoded data removed]",
      "text/plain": [
       "<Figure size 432x288 with 1 Axes>"
      ]
     },
     "metadata": {},
     "output_type": "display_data"
    }
   ],
   "source": [
    "x_axis = 'TOTAL_LATE_PAYMENT'\n",
    "y_axis = 'DEFAULT'\n",
    "dataset = latepay_plot\n",
    "\n",
    "sns.barplot(x = x_axis, y = y_axis, data = dataset, palette='Blues_d', alpha=.7)\n",
    "\n",
    "plt.xlabel(\"Total months of late payment\")\n",
    "plt.ylabel(\"Credit Default Rate\")\n",
    "plt.title(\"Credit Default Rate by months of late payment\")\n",
    "None"
   ]
  },
  {
   "cell_type": "markdown",
   "metadata": {
    "id": "yd4l53WPDzl_"
   },
   "source": [
    "Generally, the late payment occurs more often, more likely to default; payment delayed for longer time, more likely to default"
   ]
  },
  {
   "cell_type": "code",
   "execution_count": 67,
   "metadata": {
    "colab": {
     "base_uri": "https://localhost:8080/",
     "height": 0
    },
    "id": "mUhIc4sEIYxR",
    "outputId": "57c0f235-0131-43ad-aad9-c265fe56362e"
   },
   "outputs": [
    {
     "data": {
      "text/html": [
       "<div>\n",
       "<style scoped>\n",
       "    .dataframe tbody tr th:only-of-type {\n",
       "        vertical-align: middle;\n",
       "    }\n",
       "\n",
       "    .dataframe tbody tr th {\n",
       "        vertical-align: top;\n",
       "    }\n",
       "\n",
       "    .dataframe thead th {\n",
       "        text-align: right;\n",
       "    }\n",
       "</style>\n",
       "<table border=\"1\" class=\"dataframe\">\n",
       "  <thead>\n",
       "    <tr style=\"text-align: right;\">\n",
       "      <th></th>\n",
       "      <th>MARRIAGE</th>\n",
       "      <th>TOTAL_LATE_PAYMENT</th>\n",
       "      <th>DEFAULT</th>\n",
       "    </tr>\n",
       "  </thead>\n",
       "  <tbody>\n",
       "    <tr>\n",
       "      <th>0</th>\n",
       "      <td>Married</td>\n",
       "      <td>0</td>\n",
       "      <td>0.126888</td>\n",
       "    </tr>\n",
       "    <tr>\n",
       "      <th>1</th>\n",
       "      <td>Married</td>\n",
       "      <td>1</td>\n",
       "      <td>0.310933</td>\n",
       "    </tr>\n",
       "    <tr>\n",
       "      <th>2</th>\n",
       "      <td>Married</td>\n",
       "      <td>2</td>\n",
       "      <td>0.412043</td>\n",
       "    </tr>\n",
       "    <tr>\n",
       "      <th>3</th>\n",
       "      <td>Married</td>\n",
       "      <td>3</td>\n",
       "      <td>0.504762</td>\n",
       "    </tr>\n",
       "    <tr>\n",
       "      <th>4</th>\n",
       "      <td>Married</td>\n",
       "      <td>4</td>\n",
       "      <td>0.602326</td>\n",
       "    </tr>\n",
       "    <tr>\n",
       "      <th>5</th>\n",
       "      <td>Married</td>\n",
       "      <td>5</td>\n",
       "      <td>0.655405</td>\n",
       "    </tr>\n",
       "    <tr>\n",
       "      <th>6</th>\n",
       "      <td>Married</td>\n",
       "      <td>6</td>\n",
       "      <td>0.722050</td>\n",
       "    </tr>\n",
       "    <tr>\n",
       "      <th>7</th>\n",
       "      <td>Others</td>\n",
       "      <td>0</td>\n",
       "      <td>0.141667</td>\n",
       "    </tr>\n",
       "    <tr>\n",
       "      <th>8</th>\n",
       "      <td>Others</td>\n",
       "      <td>1</td>\n",
       "      <td>0.274194</td>\n",
       "    </tr>\n",
       "    <tr>\n",
       "      <th>9</th>\n",
       "      <td>Others</td>\n",
       "      <td>2</td>\n",
       "      <td>0.343750</td>\n",
       "    </tr>\n",
       "    <tr>\n",
       "      <th>10</th>\n",
       "      <td>Others</td>\n",
       "      <td>3</td>\n",
       "      <td>0.454545</td>\n",
       "    </tr>\n",
       "    <tr>\n",
       "      <th>11</th>\n",
       "      <td>Others</td>\n",
       "      <td>4</td>\n",
       "      <td>0.750000</td>\n",
       "    </tr>\n",
       "    <tr>\n",
       "      <th>12</th>\n",
       "      <td>Others</td>\n",
       "      <td>5</td>\n",
       "      <td>0.666667</td>\n",
       "    </tr>\n",
       "    <tr>\n",
       "      <th>13</th>\n",
       "      <td>Others</td>\n",
       "      <td>6</td>\n",
       "      <td>0.666667</td>\n",
       "    </tr>\n",
       "    <tr>\n",
       "      <th>14</th>\n",
       "      <td>Single</td>\n",
       "      <td>0</td>\n",
       "      <td>0.108192</td>\n",
       "    </tr>\n",
       "    <tr>\n",
       "      <th>15</th>\n",
       "      <td>Single</td>\n",
       "      <td>1</td>\n",
       "      <td>0.288186</td>\n",
       "    </tr>\n",
       "    <tr>\n",
       "      <th>16</th>\n",
       "      <td>Single</td>\n",
       "      <td>2</td>\n",
       "      <td>0.368627</td>\n",
       "    </tr>\n",
       "    <tr>\n",
       "      <th>17</th>\n",
       "      <td>Single</td>\n",
       "      <td>3</td>\n",
       "      <td>0.512945</td>\n",
       "    </tr>\n",
       "    <tr>\n",
       "      <th>18</th>\n",
       "      <td>Single</td>\n",
       "      <td>4</td>\n",
       "      <td>0.545809</td>\n",
       "    </tr>\n",
       "    <tr>\n",
       "      <th>19</th>\n",
       "      <td>Single</td>\n",
       "      <td>5</td>\n",
       "      <td>0.489796</td>\n",
       "    </tr>\n",
       "    <tr>\n",
       "      <th>20</th>\n",
       "      <td>Single</td>\n",
       "      <td>6</td>\n",
       "      <td>0.686391</td>\n",
       "    </tr>\n",
       "  </tbody>\n",
       "</table>\n",
       "</div>"
      ],
      "text/plain": [
       "   MARRIAGE  TOTAL_LATE_PAYMENT   DEFAULT\n",
       "0   Married                   0  0.126888\n",
       "1   Married                   1  0.310933\n",
       "2   Married                   2  0.412043\n",
       "3   Married                   3  0.504762\n",
       "4   Married                   4  0.602326\n",
       "5   Married                   5  0.655405\n",
       "6   Married                   6  0.722050\n",
       "7    Others                   0  0.141667\n",
       "8    Others                   1  0.274194\n",
       "9    Others                   2  0.343750\n",
       "10   Others                   3  0.454545\n",
       "11   Others                   4  0.750000\n",
       "12   Others                   5  0.666667\n",
       "13   Others                   6  0.666667\n",
       "14   Single                   0  0.108192\n",
       "15   Single                   1  0.288186\n",
       "16   Single                   2  0.368627\n",
       "17   Single                   3  0.512945\n",
       "18   Single                   4  0.545809\n",
       "19   Single                   5  0.489796\n",
       "20   Single                   6  0.686391"
      ]
     },
     "execution_count": 67,
     "metadata": {},
     "output_type": "execute_result"
    }
   ],
   "source": [
    "df.groupby(['MARRIAGE','TOTAL_LATE_PAYMENT'], as_index = False)['DEFAULT'].mean()"
   ]
  },
  {
   "cell_type": "code",
   "execution_count": 68,
   "metadata": {
    "colab": {
     "base_uri": "https://localhost:8080/",
     "height": 0
    },
    "id": "ikDMbdGxHO1g",
    "outputId": "eb03632c-cc9e-4c2c-c39b-9399d7af59fa"
   },
   "outputs": [
    {
     "data": {
      "image/png": "[encoded data removed]",
      "text/plain": [
       "<Figure size 610.125x360 with 1 Axes>"
      ]
     },
     "metadata": {},
     "output_type": "display_data"
    }
   ],
   "source": [
    "sns.catplot(x= 'TOTAL_LATE_PAYMENT', y='DEFAULT', hue='MARRIAGE', data=df,\n",
    "                kind=\"bar\",\n",
    "                hue_order=['Single','Married'],\n",
    "                ci=None,\n",
    "                height=5,\n",
    "                aspect=1.5,\n",
    "                palette='ch:r=-.5,l=.75',\n",
    "                alpha = 0.7);\n",
    "\n",
    "plt.xlabel(\"Total months of late payment\")\n",
    "plt.ylabel(\"Credit Default Rate\")\n",
    "plt.title(\"Credit Default Rate by months of late payment\")\n",
    "None"
   ]
  },
  {
   "cell_type": "code",
   "execution_count": 69,
   "metadata": {
    "colab": {
     "base_uri": "https://localhost:8080/",
     "height": 0
    },
    "id": "2Z2boTIOPHMv",
    "outputId": "6a565be6-67f5-4202-8fde-c3df40b234cd"
   },
   "outputs": [
    {
     "name": "stderr",
     "output_type": "stream",
     "text": [
      "C:\\Users\\Khurram\\miniconda3\\envs\\uw\\lib\\site-packages\\seaborn\\categorical.py:3793: UserWarning: Setting `sharex=False` with `color=None` may cause different levels of the `x` variable to share colors. This will change in a future version.\n",
      "  warnings.warn(msg.format(\"sharex\", \"x\"), UserWarning)\n"
     ]
    },
    {
     "data": {
      "image/png": "[encoded data removed]",
      "text/plain": [
       "<Figure size 1080x720 with 6 Axes>"
      ]
     },
     "metadata": {},
     "output_type": "display_data"
    }
   ],
   "source": [
    "g = sns.catplot(data=df, x= 'TOTAL_LATE_PAYMENT', y='DEFAULT',\n",
    "            col='LIMIT_GROUP',\n",
    "            col_wrap = 3,\n",
    "            kind=\"bar\",\n",
    "            ci=None,\n",
    "            height=5,\n",
    "            sharex = False,\n",
    "            palette='ch:r=-.5,l=.75',\n",
    "            alpha = 0.7)\n",
    "\n",
    "g.set_axis_labels(\"Total Months of Late Payment\",\"Default Rate\")\n",
    "# g.set_titles(\"Default Rate by different Times of Late Payment and Credit Limit\")\n",
    "\n",
    "None"
   ]
  },
  {
   "cell_type": "markdown",
   "metadata": {
    "id": "rPRRcVn8akVv"
   },
   "source": [
    "# Predictive Modeling"
   ]
  },
  {
   "cell_type": "markdown",
   "metadata": {
    "id": "pllQzByOVVj-"
   },
   "source": [
    "## Train-Test Split"
   ]
  },
  {
   "cell_type": "code",
   "execution_count": 70,
   "metadata": {
    "id": "YLfuEUadSh8z"
   },
   "outputs": [],
   "source": [
    "from sklearn.model_selection import train_test_split\n",
    "from sklearn.ensemble import RandomForestClassifier"
   ]
  },
  {
   "cell_type": "code",
   "execution_count": 71,
   "metadata": {
    "colab": {
     "base_uri": "https://localhost:8080/",
     "height": 235
    },
    "id": "TwnZObiSXFhe",
    "outputId": "03855bc4-20ba-4929-cee9-e6792e0bdd7e"
   },
   "outputs": [
    {
     "data": {
      "text/html": [
       "<div>\n",
       "<style scoped>\n",
       "    .dataframe tbody tr th:only-of-type {\n",
       "        vertical-align: middle;\n",
       "    }\n",
       "\n",
       "    .dataframe tbody tr th {\n",
       "        vertical-align: top;\n",
       "    }\n",
       "\n",
       "    .dataframe thead th {\n",
       "        text-align: right;\n",
       "    }\n",
       "</style>\n",
       "<table border=\"1\" class=\"dataframe\">\n",
       "  <thead>\n",
       "    <tr style=\"text-align: right;\">\n",
       "      <th></th>\n",
       "      <th>Female</th>\n",
       "      <th>Male</th>\n",
       "    </tr>\n",
       "    <tr>\n",
       "      <th>ID</th>\n",
       "      <th></th>\n",
       "      <th></th>\n",
       "    </tr>\n",
       "  </thead>\n",
       "  <tbody>\n",
       "    <tr>\n",
       "      <th>1</th>\n",
       "      <td>1</td>\n",
       "      <td>0</td>\n",
       "    </tr>\n",
       "    <tr>\n",
       "      <th>2</th>\n",
       "      <td>1</td>\n",
       "      <td>0</td>\n",
       "    </tr>\n",
       "    <tr>\n",
       "      <th>3</th>\n",
       "      <td>1</td>\n",
       "      <td>0</td>\n",
       "    </tr>\n",
       "    <tr>\n",
       "      <th>4</th>\n",
       "      <td>1</td>\n",
       "      <td>0</td>\n",
       "    </tr>\n",
       "    <tr>\n",
       "      <th>5</th>\n",
       "      <td>0</td>\n",
       "      <td>1</td>\n",
       "    </tr>\n",
       "  </tbody>\n",
       "</table>\n",
       "</div>"
      ],
      "text/plain": [
       "    Female  Male\n",
       "ID              \n",
       "1        1     0\n",
       "2        1     0\n",
       "3        1     0\n",
       "4        1     0\n",
       "5        0     1"
      ]
     },
     "execution_count": 71,
     "metadata": {},
     "output_type": "execute_result"
    }
   ],
   "source": [
    "# Dummy variables for Sex\n",
    "sex_dummies = pd.get_dummies(df[\"SEX\"])\n",
    "sex_dummies.rename(columns={\"Male\": 0, \"Female\": 1})\n",
    "sex_dummies.head(5)"
   ]
  },
  {
   "cell_type": "code",
   "execution_count": 72,
   "metadata": {
    "colab": {
     "base_uri": "https://localhost:8080/",
     "height": 235
    },
    "id": "WjZAVUNijtxQ",
    "outputId": "60894b73-a171-40d5-e673-b5dac72b70d3"
   },
   "outputs": [
    {
     "data": {
      "text/html": [
       "<div>\n",
       "<style scoped>\n",
       "    .dataframe tbody tr th:only-of-type {\n",
       "        vertical-align: middle;\n",
       "    }\n",
       "\n",
       "    .dataframe tbody tr th {\n",
       "        vertical-align: top;\n",
       "    }\n",
       "\n",
       "    .dataframe thead th {\n",
       "        text-align: right;\n",
       "    }\n",
       "</style>\n",
       "<table border=\"1\" class=\"dataframe\">\n",
       "  <thead>\n",
       "    <tr style=\"text-align: right;\">\n",
       "      <th></th>\n",
       "      <th>Graduate School</th>\n",
       "      <th>High School</th>\n",
       "      <th>University</th>\n",
       "    </tr>\n",
       "    <tr>\n",
       "      <th>ID</th>\n",
       "      <th></th>\n",
       "      <th></th>\n",
       "      <th></th>\n",
       "    </tr>\n",
       "  </thead>\n",
       "  <tbody>\n",
       "    <tr>\n",
       "      <th>1</th>\n",
       "      <td>0</td>\n",
       "      <td>0</td>\n",
       "      <td>1</td>\n",
       "    </tr>\n",
       "    <tr>\n",
       "      <th>2</th>\n",
       "      <td>0</td>\n",
       "      <td>0</td>\n",
       "      <td>1</td>\n",
       "    </tr>\n",
       "    <tr>\n",
       "      <th>3</th>\n",
       "      <td>0</td>\n",
       "      <td>0</td>\n",
       "      <td>1</td>\n",
       "    </tr>\n",
       "    <tr>\n",
       "      <th>4</th>\n",
       "      <td>0</td>\n",
       "      <td>0</td>\n",
       "      <td>1</td>\n",
       "    </tr>\n",
       "    <tr>\n",
       "      <th>5</th>\n",
       "      <td>0</td>\n",
       "      <td>0</td>\n",
       "      <td>1</td>\n",
       "    </tr>\n",
       "  </tbody>\n",
       "</table>\n",
       "</div>"
      ],
      "text/plain": [
       "    Graduate School  High School  University\n",
       "ID                                          \n",
       "1                 0            0           1\n",
       "2                 0            0           1\n",
       "3                 0            0           1\n",
       "4                 0            0           1\n",
       "5                 0            0           1"
      ]
     },
     "execution_count": 72,
     "metadata": {},
     "output_type": "execute_result"
    }
   ],
   "source": [
    "# Dummy variables for education\n",
    "education_dummies = pd.get_dummies(df[\"EDUCATION\"])\n",
    "education_dummies.rename(columns={\"High School\":0, \"University\":1, \"Graduate School\":2})\n",
    "education_dummies.head(5)"
   ]
  },
  {
   "cell_type": "code",
   "execution_count": 73,
   "metadata": {
    "colab": {
     "base_uri": "https://localhost:8080/",
     "height": 235
    },
    "id": "P8ja9ZhmjvHv",
    "outputId": "9bf91f4c-73f1-4eab-a787-6769299cf712"
   },
   "outputs": [
    {
     "data": {
      "text/html": [
       "<div>\n",
       "<style scoped>\n",
       "    .dataframe tbody tr th:only-of-type {\n",
       "        vertical-align: middle;\n",
       "    }\n",
       "\n",
       "    .dataframe tbody tr th {\n",
       "        vertical-align: top;\n",
       "    }\n",
       "\n",
       "    .dataframe thead th {\n",
       "        text-align: right;\n",
       "    }\n",
       "</style>\n",
       "<table border=\"1\" class=\"dataframe\">\n",
       "  <thead>\n",
       "    <tr style=\"text-align: right;\">\n",
       "      <th></th>\n",
       "      <th>Married</th>\n",
       "      <th>Others</th>\n",
       "      <th>Single</th>\n",
       "    </tr>\n",
       "    <tr>\n",
       "      <th>ID</th>\n",
       "      <th></th>\n",
       "      <th></th>\n",
       "      <th></th>\n",
       "    </tr>\n",
       "  </thead>\n",
       "  <tbody>\n",
       "    <tr>\n",
       "      <th>1</th>\n",
       "      <td>1</td>\n",
       "      <td>0</td>\n",
       "      <td>0</td>\n",
       "    </tr>\n",
       "    <tr>\n",
       "      <th>2</th>\n",
       "      <td>0</td>\n",
       "      <td>0</td>\n",
       "      <td>1</td>\n",
       "    </tr>\n",
       "    <tr>\n",
       "      <th>3</th>\n",
       "      <td>0</td>\n",
       "      <td>0</td>\n",
       "      <td>1</td>\n",
       "    </tr>\n",
       "    <tr>\n",
       "      <th>4</th>\n",
       "      <td>1</td>\n",
       "      <td>0</td>\n",
       "      <td>0</td>\n",
       "    </tr>\n",
       "    <tr>\n",
       "      <th>5</th>\n",
       "      <td>1</td>\n",
       "      <td>0</td>\n",
       "      <td>0</td>\n",
       "    </tr>\n",
       "  </tbody>\n",
       "</table>\n",
       "</div>"
      ],
      "text/plain": [
       "    Married  Others  Single\n",
       "ID                         \n",
       "1         1       0       0\n",
       "2         0       0       1\n",
       "3         0       0       1\n",
       "4         1       0       0\n",
       "5         1       0       0"
      ]
     },
     "execution_count": 73,
     "metadata": {},
     "output_type": "execute_result"
    }
   ],
   "source": [
    "# Dummy variables for marriage\n",
    "marriage_dummies = pd.get_dummies(df[\"MARRIAGE\"])\n",
    "marriage_dummies.rename(columns={\"Single\":0, \"Married\":1})\n",
    "marriage_dummies.head(5)"
   ]
  },
  {
   "cell_type": "code",
   "execution_count": 74,
   "metadata": {
    "colab": {
     "base_uri": "https://localhost:8080/",
     "height": 272
    },
    "id": "gBBZOanPj0hG",
    "outputId": "a9922234-9e57-4661-d9af-f89c18ea8010"
   },
   "outputs": [
    {
     "data": {
      "text/html": [
       "<div>\n",
       "<style scoped>\n",
       "    .dataframe tbody tr th:only-of-type {\n",
       "        vertical-align: middle;\n",
       "    }\n",
       "\n",
       "    .dataframe tbody tr th {\n",
       "        vertical-align: top;\n",
       "    }\n",
       "\n",
       "    .dataframe thead th {\n",
       "        text-align: right;\n",
       "    }\n",
       "</style>\n",
       "<table border=\"1\" class=\"dataframe\">\n",
       "  <thead>\n",
       "    <tr style=\"text-align: right;\">\n",
       "      <th></th>\n",
       "      <th>LIMIT_BAL</th>\n",
       "      <th>SEX</th>\n",
       "      <th>EDUCATION</th>\n",
       "      <th>MARRIAGE</th>\n",
       "      <th>AGE</th>\n",
       "      <th>PAY_1</th>\n",
       "      <th>PAY_2</th>\n",
       "      <th>PAY_3</th>\n",
       "      <th>PAY_4</th>\n",
       "      <th>PAY_5</th>\n",
       "      <th>...</th>\n",
       "      <th>TOTAL_LATE_PAYMENT</th>\n",
       "      <th>RATIO</th>\n",
       "      <th>Female</th>\n",
       "      <th>Male</th>\n",
       "      <th>Graduate School</th>\n",
       "      <th>High School</th>\n",
       "      <th>University</th>\n",
       "      <th>Married</th>\n",
       "      <th>Others</th>\n",
       "      <th>Single</th>\n",
       "    </tr>\n",
       "    <tr>\n",
       "      <th>ID</th>\n",
       "      <th></th>\n",
       "      <th></th>\n",
       "      <th></th>\n",
       "      <th></th>\n",
       "      <th></th>\n",
       "      <th></th>\n",
       "      <th></th>\n",
       "      <th></th>\n",
       "      <th></th>\n",
       "      <th></th>\n",
       "      <th></th>\n",
       "      <th></th>\n",
       "      <th></th>\n",
       "      <th></th>\n",
       "      <th></th>\n",
       "      <th></th>\n",
       "      <th></th>\n",
       "      <th></th>\n",
       "      <th></th>\n",
       "      <th></th>\n",
       "      <th></th>\n",
       "    </tr>\n",
       "  </thead>\n",
       "  <tbody>\n",
       "    <tr>\n",
       "      <th>1</th>\n",
       "      <td>20000.0</td>\n",
       "      <td>Female</td>\n",
       "      <td>University</td>\n",
       "      <td>Married</td>\n",
       "      <td>24</td>\n",
       "      <td>2</td>\n",
       "      <td>2</td>\n",
       "      <td>-1</td>\n",
       "      <td>-1</td>\n",
       "      <td>-1</td>\n",
       "      <td>...</td>\n",
       "      <td>2</td>\n",
       "      <td>6.420000</td>\n",
       "      <td>1</td>\n",
       "      <td>0</td>\n",
       "      <td>0</td>\n",
       "      <td>0</td>\n",
       "      <td>1</td>\n",
       "      <td>1</td>\n",
       "      <td>0</td>\n",
       "      <td>0</td>\n",
       "    </tr>\n",
       "    <tr>\n",
       "      <th>2</th>\n",
       "      <td>120000.0</td>\n",
       "      <td>Female</td>\n",
       "      <td>University</td>\n",
       "      <td>Single</td>\n",
       "      <td>26</td>\n",
       "      <td>-1</td>\n",
       "      <td>2</td>\n",
       "      <td>-1</td>\n",
       "      <td>-1</td>\n",
       "      <td>-1</td>\n",
       "      <td>...</td>\n",
       "      <td>2</td>\n",
       "      <td>2.371806</td>\n",
       "      <td>1</td>\n",
       "      <td>0</td>\n",
       "      <td>0</td>\n",
       "      <td>0</td>\n",
       "      <td>1</td>\n",
       "      <td>0</td>\n",
       "      <td>0</td>\n",
       "      <td>1</td>\n",
       "    </tr>\n",
       "    <tr>\n",
       "      <th>3</th>\n",
       "      <td>90000.0</td>\n",
       "      <td>Female</td>\n",
       "      <td>University</td>\n",
       "      <td>Single</td>\n",
       "      <td>34</td>\n",
       "      <td>-1</td>\n",
       "      <td>-1</td>\n",
       "      <td>-1</td>\n",
       "      <td>-1</td>\n",
       "      <td>-1</td>\n",
       "      <td>...</td>\n",
       "      <td>0</td>\n",
       "      <td>18.824630</td>\n",
       "      <td>1</td>\n",
       "      <td>0</td>\n",
       "      <td>0</td>\n",
       "      <td>0</td>\n",
       "      <td>1</td>\n",
       "      <td>0</td>\n",
       "      <td>0</td>\n",
       "      <td>1</td>\n",
       "    </tr>\n",
       "    <tr>\n",
       "      <th>4</th>\n",
       "      <td>50000.0</td>\n",
       "      <td>Female</td>\n",
       "      <td>University</td>\n",
       "      <td>Married</td>\n",
       "      <td>37</td>\n",
       "      <td>-1</td>\n",
       "      <td>-1</td>\n",
       "      <td>-1</td>\n",
       "      <td>-1</td>\n",
       "      <td>-1</td>\n",
       "      <td>...</td>\n",
       "      <td>0</td>\n",
       "      <td>77.111333</td>\n",
       "      <td>1</td>\n",
       "      <td>0</td>\n",
       "      <td>0</td>\n",
       "      <td>0</td>\n",
       "      <td>1</td>\n",
       "      <td>1</td>\n",
       "      <td>0</td>\n",
       "      <td>0</td>\n",
       "    </tr>\n",
       "    <tr>\n",
       "      <th>5</th>\n",
       "      <td>50000.0</td>\n",
       "      <td>Male</td>\n",
       "      <td>University</td>\n",
       "      <td>Married</td>\n",
       "      <td>57</td>\n",
       "      <td>-1</td>\n",
       "      <td>-1</td>\n",
       "      <td>-1</td>\n",
       "      <td>-1</td>\n",
       "      <td>-1</td>\n",
       "      <td>...</td>\n",
       "      <td>0</td>\n",
       "      <td>36.446333</td>\n",
       "      <td>0</td>\n",
       "      <td>1</td>\n",
       "      <td>0</td>\n",
       "      <td>0</td>\n",
       "      <td>1</td>\n",
       "      <td>1</td>\n",
       "      <td>0</td>\n",
       "      <td>0</td>\n",
       "    </tr>\n",
       "  </tbody>\n",
       "</table>\n",
       "<p>5 rows × 36 columns</p>\n",
       "</div>"
      ],
      "text/plain": [
       "    LIMIT_BAL     SEX   EDUCATION MARRIAGE  AGE  PAY_1  PAY_2  PAY_3  PAY_4  \\\n",
       "ID                                                                            \n",
       "1     20000.0  Female  University  Married   24      2      2     -1     -1   \n",
       "2    120000.0  Female  University   Single   26     -1      2     -1     -1   \n",
       "3     90000.0  Female  University   Single   34     -1     -1     -1     -1   \n",
       "4     50000.0  Female  University  Married   37     -1     -1     -1     -1   \n",
       "5     50000.0    Male  University  Married   57     -1     -1     -1     -1   \n",
       "\n",
       "    PAY_5  ...  TOTAL_LATE_PAYMENT      RATIO  Female  Male  Graduate School  \\\n",
       "ID         ...                                                                 \n",
       "1      -1  ...                   2   6.420000       1     0                0   \n",
       "2      -1  ...                   2   2.371806       1     0                0   \n",
       "3      -1  ...                   0  18.824630       1     0                0   \n",
       "4      -1  ...                   0  77.111333       1     0                0   \n",
       "5      -1  ...                   0  36.446333       0     1                0   \n",
       "\n",
       "    High School  University  Married  Others  Single  \n",
       "ID                                                    \n",
       "1             0           1        1       0       0  \n",
       "2             0           1        0       0       1  \n",
       "3             0           1        0       0       1  \n",
       "4             0           1        1       0       0  \n",
       "5             0           1        1       0       0  \n",
       "\n",
       "[5 rows x 36 columns]"
      ]
     },
     "execution_count": 74,
     "metadata": {},
     "output_type": "execute_result"
    }
   ],
   "source": [
    "df3=pd.concat([df, sex_dummies, education_dummies, marriage_dummies], axis=1)\n",
    "df3.head()"
   ]
  },
  {
   "cell_type": "code",
   "execution_count": 75,
   "metadata": {
    "colab": {
     "base_uri": "https://localhost:8080/"
    },
    "id": "KOIJRtghVqR9",
    "outputId": "74a5a593-bf15-4ed2-a23b-ec785f8176f9"
   },
   "outputs": [
    {
     "name": "stdout",
     "output_type": "stream",
     "text": [
      "['LIMIT_BAL', 'SEX', 'EDUCATION', 'MARRIAGE', 'AGE', 'PAY_1', 'PAY_2', 'PAY_3', 'PAY_4', 'PAY_5', 'PAY_6', 'BILL_AMT1', 'BILL_AMT2', 'BILL_AMT3', 'BILL_AMT4', 'BILL_AMT5', 'BILL_AMT6', 'PAY_AMT1', 'PAY_AMT2', 'PAY_AMT3', 'PAY_AMT4', 'PAY_AMT5', 'PAY_AMT6', 'DEFAULT', 'AGE_GROUP', 'LIMIT_GROUP', 'TOTAL_LATE_PAYMENT', 'RATIO']\n"
     ]
    }
   ],
   "source": [
    "print(df.columns.to_list())"
   ]
  },
  {
   "cell_type": "markdown",
   "metadata": {
    "id": "KxP3PfRmy7rP"
   },
   "source": [
    "Based on the correlation heatmap, BILL_AMT1-6 have low correlation with the default. So we remove them from the input features for our models."
   ]
  },
  {
   "cell_type": "code",
   "execution_count": 76,
   "metadata": {
    "colab": {
     "base_uri": "https://localhost:8080/"
    },
    "id": "mIoEOFkpT6Ne",
    "outputId": "486341b9-43f8-43ee-bbb5-4dfa34971f03"
   },
   "outputs": [
    {
     "name": "stdout",
     "output_type": "stream",
     "text": [
      "(24000, 24)\n",
      "(6000, 24)\n",
      "(24000,)\n",
      "(6000,)\n"
     ]
    }
   ],
   "source": [
    "X = df3.drop(['DEFAULT','AGE_GROUP','LIMIT_GROUP','SEX','EDUCATION','MARRIAGE','BILL_AMT1','BILL_AMT2','BILL_AMT3','BILL_AMT4','BILL_AMT5','BILL_AMT6'], axis=1)\n",
    "y =df3[\"DEFAULT\"]\n",
    "\n",
    "X_train, X_test, y_train, y_test = train_test_split(X, y, test_size=0.2)\n",
    "\n",
    "print(X_train.shape)\n",
    "print(X_test.shape)\n",
    "print(y_train.shape)\n",
    "print(y_test.shape)"
   ]
  },
  {
   "cell_type": "markdown",
   "metadata": {
    "id": "Hx3igAbuTJy4"
   },
   "source": [
    "## Ramdon Forest"
   ]
  },
  {
   "cell_type": "markdown",
   "metadata": {
    "id": "sy6dRGDMWY_g"
   },
   "source": [
    "### Training"
   ]
  },
  {
   "cell_type": "code",
   "execution_count": 77,
   "metadata": {
    "colab": {
     "base_uri": "https://localhost:8080/"
    },
    "id": "DY-8Unm2WXJf",
    "outputId": "f6034fb2-a6fe-4142-a8aa-f42625c3e4da"
   },
   "outputs": [
    {
     "data": {
      "text/plain": [
       "RandomForestClassifier(max_features='sqrt', n_estimators=200, n_jobs=-1)"
      ]
     },
     "execution_count": 77,
     "metadata": {},
     "output_type": "execute_result"
    }
   ],
   "source": [
    "rf_clf = RandomForestClassifier(n_estimators=200, n_jobs=-1, max_features='sqrt')\n",
    "rf_clf.fit(X_train, y_train) #train the model on the training set"
   ]
  },
  {
   "cell_type": "markdown",
   "metadata": {
    "id": "gCexNPVpXhx3"
   },
   "source": [
    "### Testing"
   ]
  },
  {
   "cell_type": "code",
   "execution_count": 78,
   "metadata": {
    "colab": {
     "base_uri": "https://localhost:8080/"
    },
    "id": "RjHTtyCvXdpA",
    "outputId": "8abb99c7-c927-45bb-9a80-30cf7465ce05"
   },
   "outputs": [
    {
     "name": "stdout",
     "output_type": "stream",
     "text": [
      "(6000,)\n"
     ]
    },
    {
     "data": {
      "text/plain": [
       "array([0, 0, 0, ..., 0, 1, 1], dtype=int64)"
      ]
     },
     "execution_count": 78,
     "metadata": {},
     "output_type": "execute_result"
    }
   ],
   "source": [
    "y_pred = rf_clf.predict(X_test) #make predictions for the test set\n",
    "print(y_pred.shape)\n",
    "y_pred #these are the predictions made by the model"
   ]
  },
  {
   "cell_type": "code",
   "execution_count": 79,
   "metadata": {
    "colab": {
     "base_uri": "https://localhost:8080/"
    },
    "id": "00Ng82qjXrcf",
    "outputId": "bf5bd848-03ac-42e2-cffd-1ff529203a85"
   },
   "outputs": [
    {
     "data": {
      "text/plain": [
       "4920"
      ]
     },
     "execution_count": 79,
     "metadata": {},
     "output_type": "execute_result"
    }
   ],
   "source": [
    "#compare y_pred to our actual y_test\n",
    "(y_pred == y_test).sum()"
   ]
  },
  {
   "cell_type": "code",
   "execution_count": 80,
   "metadata": {
    "colab": {
     "base_uri": "https://localhost:8080/"
    },
    "id": "K7rDB8Z0Xv0_",
    "outputId": "5eebff75-7ed6-402f-d041-09cb18031f8a"
   },
   "outputs": [
    {
     "name": "stdout",
     "output_type": "stream",
     "text": [
      "0.82\n"
     ]
    }
   ],
   "source": [
    "from sklearn.metrics import accuracy_score\n",
    "print(accuracy_score(y_test, y_pred))"
   ]
  },
  {
   "cell_type": "code",
   "execution_count": 81,
   "metadata": {
    "colab": {
     "base_uri": "https://localhost:8080/"
    },
    "id": "r0_HoXnlYF7H",
    "outputId": "c73a6dae-531f-4072-92be-58c0fccaafc0"
   },
   "outputs": [
    {
     "data": {
      "text/plain": [
       "0    4686\n",
       "1    1314\n",
       "Name: DEFAULT, dtype: int64"
      ]
     },
     "execution_count": 81,
     "metadata": {},
     "output_type": "execute_result"
    }
   ],
   "source": [
    "y_test.value_counts()"
   ]
  },
  {
   "cell_type": "code",
   "execution_count": 82,
   "metadata": {
    "colab": {
     "base_uri": "https://localhost:8080/"
    },
    "id": "L5vuOGk0YJOZ",
    "outputId": "e5e6837f-ae7d-4dc2-e2cb-a70ba8771281"
   },
   "outputs": [
    {
     "data": {
      "text/plain": [
       "0.781"
      ]
     },
     "execution_count": 82,
     "metadata": {},
     "output_type": "execute_result"
    }
   ],
   "source": [
    "y_test.value_counts()[0]/y_test.value_counts().sum()"
   ]
  },
  {
   "cell_type": "code",
   "execution_count": 83,
   "metadata": {
    "colab": {
     "base_uri": "https://localhost:8080/",
     "height": 80
    },
    "id": "q2QENqKcNAsc",
    "outputId": "6afd7599-5d20-4a1c-8143-b961e9543133"
   },
   "outputs": [
    {
     "data": {
      "text/html": [
       "<div>\n",
       "<style scoped>\n",
       "    .dataframe tbody tr th:only-of-type {\n",
       "        vertical-align: middle;\n",
       "    }\n",
       "\n",
       "    .dataframe tbody tr th {\n",
       "        vertical-align: top;\n",
       "    }\n",
       "\n",
       "    .dataframe thead th {\n",
       "        text-align: right;\n",
       "    }\n",
       "</style>\n",
       "<table border=\"1\" class=\"dataframe\">\n",
       "  <thead>\n",
       "    <tr style=\"text-align: right;\">\n",
       "      <th></th>\n",
       "      <th>Model</th>\n",
       "      <th>Accuracy</th>\n",
       "      <th>Precision</th>\n",
       "      <th>Recall</th>\n",
       "      <th>F1 Score</th>\n",
       "      <th>ROC</th>\n",
       "    </tr>\n",
       "  </thead>\n",
       "  <tbody>\n",
       "    <tr>\n",
       "      <th>0</th>\n",
       "      <td>Random Forest</td>\n",
       "      <td>0.82</td>\n",
       "      <td>0.639952</td>\n",
       "      <td>0.407154</td>\n",
       "      <td>0.497674</td>\n",
       "      <td>0.67146</td>\n",
       "    </tr>\n",
       "  </tbody>\n",
       "</table>\n",
       "</div>"
      ],
      "text/plain": [
       "           Model  Accuracy  Precision    Recall  F1 Score      ROC\n",
       "0  Random Forest      0.82   0.639952  0.407154  0.497674  0.67146"
      ]
     },
     "execution_count": 83,
     "metadata": {},
     "output_type": "execute_result"
    }
   ],
   "source": [
    "from sklearn.metrics import  accuracy_score, f1_score, precision_score, recall_score, roc_auc_score\n",
    "roc = roc_auc_score(y_test, y_pred)\n",
    "acc = accuracy_score(y_test, y_pred)\n",
    "prec = precision_score(y_test, y_pred)\n",
    "rec = recall_score(y_test, y_pred)\n",
    "f1 = f1_score(y_test, y_pred)\n",
    "\n",
    "results = pd.DataFrame([['Random Forest', acc, prec ,rec, f1, roc]],\n",
    "columns = ['Model', 'Accuracy', 'Precision', 'Recall', 'F1 Score','ROC'])\n",
    "\n",
    "results"
   ]
  },
  {
   "cell_type": "markdown",
   "metadata": {
    "id": "aQLMogjKYPlJ"
   },
   "source": [
    "### Confusion Matrix"
   ]
  },
  {
   "cell_type": "code",
   "execution_count": 84,
   "metadata": {
    "colab": {
     "base_uri": "https://localhost:8080/",
     "height": 466
    },
    "id": "kwHcaNX2YOmw",
    "outputId": "8c14c03c-0d7e-4a61-cd28-d7bd7fa9e892"
   },
   "outputs": [
    {
     "name": "stderr",
     "output_type": "stream",
     "text": [
      "C:\\Users\\Khurram\\miniconda3\\envs\\uw\\lib\\site-packages\\sklearn\\utils\\deprecation.py:87: FutureWarning: Function plot_confusion_matrix is deprecated; Function `plot_confusion_matrix` is deprecated in 1.0 and will be removed in 1.2. Use one of the class methods: ConfusionMatrixDisplay.from_predictions or ConfusionMatrixDisplay.from_estimator.\n",
      "  warnings.warn(msg, category=FutureWarning)\n"
     ]
    },
    {
     "data": {
      "text/plain": [
       "<Figure size 2000x1500 with 0 Axes>"
      ]
     },
     "metadata": {},
     "output_type": "display_data"
    },
    {
     "data": {
      "image/png": "[encoded data removed]",
      "text/plain": [
       "<Figure size 640x480 with 2 Axes>"
      ]
     },
     "metadata": {},
     "output_type": "display_data"
    }
   ],
   "source": [
    "from sklearn.metrics import plot_confusion_matrix\n",
    "with plt.style.context(\"default\"): #temporarily set the plot style\n",
    "  fig = plt.figure(figsize=(20,15))\n",
    "  ax = plot_confusion_matrix(rf_clf, X_test, y_test, values_format=\"\", cmap=\"Blues\")"
   ]
  },
  {
   "cell_type": "markdown",
   "metadata": {
    "id": "WwwnqyePYhQp"
   },
   "source": [
    "### Feature importance"
   ]
  },
  {
   "cell_type": "code",
   "execution_count": 85,
   "metadata": {
    "colab": {
     "base_uri": "https://localhost:8080/",
     "height": 793
    },
    "id": "P2zBylMlYj3v",
    "outputId": "da2c773f-2f10-4996-ddce-bec3ff23ddc3"
   },
   "outputs": [
    {
     "data": {
      "text/html": [
       "<div>\n",
       "<style scoped>\n",
       "    .dataframe tbody tr th:only-of-type {\n",
       "        vertical-align: middle;\n",
       "    }\n",
       "\n",
       "    .dataframe tbody tr th {\n",
       "        vertical-align: top;\n",
       "    }\n",
       "\n",
       "    .dataframe thead th {\n",
       "        text-align: right;\n",
       "    }\n",
       "</style>\n",
       "<table border=\"1\" class=\"dataframe\">\n",
       "  <thead>\n",
       "    <tr style=\"text-align: right;\">\n",
       "      <th></th>\n",
       "      <th>Feature Importance</th>\n",
       "    </tr>\n",
       "  </thead>\n",
       "  <tbody>\n",
       "    <tr>\n",
       "      <th>RATIO</th>\n",
       "      <td>0.106878</td>\n",
       "    </tr>\n",
       "    <tr>\n",
       "      <th>AGE</th>\n",
       "      <td>0.089803</td>\n",
       "    </tr>\n",
       "    <tr>\n",
       "      <th>LIMIT_BAL</th>\n",
       "      <td>0.080497</td>\n",
       "    </tr>\n",
       "    <tr>\n",
       "      <th>PAY_1</th>\n",
       "      <td>0.080377</td>\n",
       "    </tr>\n",
       "    <tr>\n",
       "      <th>PAY_AMT1</th>\n",
       "      <td>0.076831</td>\n",
       "    </tr>\n",
       "    <tr>\n",
       "      <th>PAY_AMT2</th>\n",
       "      <td>0.072253</td>\n",
       "    </tr>\n",
       "    <tr>\n",
       "      <th>PAY_AMT3</th>\n",
       "      <td>0.070361</td>\n",
       "    </tr>\n",
       "    <tr>\n",
       "      <th>PAY_AMT6</th>\n",
       "      <td>0.068728</td>\n",
       "    </tr>\n",
       "    <tr>\n",
       "      <th>PAY_AMT4</th>\n",
       "      <td>0.067301</td>\n",
       "    </tr>\n",
       "    <tr>\n",
       "      <th>PAY_AMT5</th>\n",
       "      <td>0.067000</td>\n",
       "    </tr>\n",
       "    <tr>\n",
       "      <th>TOTAL_LATE_PAYMENT</th>\n",
       "      <td>0.055827</td>\n",
       "    </tr>\n",
       "    <tr>\n",
       "      <th>PAY_2</th>\n",
       "      <td>0.029818</td>\n",
       "    </tr>\n",
       "    <tr>\n",
       "      <th>PAY_3</th>\n",
       "      <td>0.020061</td>\n",
       "    </tr>\n",
       "    <tr>\n",
       "      <th>PAY_4</th>\n",
       "      <td>0.014860</td>\n",
       "    </tr>\n",
       "    <tr>\n",
       "      <th>PAY_5</th>\n",
       "      <td>0.011969</td>\n",
       "    </tr>\n",
       "    <tr>\n",
       "      <th>University</th>\n",
       "      <td>0.011844</td>\n",
       "    </tr>\n",
       "    <tr>\n",
       "      <th>PAY_6</th>\n",
       "      <td>0.011410</td>\n",
       "    </tr>\n",
       "    <tr>\n",
       "      <th>Female</th>\n",
       "      <td>0.010656</td>\n",
       "    </tr>\n",
       "    <tr>\n",
       "      <th>Male</th>\n",
       "      <td>0.010486</td>\n",
       "    </tr>\n",
       "    <tr>\n",
       "      <th>Graduate School</th>\n",
       "      <td>0.010389</td>\n",
       "    </tr>\n",
       "    <tr>\n",
       "      <th>Married</th>\n",
       "      <td>0.010341</td>\n",
       "    </tr>\n",
       "    <tr>\n",
       "      <th>Single</th>\n",
       "      <td>0.010318</td>\n",
       "    </tr>\n",
       "    <tr>\n",
       "      <th>High School</th>\n",
       "      <td>0.009505</td>\n",
       "    </tr>\n",
       "    <tr>\n",
       "      <th>Others</th>\n",
       "      <td>0.002490</td>\n",
       "    </tr>\n",
       "  </tbody>\n",
       "</table>\n",
       "</div>"
      ],
      "text/plain": [
       "                    Feature Importance\n",
       "RATIO                         0.106878\n",
       "AGE                           0.089803\n",
       "LIMIT_BAL                     0.080497\n",
       "PAY_1                         0.080377\n",
       "PAY_AMT1                      0.076831\n",
       "PAY_AMT2                      0.072253\n",
       "PAY_AMT3                      0.070361\n",
       "PAY_AMT6                      0.068728\n",
       "PAY_AMT4                      0.067301\n",
       "PAY_AMT5                      0.067000\n",
       "TOTAL_LATE_PAYMENT            0.055827\n",
       "PAY_2                         0.029818\n",
       "PAY_3                         0.020061\n",
       "PAY_4                         0.014860\n",
       "PAY_5                         0.011969\n",
       "University                    0.011844\n",
       "PAY_6                         0.011410\n",
       "Female                        0.010656\n",
       "Male                          0.010486\n",
       "Graduate School               0.010389\n",
       "Married                       0.010341\n",
       "Single                        0.010318\n",
       "High School                   0.009505\n",
       "Others                        0.002490"
      ]
     },
     "execution_count": 85,
     "metadata": {},
     "output_type": "execute_result"
    }
   ],
   "source": [
    "df_imp = pd.DataFrame(rf_clf.feature_importances_, index=X_train.columns, columns=[\"Feature Importance\"]).sort_values(\"Feature Importance\", ascending=False)\n",
    "df_imp"
   ]
  },
  {
   "cell_type": "code",
   "execution_count": 86,
   "metadata": {
    "colab": {
     "base_uri": "https://localhost:8080/",
     "height": 634
    },
    "id": "5InbDa_3YpW4",
    "outputId": "24b39384-fc3e-409a-e1c7-3c7b4e982c9c"
   },
   "outputs": [
    {
     "data": {
      "image/png": "[encoded data removed]",
      "text/plain": [
       "<Figure size 1440x720 with 1 Axes>"
      ]
     },
     "metadata": {},
     "output_type": "display_data"
    }
   ],
   "source": [
    "fig = plt.figure(figsize=(20,10))\n",
    "ax = sns.barplot(x=\"Feature Importance\", y=df_imp.index, data=df_imp, palette=\"summer\")\n",
    "fig.suptitle(\"Feature Importance of Random Forest Classifier\", y=0.92, fontsize=18);"
   ]
  },
  {
   "cell_type": "markdown",
   "metadata": {
    "id": "kyRjj3OiB6YE"
   },
   "source": [
    "## KNN"
   ]
  },
  {
   "cell_type": "code",
   "execution_count": 87,
   "metadata": {
    "colab": {
     "base_uri": "https://localhost:8080/",
     "height": 648
    },
    "id": "AfUQsRCgB-NW",
    "outputId": "8a90ef78-b4db-48be-f2a4-689afd5d2047"
   },
   "outputs": [
    {
     "data": {
      "text/html": [
       "<div>\n",
       "<style scoped>\n",
       "    .dataframe tbody tr th:only-of-type {\n",
       "        vertical-align: middle;\n",
       "    }\n",
       "\n",
       "    .dataframe tbody tr th {\n",
       "        vertical-align: top;\n",
       "    }\n",
       "\n",
       "    .dataframe thead th {\n",
       "        text-align: right;\n",
       "    }\n",
       "</style>\n",
       "<table border=\"1\" class=\"dataframe\">\n",
       "  <thead>\n",
       "    <tr style=\"text-align: right;\">\n",
       "      <th></th>\n",
       "      <th>LIMIT_BAL</th>\n",
       "      <th>AGE</th>\n",
       "      <th>PAY_1</th>\n",
       "      <th>PAY_2</th>\n",
       "      <th>PAY_3</th>\n",
       "      <th>PAY_4</th>\n",
       "      <th>PAY_5</th>\n",
       "      <th>PAY_6</th>\n",
       "      <th>PAY_AMT1</th>\n",
       "      <th>PAY_AMT2</th>\n",
       "      <th>...</th>\n",
       "      <th>TOTAL_LATE_PAYMENT</th>\n",
       "      <th>RATIO</th>\n",
       "      <th>Female</th>\n",
       "      <th>Male</th>\n",
       "      <th>Graduate School</th>\n",
       "      <th>High School</th>\n",
       "      <th>University</th>\n",
       "      <th>Married</th>\n",
       "      <th>Others</th>\n",
       "      <th>Single</th>\n",
       "    </tr>\n",
       "  </thead>\n",
       "  <tbody>\n",
       "    <tr>\n",
       "      <th>count</th>\n",
       "      <td>24000.000000</td>\n",
       "      <td>24000.000000</td>\n",
       "      <td>24000.000000</td>\n",
       "      <td>24000.000000</td>\n",
       "      <td>24000.000000</td>\n",
       "      <td>24000.000000</td>\n",
       "      <td>24000.000000</td>\n",
       "      <td>24000.000000</td>\n",
       "      <td>24000.000000</td>\n",
       "      <td>2.400000e+04</td>\n",
       "      <td>...</td>\n",
       "      <td>24000.000000</td>\n",
       "      <td>24000.000000</td>\n",
       "      <td>24000.000000</td>\n",
       "      <td>24000.000000</td>\n",
       "      <td>24000.000000</td>\n",
       "      <td>24000.000000</td>\n",
       "      <td>24000.000000</td>\n",
       "      <td>24000.000000</td>\n",
       "      <td>24000.000000</td>\n",
       "      <td>24000.000000</td>\n",
       "    </tr>\n",
       "    <tr>\n",
       "      <th>mean</th>\n",
       "      <td>168106.403333</td>\n",
       "      <td>35.489667</td>\n",
       "      <td>-0.418250</td>\n",
       "      <td>-0.536750</td>\n",
       "      <td>-0.556167</td>\n",
       "      <td>-0.627708</td>\n",
       "      <td>-0.684083</td>\n",
       "      <td>-0.679292</td>\n",
       "      <td>5636.507958</td>\n",
       "      <td>5.897166e+03</td>\n",
       "      <td>...</td>\n",
       "      <td>0.827125</td>\n",
       "      <td>37.235252</td>\n",
       "      <td>0.603458</td>\n",
       "      <td>0.396542</td>\n",
       "      <td>0.353375</td>\n",
       "      <td>0.164500</td>\n",
       "      <td>0.482125</td>\n",
       "      <td>0.456958</td>\n",
       "      <td>0.012708</td>\n",
       "      <td>0.530333</td>\n",
       "    </tr>\n",
       "    <tr>\n",
       "      <th>std</th>\n",
       "      <td>129934.936454</td>\n",
       "      <td>9.204881</td>\n",
       "      <td>1.141434</td>\n",
       "      <td>1.140447</td>\n",
       "      <td>1.123787</td>\n",
       "      <td>1.062930</td>\n",
       "      <td>0.993976</td>\n",
       "      <td>0.992209</td>\n",
       "      <td>15906.836618</td>\n",
       "      <td>2.308699e+04</td>\n",
       "      <td>...</td>\n",
       "      <td>1.540375</td>\n",
       "      <td>35.244358</td>\n",
       "      <td>0.489189</td>\n",
       "      <td>0.489189</td>\n",
       "      <td>0.478028</td>\n",
       "      <td>0.370736</td>\n",
       "      <td>0.499691</td>\n",
       "      <td>0.498154</td>\n",
       "      <td>0.112015</td>\n",
       "      <td>0.499089</td>\n",
       "    </tr>\n",
       "    <tr>\n",
       "      <th>min</th>\n",
       "      <td>10000.000000</td>\n",
       "      <td>21.000000</td>\n",
       "      <td>-1.000000</td>\n",
       "      <td>-1.000000</td>\n",
       "      <td>-1.000000</td>\n",
       "      <td>-1.000000</td>\n",
       "      <td>-1.000000</td>\n",
       "      <td>-1.000000</td>\n",
       "      <td>0.000000</td>\n",
       "      <td>0.000000e+00</td>\n",
       "      <td>...</td>\n",
       "      <td>0.000000</td>\n",
       "      <td>-23.259000</td>\n",
       "      <td>0.000000</td>\n",
       "      <td>0.000000</td>\n",
       "      <td>0.000000</td>\n",
       "      <td>0.000000</td>\n",
       "      <td>0.000000</td>\n",
       "      <td>0.000000</td>\n",
       "      <td>0.000000</td>\n",
       "      <td>0.000000</td>\n",
       "    </tr>\n",
       "    <tr>\n",
       "      <th>25%</th>\n",
       "      <td>50000.000000</td>\n",
       "      <td>28.000000</td>\n",
       "      <td>-1.000000</td>\n",
       "      <td>-1.000000</td>\n",
       "      <td>-1.000000</td>\n",
       "      <td>-1.000000</td>\n",
       "      <td>-1.000000</td>\n",
       "      <td>-1.000000</td>\n",
       "      <td>1000.000000</td>\n",
       "      <td>8.130000e+02</td>\n",
       "      <td>...</td>\n",
       "      <td>0.000000</td>\n",
       "      <td>2.971458</td>\n",
       "      <td>0.000000</td>\n",
       "      <td>0.000000</td>\n",
       "      <td>0.000000</td>\n",
       "      <td>0.000000</td>\n",
       "      <td>0.000000</td>\n",
       "      <td>0.000000</td>\n",
       "      <td>0.000000</td>\n",
       "      <td>0.000000</td>\n",
       "    </tr>\n",
       "    <tr>\n",
       "      <th>50%</th>\n",
       "      <td>140000.000000</td>\n",
       "      <td>34.000000</td>\n",
       "      <td>-1.000000</td>\n",
       "      <td>-1.000000</td>\n",
       "      <td>-1.000000</td>\n",
       "      <td>-1.000000</td>\n",
       "      <td>-1.000000</td>\n",
       "      <td>-1.000000</td>\n",
       "      <td>2108.000000</td>\n",
       "      <td>2.006000e+03</td>\n",
       "      <td>...</td>\n",
       "      <td>0.000000</td>\n",
       "      <td>28.345606</td>\n",
       "      <td>1.000000</td>\n",
       "      <td>0.000000</td>\n",
       "      <td>0.000000</td>\n",
       "      <td>0.000000</td>\n",
       "      <td>0.000000</td>\n",
       "      <td>0.000000</td>\n",
       "      <td>0.000000</td>\n",
       "      <td>1.000000</td>\n",
       "    </tr>\n",
       "    <tr>\n",
       "      <th>75%</th>\n",
       "      <td>240000.000000</td>\n",
       "      <td>41.000000</td>\n",
       "      <td>-1.000000</td>\n",
       "      <td>-1.000000</td>\n",
       "      <td>-1.000000</td>\n",
       "      <td>-1.000000</td>\n",
       "      <td>-1.000000</td>\n",
       "      <td>-1.000000</td>\n",
       "      <td>5011.000000</td>\n",
       "      <td>5.000000e+03</td>\n",
       "      <td>...</td>\n",
       "      <td>1.000000</td>\n",
       "      <td>68.632515</td>\n",
       "      <td>1.000000</td>\n",
       "      <td>1.000000</td>\n",
       "      <td>1.000000</td>\n",
       "      <td>0.000000</td>\n",
       "      <td>1.000000</td>\n",
       "      <td>1.000000</td>\n",
       "      <td>0.000000</td>\n",
       "      <td>1.000000</td>\n",
       "    </tr>\n",
       "    <tr>\n",
       "      <th>max</th>\n",
       "      <td>1000000.000000</td>\n",
       "      <td>79.000000</td>\n",
       "      <td>8.000000</td>\n",
       "      <td>7.000000</td>\n",
       "      <td>8.000000</td>\n",
       "      <td>8.000000</td>\n",
       "      <td>8.000000</td>\n",
       "      <td>8.000000</td>\n",
       "      <td>505000.000000</td>\n",
       "      <td>1.684259e+06</td>\n",
       "      <td>...</td>\n",
       "      <td>6.000000</td>\n",
       "      <td>536.430833</td>\n",
       "      <td>1.000000</td>\n",
       "      <td>1.000000</td>\n",
       "      <td>1.000000</td>\n",
       "      <td>1.000000</td>\n",
       "      <td>1.000000</td>\n",
       "      <td>1.000000</td>\n",
       "      <td>1.000000</td>\n",
       "      <td>1.000000</td>\n",
       "    </tr>\n",
       "  </tbody>\n",
       "</table>\n",
       "<p>8 rows × 24 columns</p>\n",
       "</div>"
      ],
      "text/plain": [
       "            LIMIT_BAL           AGE         PAY_1         PAY_2         PAY_3  \\\n",
       "count    24000.000000  24000.000000  24000.000000  24000.000000  24000.000000   \n",
       "mean    168106.403333     35.489667     -0.418250     -0.536750     -0.556167   \n",
       "std     129934.936454      9.204881      1.141434      1.140447      1.123787   \n",
       "min      10000.000000     21.000000     -1.000000     -1.000000     -1.000000   \n",
       "25%      50000.000000     28.000000     -1.000000     -1.000000     -1.000000   \n",
       "50%     140000.000000     34.000000     -1.000000     -1.000000     -1.000000   \n",
       "75%     240000.000000     41.000000     -1.000000     -1.000000     -1.000000   \n",
       "max    1000000.000000     79.000000      8.000000      7.000000      8.000000   \n",
       "\n",
       "              PAY_4         PAY_5         PAY_6       PAY_AMT1      PAY_AMT2  \\\n",
       "count  24000.000000  24000.000000  24000.000000   24000.000000  2.400000e+04   \n",
       "mean      -0.627708     -0.684083     -0.679292    5636.507958  5.897166e+03   \n",
       "std        1.062930      0.993976      0.992209   15906.836618  2.308699e+04   \n",
       "min       -1.000000     -1.000000     -1.000000       0.000000  0.000000e+00   \n",
       "25%       -1.000000     -1.000000     -1.000000    1000.000000  8.130000e+02   \n",
       "50%       -1.000000     -1.000000     -1.000000    2108.000000  2.006000e+03   \n",
       "75%       -1.000000     -1.000000     -1.000000    5011.000000  5.000000e+03   \n",
       "max        8.000000      8.000000      8.000000  505000.000000  1.684259e+06   \n",
       "\n",
       "       ...  TOTAL_LATE_PAYMENT         RATIO        Female          Male  \\\n",
       "count  ...        24000.000000  24000.000000  24000.000000  24000.000000   \n",
       "mean   ...            0.827125     37.235252      0.603458      0.396542   \n",
       "std    ...            1.540375     35.244358      0.489189      0.489189   \n",
       "min    ...            0.000000    -23.259000      0.000000      0.000000   \n",
       "25%    ...            0.000000      2.971458      0.000000      0.000000   \n",
       "50%    ...            0.000000     28.345606      1.000000      0.000000   \n",
       "75%    ...            1.000000     68.632515      1.000000      1.000000   \n",
       "max    ...            6.000000    536.430833      1.000000      1.000000   \n",
       "\n",
       "       Graduate School   High School    University       Married  \\\n",
       "count     24000.000000  24000.000000  24000.000000  24000.000000   \n",
       "mean          0.353375      0.164500      0.482125      0.456958   \n",
       "std           0.478028      0.370736      0.499691      0.498154   \n",
       "min           0.000000      0.000000      0.000000      0.000000   \n",
       "25%           0.000000      0.000000      0.000000      0.000000   \n",
       "50%           0.000000      0.000000      0.000000      0.000000   \n",
       "75%           1.000000      0.000000      1.000000      1.000000   \n",
       "max           1.000000      1.000000      1.000000      1.000000   \n",
       "\n",
       "             Others        Single  \n",
       "count  24000.000000  24000.000000  \n",
       "mean       0.012708      0.530333  \n",
       "std        0.112015      0.499089  \n",
       "min        0.000000      0.000000  \n",
       "25%        0.000000      0.000000  \n",
       "50%        0.000000      1.000000  \n",
       "75%        0.000000      1.000000  \n",
       "max        1.000000      1.000000  \n",
       "\n",
       "[8 rows x 24 columns]"
      ]
     },
     "metadata": {},
     "output_type": "display_data"
    },
    {
     "name": "stdout",
     "output_type": "stream",
     "text": [
      "\n"
     ]
    },
    {
     "data": {
      "text/html": [
       "<div>\n",
       "<style scoped>\n",
       "    .dataframe tbody tr th:only-of-type {\n",
       "        vertical-align: middle;\n",
       "    }\n",
       "\n",
       "    .dataframe tbody tr th {\n",
       "        vertical-align: top;\n",
       "    }\n",
       "\n",
       "    .dataframe thead th {\n",
       "        text-align: right;\n",
       "    }\n",
       "</style>\n",
       "<table border=\"1\" class=\"dataframe\">\n",
       "  <thead>\n",
       "    <tr style=\"text-align: right;\">\n",
       "      <th></th>\n",
       "      <th>LIMIT_BAL</th>\n",
       "      <th>AGE</th>\n",
       "      <th>PAY_1</th>\n",
       "      <th>PAY_2</th>\n",
       "      <th>PAY_3</th>\n",
       "      <th>PAY_4</th>\n",
       "      <th>PAY_5</th>\n",
       "      <th>PAY_6</th>\n",
       "      <th>PAY_AMT1</th>\n",
       "      <th>PAY_AMT2</th>\n",
       "      <th>...</th>\n",
       "      <th>TOTAL_LATE_PAYMENT</th>\n",
       "      <th>RATIO</th>\n",
       "      <th>Female</th>\n",
       "      <th>Male</th>\n",
       "      <th>Graduate School</th>\n",
       "      <th>High School</th>\n",
       "      <th>University</th>\n",
       "      <th>Married</th>\n",
       "      <th>Others</th>\n",
       "      <th>Single</th>\n",
       "    </tr>\n",
       "  </thead>\n",
       "  <tbody>\n",
       "    <tr>\n",
       "      <th>count</th>\n",
       "      <td>6000.000000</td>\n",
       "      <td>6000.000000</td>\n",
       "      <td>6000.000000</td>\n",
       "      <td>6000.000000</td>\n",
       "      <td>6000.000000</td>\n",
       "      <td>6000.000000</td>\n",
       "      <td>6000.000000</td>\n",
       "      <td>6000.000000</td>\n",
       "      <td>6000.000000</td>\n",
       "      <td>6.000000e+03</td>\n",
       "      <td>...</td>\n",
       "      <td>6000.00000</td>\n",
       "      <td>6000.000000</td>\n",
       "      <td>6000.000000</td>\n",
       "      <td>6000.000000</td>\n",
       "      <td>6000.000000</td>\n",
       "      <td>6000.000000</td>\n",
       "      <td>6000.000000</td>\n",
       "      <td>6000.000000</td>\n",
       "      <td>6000.000000</td>\n",
       "      <td>6000.000000</td>\n",
       "    </tr>\n",
       "    <tr>\n",
       "      <th>mean</th>\n",
       "      <td>164996.000000</td>\n",
       "      <td>35.468833</td>\n",
       "      <td>-0.406833</td>\n",
       "      <td>-0.513167</td>\n",
       "      <td>-0.552833</td>\n",
       "      <td>-0.610333</td>\n",
       "      <td>-0.661500</td>\n",
       "      <td>-0.636833</td>\n",
       "      <td>5771.870667</td>\n",
       "      <td>6.017153e+03</td>\n",
       "      <td>...</td>\n",
       "      <td>0.86250</td>\n",
       "      <td>37.582964</td>\n",
       "      <td>0.604833</td>\n",
       "      <td>0.395167</td>\n",
       "      <td>0.350667</td>\n",
       "      <td>0.169000</td>\n",
       "      <td>0.480333</td>\n",
       "      <td>0.448667</td>\n",
       "      <td>0.012000</td>\n",
       "      <td>0.539333</td>\n",
       "    </tr>\n",
       "    <tr>\n",
       "      <th>std</th>\n",
       "      <td>128976.619892</td>\n",
       "      <td>9.270564</td>\n",
       "      <td>1.147260</td>\n",
       "      <td>1.169781</td>\n",
       "      <td>1.136262</td>\n",
       "      <td>1.085675</td>\n",
       "      <td>1.032035</td>\n",
       "      <td>1.055365</td>\n",
       "      <td>18964.261263</td>\n",
       "      <td>2.285713e+04</td>\n",
       "      <td>...</td>\n",
       "      <td>1.60863</td>\n",
       "      <td>34.968201</td>\n",
       "      <td>0.488927</td>\n",
       "      <td>0.488927</td>\n",
       "      <td>0.477219</td>\n",
       "      <td>0.374783</td>\n",
       "      <td>0.499655</td>\n",
       "      <td>0.497399</td>\n",
       "      <td>0.108894</td>\n",
       "      <td>0.498492</td>\n",
       "    </tr>\n",
       "    <tr>\n",
       "      <th>min</th>\n",
       "      <td>10000.000000</td>\n",
       "      <td>21.000000</td>\n",
       "      <td>-1.000000</td>\n",
       "      <td>-1.000000</td>\n",
       "      <td>-1.000000</td>\n",
       "      <td>-1.000000</td>\n",
       "      <td>-1.000000</td>\n",
       "      <td>-1.000000</td>\n",
       "      <td>0.000000</td>\n",
       "      <td>0.000000e+00</td>\n",
       "      <td>...</td>\n",
       "      <td>0.00000</td>\n",
       "      <td>-16.568750</td>\n",
       "      <td>0.000000</td>\n",
       "      <td>0.000000</td>\n",
       "      <td>0.000000</td>\n",
       "      <td>0.000000</td>\n",
       "      <td>0.000000</td>\n",
       "      <td>0.000000</td>\n",
       "      <td>0.000000</td>\n",
       "      <td>0.000000</td>\n",
       "    </tr>\n",
       "    <tr>\n",
       "      <th>25%</th>\n",
       "      <td>50000.000000</td>\n",
       "      <td>28.000000</td>\n",
       "      <td>-1.000000</td>\n",
       "      <td>-1.000000</td>\n",
       "      <td>-1.000000</td>\n",
       "      <td>-1.000000</td>\n",
       "      <td>-1.000000</td>\n",
       "      <td>-1.000000</td>\n",
       "      <td>996.750000</td>\n",
       "      <td>9.895000e+02</td>\n",
       "      <td>...</td>\n",
       "      <td>0.00000</td>\n",
       "      <td>3.135536</td>\n",
       "      <td>0.000000</td>\n",
       "      <td>0.000000</td>\n",
       "      <td>0.000000</td>\n",
       "      <td>0.000000</td>\n",
       "      <td>0.000000</td>\n",
       "      <td>0.000000</td>\n",
       "      <td>0.000000</td>\n",
       "      <td>0.000000</td>\n",
       "    </tr>\n",
       "    <tr>\n",
       "      <th>50%</th>\n",
       "      <td>140000.000000</td>\n",
       "      <td>34.000000</td>\n",
       "      <td>-1.000000</td>\n",
       "      <td>-1.000000</td>\n",
       "      <td>-1.000000</td>\n",
       "      <td>-1.000000</td>\n",
       "      <td>-1.000000</td>\n",
       "      <td>-1.000000</td>\n",
       "      <td>2095.500000</td>\n",
       "      <td>2.040000e+03</td>\n",
       "      <td>...</td>\n",
       "      <td>0.00000</td>\n",
       "      <td>28.931417</td>\n",
       "      <td>1.000000</td>\n",
       "      <td>0.000000</td>\n",
       "      <td>0.000000</td>\n",
       "      <td>0.000000</td>\n",
       "      <td>0.000000</td>\n",
       "      <td>0.000000</td>\n",
       "      <td>0.000000</td>\n",
       "      <td>1.000000</td>\n",
       "    </tr>\n",
       "    <tr>\n",
       "      <th>75%</th>\n",
       "      <td>230000.000000</td>\n",
       "      <td>42.000000</td>\n",
       "      <td>-1.000000</td>\n",
       "      <td>-1.000000</td>\n",
       "      <td>-1.000000</td>\n",
       "      <td>-1.000000</td>\n",
       "      <td>-1.000000</td>\n",
       "      <td>-1.000000</td>\n",
       "      <td>5000.000000</td>\n",
       "      <td>5.000000e+03</td>\n",
       "      <td>...</td>\n",
       "      <td>1.00000</td>\n",
       "      <td>69.691116</td>\n",
       "      <td>1.000000</td>\n",
       "      <td>1.000000</td>\n",
       "      <td>1.000000</td>\n",
       "      <td>0.000000</td>\n",
       "      <td>1.000000</td>\n",
       "      <td>1.000000</td>\n",
       "      <td>0.000000</td>\n",
       "      <td>1.000000</td>\n",
       "    </tr>\n",
       "    <tr>\n",
       "      <th>max</th>\n",
       "      <td>800000.000000</td>\n",
       "      <td>73.000000</td>\n",
       "      <td>8.000000</td>\n",
       "      <td>8.000000</td>\n",
       "      <td>8.000000</td>\n",
       "      <td>8.000000</td>\n",
       "      <td>7.000000</td>\n",
       "      <td>8.000000</td>\n",
       "      <td>873552.000000</td>\n",
       "      <td>1.215471e+06</td>\n",
       "      <td>...</td>\n",
       "      <td>6.00000</td>\n",
       "      <td>198.733333</td>\n",
       "      <td>1.000000</td>\n",
       "      <td>1.000000</td>\n",
       "      <td>1.000000</td>\n",
       "      <td>1.000000</td>\n",
       "      <td>1.000000</td>\n",
       "      <td>1.000000</td>\n",
       "      <td>1.000000</td>\n",
       "      <td>1.000000</td>\n",
       "    </tr>\n",
       "  </tbody>\n",
       "</table>\n",
       "<p>8 rows × 24 columns</p>\n",
       "</div>"
      ],
      "text/plain": [
       "           LIMIT_BAL          AGE        PAY_1        PAY_2        PAY_3  \\\n",
       "count    6000.000000  6000.000000  6000.000000  6000.000000  6000.000000   \n",
       "mean   164996.000000    35.468833    -0.406833    -0.513167    -0.552833   \n",
       "std    128976.619892     9.270564     1.147260     1.169781     1.136262   \n",
       "min     10000.000000    21.000000    -1.000000    -1.000000    -1.000000   \n",
       "25%     50000.000000    28.000000    -1.000000    -1.000000    -1.000000   \n",
       "50%    140000.000000    34.000000    -1.000000    -1.000000    -1.000000   \n",
       "75%    230000.000000    42.000000    -1.000000    -1.000000    -1.000000   \n",
       "max    800000.000000    73.000000     8.000000     8.000000     8.000000   \n",
       "\n",
       "             PAY_4        PAY_5        PAY_6       PAY_AMT1      PAY_AMT2  \\\n",
       "count  6000.000000  6000.000000  6000.000000    6000.000000  6.000000e+03   \n",
       "mean     -0.610333    -0.661500    -0.636833    5771.870667  6.017153e+03   \n",
       "std       1.085675     1.032035     1.055365   18964.261263  2.285713e+04   \n",
       "min      -1.000000    -1.000000    -1.000000       0.000000  0.000000e+00   \n",
       "25%      -1.000000    -1.000000    -1.000000     996.750000  9.895000e+02   \n",
       "50%      -1.000000    -1.000000    -1.000000    2095.500000  2.040000e+03   \n",
       "75%      -1.000000    -1.000000    -1.000000    5000.000000  5.000000e+03   \n",
       "max       8.000000     7.000000     8.000000  873552.000000  1.215471e+06   \n",
       "\n",
       "       ...  TOTAL_LATE_PAYMENT        RATIO       Female         Male  \\\n",
       "count  ...          6000.00000  6000.000000  6000.000000  6000.000000   \n",
       "mean   ...             0.86250    37.582964     0.604833     0.395167   \n",
       "std    ...             1.60863    34.968201     0.488927     0.488927   \n",
       "min    ...             0.00000   -16.568750     0.000000     0.000000   \n",
       "25%    ...             0.00000     3.135536     0.000000     0.000000   \n",
       "50%    ...             0.00000    28.931417     1.000000     0.000000   \n",
       "75%    ...             1.00000    69.691116     1.000000     1.000000   \n",
       "max    ...             6.00000   198.733333     1.000000     1.000000   \n",
       "\n",
       "       Graduate School  High School   University      Married       Others  \\\n",
       "count      6000.000000  6000.000000  6000.000000  6000.000000  6000.000000   \n",
       "mean          0.350667     0.169000     0.480333     0.448667     0.012000   \n",
       "std           0.477219     0.374783     0.499655     0.497399     0.108894   \n",
       "min           0.000000     0.000000     0.000000     0.000000     0.000000   \n",
       "25%           0.000000     0.000000     0.000000     0.000000     0.000000   \n",
       "50%           0.000000     0.000000     0.000000     0.000000     0.000000   \n",
       "75%           1.000000     0.000000     1.000000     1.000000     0.000000   \n",
       "max           1.000000     1.000000     1.000000     1.000000     1.000000   \n",
       "\n",
       "            Single  \n",
       "count  6000.000000  \n",
       "mean      0.539333  \n",
       "std       0.498492  \n",
       "min       0.000000  \n",
       "25%       0.000000  \n",
       "50%       1.000000  \n",
       "75%       1.000000  \n",
       "max       1.000000  \n",
       "\n",
       "[8 rows x 24 columns]"
      ]
     },
     "metadata": {},
     "output_type": "display_data"
    }
   ],
   "source": [
    "display(X_train.describe())\n",
    "print()\n",
    "display(X_test.describe())"
   ]
  },
  {
   "cell_type": "markdown",
   "metadata": {
    "id": "2ZJgaZI1Cd4e"
   },
   "source": [
    "### Scaling"
   ]
  },
  {
   "cell_type": "code",
   "execution_count": 88,
   "metadata": {
    "colab": {
     "base_uri": "https://localhost:8080/"
    },
    "id": "YNB_tsDbCJN-",
    "outputId": "91ba0a1a-2dc0-4654-aa55-160119472e9e"
   },
   "outputs": [
    {
     "name": "stdout",
     "output_type": "stream",
     "text": [
      "0.0 1.0\n",
      "0.0 1.7298059405940596\n"
     ]
    }
   ],
   "source": [
    "from sklearn.preprocessing import MinMaxScaler, StandardScaler\n",
    "scaler = MinMaxScaler() #by default, this will scale each column to between 0 and 1\n",
    "# scaler = StandardScaler() #by default, this will scale each column to a z-score (how many standard deviations from the mean)\n",
    "scaler.fit(X_train) #fit the scaler based on the scale of X_train, and then use the fitted scaler to transform both X_train and X_test (this is the correct way to use the scaler)\n",
    "X_train_scaled = scaler.transform(X_train)\n",
    "X_test_scaled = scaler.transform(X_test)\n",
    "\n",
    "print(X_train_scaled.min(), X_train_scaled.max())\n",
    "print(X_test_scaled.min(), X_test_scaled.max())"
   ]
  },
  {
   "cell_type": "markdown",
   "metadata": {
    "id": "3AxJhf-JCa9e"
   },
   "source": [
    "### Training"
   ]
  },
  {
   "cell_type": "code",
   "execution_count": 89,
   "metadata": {
    "colab": {
     "base_uri": "https://localhost:8080/"
    },
    "id": "pWN0R7qIizH_",
    "outputId": "8c3f5d4b-7a18-4379-beff-0a10415fae20"
   },
   "outputs": [
    {
     "data": {
      "text/plain": [
       "array([ 1,  4,  7, 10, 13, 16, 19, 22, 25, 28, 31, 34, 37, 40, 43, 46, 49])"
      ]
     },
     "execution_count": 89,
     "metadata": {},
     "output_type": "execute_result"
    }
   ],
   "source": [
    "# Number of neighbours to be tested\n",
    "k = np.arange(start=1, stop=50, step=3)\n",
    "k"
   ]
  },
  {
   "cell_type": "markdown",
   "metadata": {
    "id": "P0LtVc2tCpsO"
   },
   "source": [
    "### Testing"
   ]
  },
  {
   "cell_type": "code",
   "execution_count": 90,
   "metadata": {
    "colab": {
     "base_uri": "https://localhost:8080/"
    },
    "id": "v5Hmg19BCnie",
    "outputId": "a1da9813-e1fe-4e57-f37b-8e87e4f5fe5b"
   },
   "outputs": [
    {
     "name": "stdout",
     "output_type": "stream",
     "text": [
      "Number of Neighbours = 1\n",
      "Accuracy Score = 0.7293333333333333\n",
      "\n",
      "\n",
      "Number of Neighbours = 4\n",
      "Accuracy Score = 0.7971666666666667\n",
      "\n",
      "\n",
      "Number of Neighbours = 7\n",
      "Accuracy Score = 0.8025\n",
      "\n",
      "\n",
      "Number of Neighbours = 10\n",
      "Accuracy Score = 0.8086666666666666\n",
      "\n",
      "\n",
      "Number of Neighbours = 13\n",
      "Accuracy Score = 0.81\n",
      "\n",
      "\n",
      "Number of Neighbours = 16\n",
      "Accuracy Score = 0.8105\n",
      "\n",
      "\n",
      "Number of Neighbours = 19\n",
      "Accuracy Score = 0.8088333333333333\n",
      "\n",
      "\n",
      "Number of Neighbours = 22\n",
      "Accuracy Score = 0.8116666666666666\n",
      "\n",
      "\n",
      "Number of Neighbours = 25\n",
      "Accuracy Score = 0.812\n",
      "\n",
      "\n",
      "Number of Neighbours = 28\n",
      "Accuracy Score = 0.8121666666666667\n",
      "\n",
      "\n",
      "Number of Neighbours = 31\n",
      "Accuracy Score = 0.8105\n",
      "\n",
      "\n",
      "Number of Neighbours = 34\n",
      "Accuracy Score = 0.8106666666666666\n",
      "\n",
      "\n",
      "Number of Neighbours = 37\n",
      "Accuracy Score = 0.8085\n",
      "\n",
      "\n",
      "Number of Neighbours = 40\n",
      "Accuracy Score = 0.8076666666666666\n",
      "\n",
      "\n",
      "Number of Neighbours = 43\n",
      "Accuracy Score = 0.8066666666666666\n",
      "\n",
      "\n",
      "Number of Neighbours = 46\n",
      "Accuracy Score = 0.8078333333333333\n",
      "\n",
      "\n",
      "Number of Neighbours = 49\n",
      "Accuracy Score = 0.8075\n",
      "\n",
      "\n"
     ]
    }
   ],
   "source": [
    "from sklearn.neighbors import KNeighborsClassifier\n",
    "scores = [None]*len(k)\n",
    "for i in np.arange(len(k)):\n",
    "    print(f\"Number of Neighbours = {k[i]}\")\n",
    "    knn = KNeighborsClassifier(n_neighbors=k[i])\n",
    "    knn.fit(X_train_scaled, y_train)\n",
    "    y_pred = knn.predict(X_test_scaled)\n",
    "    scores[i] = accuracy_score(y_test, y_pred)\n",
    "    print(f\"Accuracy Score = {scores[i]}\")\n",
    "    print(\"\\n\")"
   ]
  },
  {
   "cell_type": "code",
   "execution_count": 91,
   "metadata": {
    "colab": {
     "base_uri": "https://localhost:8080/",
     "height": 351
    },
    "id": "TgnhIckHpFAQ",
    "outputId": "be1b2916-4e9a-4203-a116-5c123c36ed09"
   },
   "outputs": [
    {
     "data": {
      "text/plain": [
       "Text(0, 0.5, 'Average Accuracy Score')"
      ]
     },
     "execution_count": 91,
     "metadata": {},
     "output_type": "execute_result"
    },
    {
     "data": {
      "image/png": "[encoded data removed]",
      "text/plain": [
       "<Figure size 720x360 with 1 Axes>"
      ]
     },
     "metadata": {},
     "output_type": "display_data"
    }
   ],
   "source": [
    "plot_x = k\n",
    "plot_y = scores\n",
    "plt.figure(figsize=(10,5))\n",
    "plt.plot(plot_x, plot_y, 'bo--')\n",
    "plt.xlabel(\"k\")\n",
    "plt.ylabel(\"Average Accuracy Score\")"
   ]
  },
  {
   "cell_type": "code",
   "execution_count": 92,
   "metadata": {
    "colab": {
     "base_uri": "https://localhost:8080/"
    },
    "id": "mye-utFECwb_",
    "outputId": "e20f1fdf-4d15-4680-c0f8-6b951684b3a1"
   },
   "outputs": [
    {
     "name": "stdout",
     "output_type": "stream",
     "text": [
      "The best model has an accuracy of 0.8121666666666667 and uses 28 neigbours.\n"
     ]
    }
   ],
   "source": [
    "highest_acc = np.amax(a=scores)\n",
    "max_ind = np.argmax(a=scores)\n",
    "print(f\"The best model has an accuracy of {highest_acc} and uses {k[max_ind]} neigbours.\")"
   ]
  },
  {
   "cell_type": "code",
   "execution_count": 93,
   "metadata": {
    "colab": {
     "base_uri": "https://localhost:8080/",
     "height": 80
    },
    "id": "reH42Bo_NkKD",
    "outputId": "58987ed2-9970-49be-9d3b-27f5ffc21777"
   },
   "outputs": [
    {
     "data": {
      "text/html": [
       "<div>\n",
       "<style scoped>\n",
       "    .dataframe tbody tr th:only-of-type {\n",
       "        vertical-align: middle;\n",
       "    }\n",
       "\n",
       "    .dataframe tbody tr th {\n",
       "        vertical-align: top;\n",
       "    }\n",
       "\n",
       "    .dataframe thead th {\n",
       "        text-align: right;\n",
       "    }\n",
       "</style>\n",
       "<table border=\"1\" class=\"dataframe\">\n",
       "  <thead>\n",
       "    <tr style=\"text-align: right;\">\n",
       "      <th></th>\n",
       "      <th>Model</th>\n",
       "      <th>Accuracy</th>\n",
       "      <th>Precision</th>\n",
       "      <th>Recall</th>\n",
       "      <th>F1 Score</th>\n",
       "      <th>ROC</th>\n",
       "    </tr>\n",
       "  </thead>\n",
       "  <tbody>\n",
       "    <tr>\n",
       "      <th>0</th>\n",
       "      <td>KNN</td>\n",
       "      <td>0.8075</td>\n",
       "      <td>0.617084</td>\n",
       "      <td>0.318874</td>\n",
       "      <td>0.420472</td>\n",
       "      <td>0.631695</td>\n",
       "    </tr>\n",
       "  </tbody>\n",
       "</table>\n",
       "</div>"
      ],
      "text/plain": [
       "  Model  Accuracy  Precision    Recall  F1 Score       ROC\n",
       "0   KNN    0.8075   0.617084  0.318874  0.420472  0.631695"
      ]
     },
     "execution_count": 93,
     "metadata": {},
     "output_type": "execute_result"
    }
   ],
   "source": [
    "knn = KNeighborsClassifier(n_neighbors=k[max_ind])\n",
    "knn.fit(X_train_scaled, y_train)\n",
    "\n",
    "roc = roc_auc_score(y_test, y_pred)\n",
    "acc = accuracy_score(y_test, y_pred)\n",
    "prec = precision_score(y_test, y_pred)\n",
    "rec = recall_score(y_test, y_pred)\n",
    "f1 = f1_score(y_test, y_pred)\n",
    "\n",
    "results = pd.DataFrame([['KNN', acc, prec ,rec, f1, roc]],\n",
    "columns = ['Model', 'Accuracy', 'Precision', 'Recall', 'F1 Score','ROC'])\n",
    "\n",
    "results"
   ]
  },
  {
   "cell_type": "markdown",
   "metadata": {
    "id": "IHT3a4lZC5Bl"
   },
   "source": [
    "### Confusion Matrix"
   ]
  },
  {
   "cell_type": "code",
   "execution_count": 94,
   "metadata": {
    "colab": {
     "base_uri": "https://localhost:8080/",
     "height": 466
    },
    "id": "MOHcjCE0C7a2",
    "outputId": "218179da-4468-427e-bccc-ecc8fb664923"
   },
   "outputs": [
    {
     "name": "stderr",
     "output_type": "stream",
     "text": [
      "C:\\Users\\Khurram\\miniconda3\\envs\\uw\\lib\\site-packages\\sklearn\\utils\\deprecation.py:87: FutureWarning: Function plot_confusion_matrix is deprecated; Function `plot_confusion_matrix` is deprecated in 1.0 and will be removed in 1.2. Use one of the class methods: ConfusionMatrixDisplay.from_predictions or ConfusionMatrixDisplay.from_estimator.\n",
      "  warnings.warn(msg, category=FutureWarning)\n"
     ]
    },
    {
     "data": {
      "text/plain": [
       "<Figure size 2000x1500 with 0 Axes>"
      ]
     },
     "metadata": {},
     "output_type": "display_data"
    },
    {
     "data": {
      "image/png": "[encoded data removed]",
      "text/plain": [
       "<Figure size 640x480 with 2 Axes>"
      ]
     },
     "metadata": {},
     "output_type": "display_data"
    }
   ],
   "source": [
    "with plt.style.context(\"default\"): #temporarily set the plot style\n",
    "  fig = plt.figure(figsize=(20,15))\n",
    "  ax = plot_confusion_matrix(knn, X_test_scaled, y_test, values_format=\"\", cmap=\"Blues\")"
   ]
  },
  {
   "cell_type": "markdown",
   "metadata": {
    "id": "6I51eb4S-JwS"
   },
   "source": [
    "# Conclusion"
   ]
  },
  {
   "cell_type": "markdown",
   "metadata": {
    "id": "FGLQs-o8-LeX"
   },
   "source": [
    "Ramdon forest classifier can give us ~81% accuracy on whether a customer is likely to default next month.\n",
    "\n",
    "KNN classifier has a slightly lower accuracy score at ~80% in this case. \n",
    "\n",
    "The strongest predictors of default are the `PAY_X` or `TOTAL_LATE_PAY`), `LIMIT_BAL`,  `PAY_AMTX` (amount paid in previous months)."
   ]
  }
 ],
 "metadata": {
  "colab": {
   "collapsed_sections": [
    "_K0LXuOUsuqt",
    "hW3mUEowBho2",
    "16wZEDe1XoAd",
    "GRlZxYqcC-BM",
    "7YzeYQsLeJGm",
    "Gx7lOlw2hEeW",
    "P4OkkwgFjbNt",
    "kMpjxq4LJFoc",
    "rPRRcVn8akVv"
   ],
   "name": "Group Project_12.ipynb",
   "provenance": [],
   "toc_visible": true
  },
  "kernelspec": {
   "display_name": "Python 3 (ipykernel)",
   "language": "python",
   "name": "python3"
  },
  "language_info": {
   "codemirror_mode": {
    "name": "ipython",
    "version": 3
   },
   "file_extension": ".py",
   "mimetype": "text/x-python",
   "name": "python",
   "nbconvert_exporter": "python",
   "pygments_lexer": "ipython3",
   "version": "3.9.7"
  }
 },
 "nbformat": 4,
 "nbformat_minor": 1
}
